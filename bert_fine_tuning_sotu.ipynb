{
  "cells": [
    {
      "cell_type": "markdown",
      "source": [
        "# SOTU authroship attribution"
      ],
      "metadata": {
        "id": "34mV-N1fRjS1"
      }
    },
    {
      "cell_type": "markdown",
      "source": [
        "Fine-tuning DistilBERT for authorship attribution of SOTU presidential addresses. This notebook should be run on a GPU instance (we used a single V100 instance from Google Colab)."
      ],
      "metadata": {
        "id": "of1Tt-9dRPL5"
      }
    },
    {
      "cell_type": "markdown",
      "source": [
        "# Initializing"
      ],
      "metadata": {
        "id": "obbe8neIj1kn"
      }
    },
    {
      "cell_type": "code",
      "execution_count": 1,
      "metadata": {
        "colab": {
          "base_uri": "https://localhost:8080/"
        },
        "id": "guumQT1RPwb0",
        "outputId": "68737385-f903-44cd-b89a-b4b0fafc7764"
      },
      "outputs": [
        {
          "output_type": "stream",
          "name": "stdout",
          "text": [
            "Mounted at /content/drive\n"
          ]
        }
      ],
      "source": [
        "from google.colab import drive\n",
        "drive.mount('/content/drive')"
      ]
    },
    {
      "cell_type": "code",
      "source": [
        "# change the root directory for SOTU files, if necessary\n",
        "%cd drive/MyDrive/Colab\\ Notebooks/go-phish"
      ],
      "metadata": {
        "colab": {
          "base_uri": "https://localhost:8080/"
        },
        "id": "GZMAeL4mjuY-",
        "outputId": "a0f5ba0f-31f0-494b-8124-50408d777dce"
      },
      "execution_count": 2,
      "outputs": [
        {
          "output_type": "stream",
          "name": "stdout",
          "text": [
            "/content/drive/MyDrive/Colab Notebooks/go-phish\n"
          ]
        }
      ]
    },
    {
      "cell_type": "code",
      "execution_count": 3,
      "metadata": {
        "id": "YKTaDhirrMyG",
        "colab": {
          "base_uri": "https://localhost:8080/"
        },
        "outputId": "1ba1c626-b378-4294-8674-7a9581726c8d"
      },
      "outputs": [
        {
          "output_type": "stream",
          "name": "stdout",
          "text": [
            "\u001b[2K     \u001b[90m━━━━━━━━━━━━━━━━━━━━━━━━━━━━━━━━━━━━━━━━\u001b[0m \u001b[32m265.7/265.7 kB\u001b[0m \u001b[31m5.6 MB/s\u001b[0m eta \u001b[36m0:00:00\u001b[0m\n",
            "\u001b[2K     \u001b[90m━━━━━━━━━━━━━━━━━━━━━━━━━━━━━━━━━━━━━━━━\u001b[0m \u001b[32m521.2/521.2 kB\u001b[0m \u001b[31m7.8 MB/s\u001b[0m eta \u001b[36m0:00:00\u001b[0m\n",
            "\u001b[2K     \u001b[90m━━━━━━━━━━━━━━━━━━━━━━━━━━━━━━━━━━━━━━━━\u001b[0m \u001b[32m115.3/115.3 kB\u001b[0m \u001b[31m9.6 MB/s\u001b[0m eta \u001b[36m0:00:00\u001b[0m\n",
            "\u001b[2K     \u001b[90m━━━━━━━━━━━━━━━━━━━━━━━━━━━━━━━━━━━━━━━━\u001b[0m \u001b[32m134.8/134.8 kB\u001b[0m \u001b[31m10.6 MB/s\u001b[0m eta \u001b[36m0:00:00\u001b[0m\n",
            "\u001b[2K     \u001b[90m━━━━━━━━━━━━━━━━━━━━━━━━━━━━━━━━━━━━━━━━\u001b[0m \u001b[32m84.1/84.1 kB\u001b[0m \u001b[31m2.8 MB/s\u001b[0m eta \u001b[36m0:00:00\u001b[0m\n",
            "\u001b[?25h"
          ]
        }
      ],
      "source": [
        "!pip -q install --upgrade accelerate\n",
        "!pip -q install datasets\n",
        "!pip -q install tensorflow==2.14\n",
        "!pip -q install evaluate"
      ]
    },
    {
      "cell_type": "markdown",
      "source": [
        "# Imports"
      ],
      "metadata": {
        "id": "nw4L34D5kAJQ"
      }
    },
    {
      "cell_type": "code",
      "execution_count": 4,
      "metadata": {
        "id": "paFzH38WP72d"
      },
      "outputs": [],
      "source": [
        "from transformers import AutoTokenizer, AutoModelForSequenceClassification, TrainingArguments, Trainer\n",
        "import torch\n",
        "from torch.utils.data import DataLoader\n",
        "import pandas as pd\n",
        "import numpy as np\n",
        "import os\n",
        "import glob\n",
        "from datasets import Dataset\n",
        "import evaluate\n",
        "from collections import defaultdict\n",
        "from sklearn.metrics import accuracy_score"
      ]
    },
    {
      "cell_type": "markdown",
      "source": [
        "# Model and dataset"
      ],
      "metadata": {
        "id": "tg2sbUF_nYHA"
      }
    },
    {
      "cell_type": "markdown",
      "source": [
        "Using DistilBERT (faster and more lightweight than BERT)"
      ],
      "metadata": {
        "id": "4c8zfmXEkC8K"
      }
    },
    {
      "cell_type": "code",
      "execution_count": 5,
      "metadata": {
        "id": "u4xD_D0BkD-J",
        "colab": {
          "base_uri": "https://localhost:8080/",
          "height": 145,
          "referenced_widgets": [
            "4bd09bb1c8e045fea3dda133007279f7",
            "0d122f9a0a1c4937a57d847cc2b59c72",
            "4b9cc0ebc4494471ad5c360143df9a7b",
            "904081fd06d94113bdadeeb82b7129e1",
            "11b319d5faf746cfa469449952ea34e1",
            "47511b9ce921417d84c4aa5f904183b0",
            "7eb7678a1a3b41f19df2bc5fc618d7c1",
            "42ecf12c15ba49fb95092a014e32281f",
            "ddd0973bb16e4256aa3e4af67f5a0e8f",
            "17ee8f847d59454a82ed31e981b90837",
            "1fb8053b65ad484d8b7f2017b6c81ce6",
            "97b15f9706c24d00b38bb87a5c6e6ca3",
            "6feabfd879db4e9f8ffe7e6fd42d14e4",
            "e66b08cd7ad942bcb3dae0d4a36c106b",
            "ef701aec658748e49c1872607a3d8193",
            "d6af95826e9444e788271a5fa5debc79",
            "a44c6999c8254105b028021e4dc5f275",
            "a79a4f38cc8049098c5f06b5250fac5c",
            "8503c4f3dd3c4183a823b6f3820d4d18",
            "a099c852dc85460580df341494ba8ae8",
            "3529b6b68562422facd99c8c396e9187",
            "7ed8c9cd37f2422db52e5a04fa149cec",
            "2df78ad1b1b7420daf2d4b95a085a527",
            "45805784c1d149de93a7b1f3879bd3b0",
            "415b19949119489bbf79fdc8956e239e",
            "ebce5493dec44c6e9659eea744e44d5d",
            "c298bc0bb2534a51b3c92dd8697800e8",
            "c51f7d6535b54bc09dc0b5e7bdba1b97",
            "a8c05ee7c9674e77be25cafcf9dca440",
            "5553b50c3e7b4047b8917fb69cd725d5",
            "f0e4f8d125fd451489d928fb577b3b35",
            "83a10ccf7bad42a6983f07b8830d183b",
            "28607fd1bd9e458ca8395b1056294573",
            "dbfea168199e4718a357afa9d501e947",
            "9ed3b65868984ca7a4e7e377047c1012",
            "35b6f025388e4f239d426faaf0e5286a",
            "95b974b5869949c9a2e2b2ae80b88a93",
            "d17caee7428d45dc9a5270bf2b662fd3",
            "435eb3cd527d49ee82dd2a612d881607",
            "8c4c3339004b4e829944681b0ce79758",
            "150d72fe769a4552a71020a30a1d1a76",
            "ed0d0ad4638c47b781bce0a3d7620ed6",
            "ab251f413d0b4ea5b23405a87ef8fd31",
            "012b72d4c431406b912ae2d7aa5fce5e"
          ]
        },
        "outputId": "089f606f-41db-4b2d-8b8c-13729d1f23d1"
      },
      "outputs": [
        {
          "output_type": "display_data",
          "data": {
            "text/plain": [
              "tokenizer_config.json:   0%|          | 0.00/28.0 [00:00<?, ?B/s]"
            ],
            "application/vnd.jupyter.widget-view+json": {
              "version_major": 2,
              "version_minor": 0,
              "model_id": "4bd09bb1c8e045fea3dda133007279f7"
            }
          },
          "metadata": {}
        },
        {
          "output_type": "display_data",
          "data": {
            "text/plain": [
              "config.json:   0%|          | 0.00/483 [00:00<?, ?B/s]"
            ],
            "application/vnd.jupyter.widget-view+json": {
              "version_major": 2,
              "version_minor": 0,
              "model_id": "97b15f9706c24d00b38bb87a5c6e6ca3"
            }
          },
          "metadata": {}
        },
        {
          "output_type": "display_data",
          "data": {
            "text/plain": [
              "vocab.txt:   0%|          | 0.00/232k [00:00<?, ?B/s]"
            ],
            "application/vnd.jupyter.widget-view+json": {
              "version_major": 2,
              "version_minor": 0,
              "model_id": "2df78ad1b1b7420daf2d4b95a085a527"
            }
          },
          "metadata": {}
        },
        {
          "output_type": "display_data",
          "data": {
            "text/plain": [
              "tokenizer.json:   0%|          | 0.00/466k [00:00<?, ?B/s]"
            ],
            "application/vnd.jupyter.widget-view+json": {
              "version_major": 2,
              "version_minor": 0,
              "model_id": "dbfea168199e4718a357afa9d501e947"
            }
          },
          "metadata": {}
        }
      ],
      "source": [
        "checkpoint = \"distilbert-base-uncased\"\n",
        "tokenizer = AutoTokenizer.from_pretrained(checkpoint)"
      ]
    },
    {
      "cell_type": "markdown",
      "source": [
        "Tokenizer function"
      ],
      "metadata": {
        "id": "29aMSzx0kM_F"
      }
    },
    {
      "cell_type": "code",
      "execution_count": 6,
      "metadata": {
        "id": "HKOjYlIXnjmI"
      },
      "outputs": [],
      "source": [
        "def tokenize_function(examples):\n",
        "    return tokenizer(examples[\"text\"], padding=\"max_length\", truncation=True)"
      ]
    },
    {
      "cell_type": "markdown",
      "source": [
        "Function to chunk \"text\" into \"max_len\" words sliding windows with shift \"step_size\""
      ],
      "metadata": {
        "id": "5ErZ0WCMkQKf"
      }
    },
    {
      "cell_type": "code",
      "execution_count": 7,
      "metadata": {
        "id": "9p-17fsufHL8"
      },
      "outputs": [],
      "source": [
        "def chunk_text(text, label, max_length = 512, step_size = 128):\n",
        "    text = text.replace('\\n', ' ').split()\n",
        "    chunks = [' '.join(text[i:i+max_length]) for i in range(0, len(text), step_size)]\n",
        "    def make_dict(chunk):\n",
        "        return {'text':chunk, 'labels':label}\n",
        "    return list(map(make_dict, chunks))"
      ]
    },
    {
      "cell_type": "markdown",
      "source": [
        "Encoding the categorical labels for POTUS"
      ],
      "metadata": {
        "id": "fONztHRRkws_"
      }
    },
    {
      "cell_type": "code",
      "execution_count": 8,
      "metadata": {
        "id": "Ua9xFhmNQLdt"
      },
      "outputs": [],
      "source": [
        "from sklearn.preprocessing import LabelEncoder\n",
        "\n",
        "def encode_labels(labels, le = None):\n",
        "    if le is None:\n",
        "        le = LabelEncoder()\n",
        "        labs = le.fit_transform(labels)\n",
        "    else:\n",
        "        labs = le.transform(labels)\n",
        "    howmany = len(le.classes_)\n",
        "    return labs, howmany, le\n"
      ]
    },
    {
      "cell_type": "markdown",
      "source": [
        "Getting SOTU texts with their labels: either train texts (extension .train.txt), or test texts (extension .test.txt), or (None, None) if cannot find the right files"
      ],
      "metadata": {
        "id": "0l-1Zsksk4kt"
      }
    },
    {
      "cell_type": "code",
      "execution_count": 9,
      "metadata": {
        "id": "bA78a16xS32G"
      },
      "outputs": [],
      "source": [
        "def get_file_and_label(pathname):\n",
        "    filename = os.path.basename(pathname)\n",
        "    label = filename.split('_')[0]\n",
        "    with open(pathname, 'r') as f:\n",
        "      print(f'Acquiring file {filename}')\n",
        "      text = f.read()\n",
        "      return text, label\n",
        "    return None, None"
      ]
    },
    {
      "cell_type": "markdown",
      "source": [
        "Get the content of all train / test files chunked"
      ],
      "metadata": {
        "id": "AopgeV8wmAEq"
      }
    },
    {
      "cell_type": "code",
      "execution_count": 10,
      "metadata": {
        "id": "1t1VMT-MkTYT"
      },
      "outputs": [],
      "source": [
        "def get_all_files(dirname, train = True, **kwargs):\n",
        "    dataset = []\n",
        "    for pathname in os.listdir(dirname):\n",
        "      if (  train  ) and pathname.endswith(\".train.txt\"):\n",
        "        text, label = get_file_and_label(os.path.join(dirname, pathname))\n",
        "        tl = chunk_text(text, label, **kwargs)\n",
        "        dataset.extend(tl)\n",
        "      if (not train) and pathname.endswith(\".test.txt\"):\n",
        "        text, label = get_file_and_label(os.path.join(dirname, pathname))\n",
        "        tl = chunk_text(text, label, **kwargs)\n",
        "        dataset.extend(tl)\n",
        "    return dataset"
      ]
    },
    {
      "cell_type": "markdown",
      "source": [
        "Look in the root directory, among all SOTU subdirectories"
      ],
      "metadata": {
        "id": "tXbpZMZDmHFm"
      }
    },
    {
      "cell_type": "code",
      "execution_count": 11,
      "metadata": {
        "id": "4JR7Tkzvmrnr"
      },
      "outputs": [],
      "source": [
        "def get_all_dirs(train = True, le = None, **kwargs):\n",
        "    dataset = []\n",
        "    for dirname in glob.glob('sotu*'):\n",
        "      if os.path.isdir(dirname):\n",
        "        ds = get_all_files(dirname, train=train, **kwargs)\n",
        "        dataset.extend(ds)\n",
        "    texts = [d['text'] for d in dataset]\n",
        "    labels, num , le2 = encode_labels([d['labels'] for d in dataset], le)\n",
        "    thedict = {'text':texts, 'labels': labels}\n",
        "    return Dataset.from_dict(thedict), num, le2"
      ]
    },
    {
      "cell_type": "markdown",
      "source": [
        "Getting the dataset, total of POTUS, label encoder"
      ],
      "metadata": {
        "id": "ApE_yqd9mVz1"
      }
    },
    {
      "cell_type": "code",
      "execution_count": 12,
      "metadata": {
        "id": "E2LXd27RyM_c",
        "colab": {
          "base_uri": "https://localhost:8080/"
        },
        "outputId": "5c49e19f-8a17-45fe-b3f9-f8158c7b5a7f"
      },
      "outputs": [
        {
          "output_type": "stream",
          "name": "stdout",
          "text": [
            "Acquiring file Madison_1816.train.txt\n",
            "Acquiring file Madison_1811.train.txt\n",
            "Acquiring file Madison_1812.train.txt\n",
            "Acquiring file Madison_1809.train.txt\n",
            "Acquiring file Madison_1815.train.txt\n",
            "Acquiring file Madison_1813.train.txt\n",
            "Acquiring file RooseveltF_1934.train.txt\n",
            "Acquiring file RooseveltF_1943.train.txt\n",
            "Acquiring file RooseveltF_1935.train.txt\n",
            "Acquiring file RooseveltF_1938.train.txt\n",
            "Acquiring file RooseveltF_1941.train.txt\n",
            "Acquiring file RooseveltF_1939.train.txt\n",
            "Acquiring file RooseveltF_1937.train.txt\n",
            "Acquiring file RooseveltF_1942.train.txt\n",
            "Acquiring file RooseveltF_1945.train.txt\n",
            "Acquiring file Ford_1975.train.txt\n",
            "Acquiring file Ford_1976.train.txt\n",
            "Acquiring file Buchanan_1857.train.txt\n",
            "Acquiring file Buchanan_1859.train.txt\n",
            "Acquiring file Buchanan_1858.train.txt\n",
            "Acquiring file Cleveland_1887.train.txt\n",
            "Acquiring file Cleveland_1895.train.txt\n",
            "Acquiring file Cleveland_1888.train.txt\n",
            "Acquiring file Cleveland_1896.train.txt\n",
            "Acquiring file Cleveland_1893.train.txt\n",
            "Acquiring file Cleveland_1885.train.txt\n",
            "Acquiring file Washington_1791.train.txt\n",
            "Acquiring file Washington_1795.train.txt\n",
            "Acquiring file Washington_1794.train.txt\n",
            "Acquiring file Washington_1792.train.txt\n",
            "Acquiring file Washington_1790.train.txt\n",
            "Acquiring file RooseveltT_1901.train.txt\n",
            "Acquiring file RooseveltT_1907.train.txt\n",
            "Acquiring file RooseveltT_1908.train.txt\n",
            "Acquiring file RooseveltT_1905.train.txt\n",
            "Acquiring file RooseveltT_1904.train.txt\n",
            "Acquiring file RooseveltT_1903.train.txt\n",
            "Acquiring file Reagan_1987.train.txt\n",
            "Acquiring file Reagan_1985.train.txt\n",
            "Acquiring file Reagan_1983.train.txt\n",
            "Acquiring file Reagan_1984.train.txt\n",
            "Acquiring file Reagan_1988.train.txt\n",
            "Acquiring file AdamsSr_1800.train.txt\n",
            "Acquiring file AdamsSr_1797.train.txt\n",
            "Acquiring file AdamsSr_1799.train.txt\n",
            "Acquiring file Pierce_1853.train.txt\n",
            "Acquiring file Pierce_1856.train.txt\n",
            "Acquiring file Pierce_1854.train.txt\n",
            "Acquiring file Obama_2016.train.txt\n",
            "Acquiring file Obama_2012.train.txt\n",
            "Acquiring file Obama_2009.train.txt\n",
            "Acquiring file Obama_2011.train.txt\n",
            "Acquiring file Obama_2013.train.txt\n",
            "Acquiring file Obama_2015.train.txt\n",
            "Acquiring file Grant_1870.train.txt\n",
            "Acquiring file Grant_1869.train.txt\n",
            "Acquiring file Grant_1873.train.txt\n",
            "Acquiring file Grant_1871.train.txt\n",
            "Acquiring file Grant_1874.train.txt\n",
            "Acquiring file Grant_1875.train.txt\n",
            "Acquiring file Monroe_1819.train.txt\n",
            "Acquiring file Monroe_1818.train.txt\n",
            "Acquiring file Monroe_1821.train.txt\n",
            "Acquiring file Monroe_1823.train.txt\n",
            "Acquiring file Monroe_1817.train.txt\n",
            "Acquiring file Monroe_1822.train.txt\n",
            "Acquiring file Eisenhower_1959.train.txt\n",
            "Acquiring file Eisenhower_1957.train.txt\n",
            "Acquiring file Eisenhower_1960.train.txt\n",
            "Acquiring file Eisenhower_1955.train.txt\n",
            "Acquiring file Eisenhower_1961.train.txt\n",
            "Acquiring file Eisenhower_1956.train.txt\n",
            "Acquiring file Trump_2017.train.txt\n",
            "Acquiring file Wilson_1920.train.txt\n",
            "Acquiring file Wilson_1919.train.txt\n",
            "Acquiring file Wilson_1914.train.txt\n",
            "Acquiring file Wilson_1915.train.txt\n",
            "Acquiring file Wilson_1918.train.txt\n",
            "Acquiring file Wilson_1916.train.txt\n",
            "Acquiring file Carter_1980.train.txt\n",
            "Acquiring file Carter_1979.train.txt\n",
            "Acquiring file Carter_1981.train.txt\n",
            "Acquiring file BushSr_1992.train.txt\n",
            "Acquiring file BushSr_1989.train.txt\n",
            "Acquiring file BushSr_1991.train.txt\n",
            "Acquiring file Nixon_1971.train.txt\n",
            "Acquiring file Nixon_1972.train.txt\n",
            "Acquiring file Nixon_1973.train.txt\n",
            "Acquiring file Hayes_1877.train.txt\n",
            "Acquiring file Hayes_1880.train.txt\n",
            "Acquiring file Hayes_1878.train.txt\n",
            "Acquiring file Taft_1911.train.txt\n",
            "Acquiring file Taft_1910.train.txt\n",
            "Acquiring file Taft_1909.train.txt\n",
            "Acquiring file Coolidge_1927.train.txt\n",
            "Acquiring file Coolidge_1925.train.txt\n",
            "Acquiring file Coolidge_1924.train.txt\n",
            "Acquiring file Coolidge_1923.train.txt\n",
            "Acquiring file Jefferson_1808.train.txt\n",
            "Acquiring file Jefferson_1805.train.txt\n",
            "Acquiring file Jefferson_1804.train.txt\n",
            "Acquiring file Jefferson_1801.train.txt\n",
            "Acquiring file Jefferson_1803.train.txt\n",
            "Acquiring file Jefferson_1807.train.txt\n",
            "Acquiring file JohnsonA_1866.train.txt\n",
            "Acquiring file JohnsonA_1868.train.txt\n",
            "Acquiring file JohnsonA_1865.train.txt\n",
            "Acquiring file Harding_1922.train.txt\n",
            "Acquiring file Lincoln_1864.train.txt\n",
            "Acquiring file Lincoln_1862.train.txt\n",
            "Acquiring file Lincoln_1863.train.txt\n",
            "Acquiring file Hoover_1930.train.txt\n",
            "Acquiring file Hoover_1929.train.txt\n",
            "Acquiring file Hoover_1931.train.txt\n",
            "Acquiring file Clinton_2000.train.txt\n",
            "Acquiring file Clinton_1996.train.txt\n",
            "Acquiring file Clinton_1998.train.txt\n",
            "Acquiring file Clinton_1994.train.txt\n",
            "Acquiring file Clinton_1997.train.txt\n",
            "Acquiring file Clinton_1993.train.txt\n",
            "Acquiring file Arthur_1881.train.txt\n",
            "Acquiring file Arthur_1882.train.txt\n",
            "Acquiring file Arthur_1884.train.txt\n",
            "Acquiring file McKinley_1897.train.txt\n",
            "Acquiring file McKinley_1900.train.txt\n",
            "Acquiring file McKinley_1898.train.txt\n",
            "Acquiring file Taylor_1849.train.txt\n",
            "Acquiring file Tyler_1842.train.txt\n",
            "Acquiring file Tyler_1841.train.txt\n",
            "Acquiring file Tyler_1844.train.txt\n",
            "Acquiring file AdamsJr_1826.train.txt\n",
            "Acquiring file AdamsJr_1827.train.txt\n",
            "Acquiring file AdamsJr_1828.train.txt\n",
            "Acquiring file Jackson_1834.train.txt\n",
            "Acquiring file Jackson_1830.train.txt\n",
            "Acquiring file Jackson_1836.train.txt\n",
            "Acquiring file Jackson_1835.train.txt\n",
            "Acquiring file Jackson_1831.train.txt\n",
            "Acquiring file Jackson_1832.train.txt\n",
            "Acquiring file Buren_1839.train.txt\n",
            "Acquiring file Buren_1840.train.txt\n",
            "Acquiring file Buren_1838.train.txt\n",
            "Acquiring file Kennedy_1962.train.txt\n",
            "Acquiring file Truman_1951.train.txt\n",
            "Acquiring file Truman_1952.train.txt\n",
            "Acquiring file Truman_1949.train.txt\n",
            "Acquiring file Truman_1953.train.txt\n",
            "Acquiring file Truman_1948.train.txt\n",
            "Acquiring file Truman_1947.train.txt\n",
            "Acquiring file Harrison_1891.train.txt\n",
            "Acquiring file Harrison_1889.train.txt\n",
            "Acquiring file Harrison_1892.train.txt\n",
            "Acquiring file Fillmore_1850.train.txt\n",
            "Acquiring file Fillmore_1852.train.txt\n",
            "Acquiring file Polk_1846.train.txt\n",
            "Acquiring file Polk_1845.train.txt\n",
            "Acquiring file Polk_1847.train.txt\n",
            "Acquiring file JohnsonLB_1968.train.txt\n",
            "Acquiring file JohnsonLB_1967.train.txt\n",
            "Acquiring file JohnsonLB_1965.train.txt\n",
            "Acquiring file JohnsonLB_1964.train.txt\n",
            "Acquiring file BushJr_2005.train.txt\n",
            "Acquiring file BushJr_2007.train.txt\n",
            "Acquiring file BushJr_2006.train.txt\n",
            "Acquiring file BushJr_2003.train.txt\n",
            "Acquiring file BushJr_2002.train.txt\n",
            "Acquiring file BushJr_2001.train.txt\n"
          ]
        }
      ],
      "source": [
        "myds, nn, le = get_all_dirs(train=True, max_length=512, step_size=128)"
      ]
    },
    {
      "cell_type": "markdown",
      "source": [
        "Total of POTUS"
      ],
      "metadata": {
        "id": "AjpkhdtQmgfc"
      }
    },
    {
      "cell_type": "code",
      "execution_count": 13,
      "metadata": {
        "colab": {
          "base_uri": "https://localhost:8080/"
        },
        "id": "c9VI14_lzKuN",
        "outputId": "515a8f72-245e-45ef-a66c-79928fb50bc6"
      },
      "outputs": [
        {
          "output_type": "execute_result",
          "data": {
            "text/plain": [
              "42"
            ]
          },
          "metadata": {},
          "execution_count": 13
        }
      ],
      "source": [
        "nn"
      ]
    },
    {
      "cell_type": "markdown",
      "source": [
        "## Preprocessing and metrics"
      ],
      "metadata": {
        "id": "vAKCDQ9JnK1A"
      }
    },
    {
      "cell_type": "markdown",
      "source": [
        "Tokenizing the train dataset"
      ],
      "metadata": {
        "id": "sXDsoC1HmjRy"
      }
    },
    {
      "cell_type": "code",
      "execution_count": 31,
      "metadata": {
        "colab": {
          "base_uri": "https://localhost:8080/",
          "height": 49,
          "referenced_widgets": [
            "f19d05f0335f439ca28e915077a41066",
            "884c8643a9fc4fbead3aec73450bccc1",
            "e528c0136cfc42209e775ed825e08ec6",
            "9ce08afa67f64638a8338d38ca096d17",
            "b515457f49904a0290ed97166c6ef91b",
            "60065802ec154f5fa13c4a46bbabd57a",
            "3d45da86457e47c1a539ab338387bdc2",
            "a601ae2343ea4d7db30f873246821e74",
            "9b762ba0a488494aacbaaa5843f138ca",
            "637494195ba442a4ac0a0e949bf27172",
            "4f4e0d417d684238a74fb7bac851cfb0"
          ]
        },
        "id": "umbsZUSzp_0b",
        "outputId": "9c695c37-9d82-4de2-b8c2-43627df3cb02"
      },
      "outputs": [
        {
          "output_type": "display_data",
          "data": {
            "text/plain": [
              "Map:   0%|          | 0/10118 [00:00<?, ? examples/s]"
            ],
            "application/vnd.jupyter.widget-view+json": {
              "version_major": 2,
              "version_minor": 0,
              "model_id": "f19d05f0335f439ca28e915077a41066"
            }
          },
          "metadata": {}
        }
      ],
      "source": [
        "myds_tokenized = myds.map(tokenize_function, batched=True)"
      ]
    },
    {
      "cell_type": "markdown",
      "source": [
        "Model initialization"
      ],
      "metadata": {
        "id": "yP320R4Pmozb"
      }
    },
    {
      "cell_type": "code",
      "execution_count": 32,
      "metadata": {
        "colab": {
          "base_uri": "https://localhost:8080/"
        },
        "id": "n8ncoI0sprFo",
        "outputId": "3a8e88c1-9d21-445b-f574-03dfaaf3fde8"
      },
      "outputs": [
        {
          "output_type": "stream",
          "name": "stderr",
          "text": [
            "Some weights of DistilBertForSequenceClassification were not initialized from the model checkpoint at distilbert-base-uncased and are newly initialized: ['classifier.weight', 'pre_classifier.weight', 'classifier.bias', 'pre_classifier.bias']\n",
            "You should probably TRAIN this model on a down-stream task to be able to use it for predictions and inference.\n"
          ]
        }
      ],
      "source": [
        "model = AutoModelForSequenceClassification.from_pretrained(checkpoint, num_labels=nn)"
      ]
    },
    {
      "cell_type": "code",
      "source": [
        "print(model)"
      ],
      "metadata": {
        "colab": {
          "base_uri": "https://localhost:8080/"
        },
        "id": "SMbGzDiOH0oN",
        "outputId": "888e5db5-7d78-4f6b-ff1d-5bbbe4e1b020"
      },
      "execution_count": 33,
      "outputs": [
        {
          "output_type": "stream",
          "name": "stdout",
          "text": [
            "DistilBertForSequenceClassification(\n",
            "  (distilbert): DistilBertModel(\n",
            "    (embeddings): Embeddings(\n",
            "      (word_embeddings): Embedding(30522, 768, padding_idx=0)\n",
            "      (position_embeddings): Embedding(512, 768)\n",
            "      (LayerNorm): LayerNorm((768,), eps=1e-12, elementwise_affine=True)\n",
            "      (dropout): Dropout(p=0.1, inplace=False)\n",
            "    )\n",
            "    (transformer): Transformer(\n",
            "      (layer): ModuleList(\n",
            "        (0-5): 6 x TransformerBlock(\n",
            "          (attention): MultiHeadSelfAttention(\n",
            "            (dropout): Dropout(p=0.1, inplace=False)\n",
            "            (q_lin): Linear(in_features=768, out_features=768, bias=True)\n",
            "            (k_lin): Linear(in_features=768, out_features=768, bias=True)\n",
            "            (v_lin): Linear(in_features=768, out_features=768, bias=True)\n",
            "            (out_lin): Linear(in_features=768, out_features=768, bias=True)\n",
            "          )\n",
            "          (sa_layer_norm): LayerNorm((768,), eps=1e-12, elementwise_affine=True)\n",
            "          (ffn): FFN(\n",
            "            (dropout): Dropout(p=0.1, inplace=False)\n",
            "            (lin1): Linear(in_features=768, out_features=3072, bias=True)\n",
            "            (lin2): Linear(in_features=3072, out_features=768, bias=True)\n",
            "            (activation): GELUActivation()\n",
            "          )\n",
            "          (output_layer_norm): LayerNorm((768,), eps=1e-12, elementwise_affine=True)\n",
            "        )\n",
            "      )\n",
            "    )\n",
            "  )\n",
            "  (pre_classifier): Linear(in_features=768, out_features=768, bias=True)\n",
            "  (classifier): Linear(in_features=768, out_features=42, bias=True)\n",
            "  (dropout): Dropout(p=0.2, inplace=False)\n",
            ")\n"
          ]
        }
      ]
    },
    {
      "cell_type": "markdown",
      "source": [
        "Metric for evaluation"
      ],
      "metadata": {
        "id": "a7rCv_5Nmwry"
      }
    },
    {
      "cell_type": "code",
      "execution_count": 34,
      "metadata": {
        "id": "XKYTrqjFpqZd"
      },
      "outputs": [],
      "source": [
        "metric = evaluate.load('accuracy')"
      ]
    },
    {
      "cell_type": "code",
      "execution_count": 35,
      "metadata": {
        "id": "s1GwLUdu0DuM"
      },
      "outputs": [],
      "source": [
        "def compute_metrics(eval_pred):\n",
        "    logits, labels = eval_pred\n",
        "    predictions = np.argmax(logits, axis=-1)\n",
        "    return metric.compute(predictions=predictions, references=labels)"
      ]
    },
    {
      "cell_type": "markdown",
      "source": [
        "# Model training"
      ],
      "metadata": {
        "id": "ign8RjI3m4B4"
      }
    },
    {
      "cell_type": "markdown",
      "source": [
        "Training arguments and trainer initialization"
      ],
      "metadata": {
        "id": "2DwqNKCymzyT"
      }
    },
    {
      "cell_type": "code",
      "source": [
        "training_args = TrainingArguments(\n",
        "    output_dir='./results',          # output directory\n",
        "    evaluation_strategy = 'epoch',   # evaluation strategy\n",
        "    num_train_epochs = 6,            # total epochs\n",
        "    per_device_train_batch_size=16,  # batch size per device during training\n",
        ")"
      ],
      "metadata": {
        "id": "cKId5L_UjW47"
      },
      "execution_count": 36,
      "outputs": []
    },
    {
      "cell_type": "code",
      "execution_count": 37,
      "metadata": {
        "id": "2oHbVP4s1q3V"
      },
      "outputs": [],
      "source": [
        "trainer = Trainer(\n",
        "    model=model,                         # the instantiated 🤗 Transformers model to be trained\n",
        "    args=training_args,                  # training arguments, defined above\n",
        "    train_dataset=myds_tokenized,        # training dataset\n",
        "    eval_dataset=myds_tokenized,\n",
        "    compute_metrics=compute_metrics\n",
        ")"
      ]
    },
    {
      "cell_type": "markdown",
      "source": [
        "Training for 6 epochs"
      ],
      "metadata": {
        "id": "iZq10DPFnCNu"
      }
    },
    {
      "cell_type": "code",
      "execution_count": 38,
      "metadata": {
        "id": "xgtxm7zbsFDS",
        "colab": {
          "base_uri": "https://localhost:8080/",
          "height": 299
        },
        "outputId": "b380ae83-9aa7-4a61-8321-7c8230e60281"
      },
      "outputs": [
        {
          "output_type": "display_data",
          "data": {
            "text/plain": [
              "<IPython.core.display.HTML object>"
            ],
            "text/html": [
              "\n",
              "    <div>\n",
              "      \n",
              "      <progress value='3798' max='3798' style='width:300px; height:20px; vertical-align: middle;'></progress>\n",
              "      [3798/3798 21:57, Epoch 6/6]\n",
              "    </div>\n",
              "    <table border=\"1\" class=\"dataframe\">\n",
              "  <thead>\n",
              " <tr style=\"text-align: left;\">\n",
              "      <th>Epoch</th>\n",
              "      <th>Training Loss</th>\n",
              "      <th>Validation Loss</th>\n",
              "      <th>Accuracy</th>\n",
              "    </tr>\n",
              "  </thead>\n",
              "  <tbody>\n",
              "    <tr>\n",
              "      <td>1</td>\n",
              "      <td>2.328900</td>\n",
              "      <td>1.033118</td>\n",
              "      <td>0.709330</td>\n",
              "    </tr>\n",
              "    <tr>\n",
              "      <td>2</td>\n",
              "      <td>1.017400</td>\n",
              "      <td>0.341014</td>\n",
              "      <td>0.909962</td>\n",
              "    </tr>\n",
              "    <tr>\n",
              "      <td>3</td>\n",
              "      <td>0.499200</td>\n",
              "      <td>0.089301</td>\n",
              "      <td>0.981815</td>\n",
              "    </tr>\n",
              "    <tr>\n",
              "      <td>4</td>\n",
              "      <td>0.077900</td>\n",
              "      <td>0.018180</td>\n",
              "      <td>0.996541</td>\n",
              "    </tr>\n",
              "    <tr>\n",
              "      <td>5</td>\n",
              "      <td>0.024600</td>\n",
              "      <td>0.004094</td>\n",
              "      <td>0.999703</td>\n",
              "    </tr>\n",
              "    <tr>\n",
              "      <td>6</td>\n",
              "      <td>0.007200</td>\n",
              "      <td>0.002897</td>\n",
              "      <td>0.999703</td>\n",
              "    </tr>\n",
              "  </tbody>\n",
              "</table><p>"
            ]
          },
          "metadata": {}
        },
        {
          "output_type": "execute_result",
          "data": {
            "text/plain": [
              "TrainOutput(global_step=3798, training_loss=0.5489904647001534, metrics={'train_runtime': 1317.5296, 'train_samples_per_second': 46.077, 'train_steps_per_second': 2.883, 'total_flos': 8047567423070208.0, 'train_loss': 0.5489904647001534, 'epoch': 6.0})"
            ]
          },
          "metadata": {},
          "execution_count": 38
        }
      ],
      "source": [
        "trainer.train()"
      ]
    },
    {
      "cell_type": "markdown",
      "source": [
        "# Model evaluation"
      ],
      "metadata": {
        "id": "d88T4WZRnfJ1"
      }
    },
    {
      "cell_type": "markdown",
      "source": [
        "Test dataset"
      ],
      "metadata": {
        "id": "DX12m9OxnkLU"
      }
    },
    {
      "cell_type": "code",
      "execution_count": 39,
      "metadata": {
        "id": "ACTzGaausHZN",
        "colab": {
          "base_uri": "https://localhost:8080/"
        },
        "outputId": "889ec744-99ab-4177-a71d-9b6276a948a5"
      },
      "outputs": [
        {
          "output_type": "stream",
          "name": "stdout",
          "text": [
            "Acquiring file Madison_1814.test.txt\n",
            "Acquiring file Madison_1810.test.txt\n",
            "Acquiring file RooseveltF_1944.test.txt\n",
            "Acquiring file RooseveltF_1940.test.txt\n",
            "Acquiring file RooseveltF_1936.test.txt\n",
            "Acquiring file Ford_1977.test.txt\n",
            "Acquiring file Buchanan_1860.test.txt\n",
            "Acquiring file Cleveland_1886.test.txt\n",
            "Acquiring file Cleveland_1894.test.txt\n",
            "Acquiring file Washington_1793.test.txt\n",
            "Acquiring file Washington_1796.test.txt\n",
            "Acquiring file RooseveltT_1902.test.txt\n",
            "Acquiring file RooseveltT_1906.test.txt\n",
            "Acquiring file Reagan_1982.test.txt\n",
            "Acquiring file Reagan_1986.test.txt\n",
            "Acquiring file AdamsSr_1798.test.txt\n",
            "Acquiring file Pierce_1855.test.txt\n",
            "Acquiring file Obama_2010.test.txt\n",
            "Acquiring file Obama_2014.test.txt\n",
            "Acquiring file Grant_1872.test.txt\n",
            "Acquiring file Grant_1876.test.txt\n",
            "Acquiring file Monroe_1824.test.txt\n",
            "Acquiring file Monroe_1820.test.txt\n",
            "Acquiring file Eisenhower_1954.test.txt\n",
            "Acquiring file Eisenhower_1958.test.txt\n",
            "Acquiring file Trump_2018.test.txt\n",
            "Acquiring file Wilson_1917.test.txt\n",
            "Acquiring file Wilson_1913.test.txt\n",
            "Acquiring file Carter_1978.test.txt\n",
            "Acquiring file BushSr_1990.test.txt\n",
            "Acquiring file Nixon_1974.test.txt\n",
            "Acquiring file Nixon_1970.test.txt\n",
            "Acquiring file Hayes_1879.test.txt\n",
            "Acquiring file Taft_1912.test.txt\n",
            "Acquiring file Coolidge_1928.test.txt\n",
            "Acquiring file Coolidge_1926.test.txt\n",
            "Acquiring file Jefferson_1802.test.txt\n",
            "Acquiring file Jefferson_1806.test.txt\n",
            "Acquiring file JohnsonA_1867.test.txt\n",
            "Acquiring file Harding_1921.test.txt\n",
            "Acquiring file Lincoln_1861.test.txt\n",
            "Acquiring file Hoover_1932.test.txt\n",
            "Acquiring file Clinton_1999.test.txt\n",
            "Acquiring file Clinton_1995.test.txt\n",
            "Acquiring file Arthur_1883.test.txt\n",
            "Acquiring file McKinley_1899.test.txt\n",
            "Acquiring file Taylor_1849.test.txt\n",
            "Acquiring file Tyler_1843.test.txt\n",
            "Acquiring file AdamsJr_1825.test.txt\n",
            "Acquiring file Jackson_1829.test.txt\n",
            "Acquiring file Jackson_1833.test.txt\n",
            "Acquiring file Buren_1837.test.txt\n",
            "Acquiring file Kennedy_1963.test.txt\n",
            "Acquiring file Truman_1946.test.txt\n",
            "Acquiring file Truman_1950.test.txt\n",
            "Acquiring file Harrison_1890.test.txt\n",
            "Acquiring file Fillmore_1851.test.txt\n",
            "Acquiring file Polk_1848.test.txt\n",
            "Acquiring file JohnsonLB_1969.test.txt\n",
            "Acquiring file JohnsonLB_1966.test.txt\n",
            "Acquiring file BushJr_2008.test.txt\n",
            "Acquiring file BushJr_2004.test.txt\n"
          ]
        }
      ],
      "source": [
        "myds_test, nn, _ = get_all_dirs(train=False, le = le, max_length=512, step_size=128)"
      ]
    },
    {
      "cell_type": "markdown",
      "source": [
        "Tokenizing the test dataset"
      ],
      "metadata": {
        "id": "Y5yfl_Hxnmqg"
      }
    },
    {
      "cell_type": "code",
      "execution_count": 40,
      "metadata": {
        "id": "9XhejtmTKL0R",
        "colab": {
          "base_uri": "https://localhost:8080/",
          "height": 49,
          "referenced_widgets": [
            "a20f98d3885c4775b2afb9f18e94e35e",
            "ce0be76934564e0ebc503fe5bf0df137",
            "1c21cdd399fc42f29dfd7bfb8c070c1b",
            "ce26a822d8b44be18a2e391323fb7632",
            "bb5817af9782409994924696b525ba96",
            "19bc2da352044d97ad3c2574d84ec394",
            "b24bb4f640954724ba68a96864598fab",
            "aa40ff29c3584920934df377fc1a9236",
            "877c78127f734109856d2051e9af36fa",
            "f7ea36da22c64ee1adadda3987e25ff5",
            "ef89469a83514dc8b767f275a69203a5"
          ]
        },
        "outputId": "32f4c993-1311-4b23-a915-df6ff8accf06"
      },
      "outputs": [
        {
          "output_type": "display_data",
          "data": {
            "text/plain": [
              "Map:   0%|          | 0/3839 [00:00<?, ? examples/s]"
            ],
            "application/vnd.jupyter.widget-view+json": {
              "version_major": 2,
              "version_minor": 0,
              "model_id": "a20f98d3885c4775b2afb9f18e94e35e"
            }
          },
          "metadata": {}
        }
      ],
      "source": [
        "myds_test_tokenized = myds_test.map(tokenize_function, batched=True)"
      ]
    },
    {
      "cell_type": "code",
      "execution_count": 41,
      "metadata": {
        "id": "L2vi_OyTMdMw"
      },
      "outputs": [],
      "source": [
        "myds_test_tokenized = myds_test_tokenized.remove_columns([\"text\"])\n",
        "myds_test_tokenized.set_format(\"torch\")"
      ]
    },
    {
      "cell_type": "code",
      "execution_count": 42,
      "metadata": {
        "id": "xW8MoxDWEKhL"
      },
      "outputs": [],
      "source": [
        "eval_dataloader = DataLoader(myds_test_tokenized, batch_size=16)"
      ]
    },
    {
      "cell_type": "markdown",
      "source": [
        "Evaluating accuracy on chunks of text: this is a bad idea results in low accuracy"
      ],
      "metadata": {
        "id": "9OOKXcQmn-x-"
      }
    },
    {
      "cell_type": "code",
      "source": [
        "metric = evaluate.load(\"accuracy\")\n",
        "\n",
        "model.eval()\n",
        "for batch in eval_dataloader:\n",
        "    batch = {k: v.to('cuda') for k, v in batch.items()}\n",
        "    with torch.no_grad():\n",
        "        outputs = model(**batch)\n",
        "    logits = outputs.logits\n",
        "    predictions = torch.argmax(logits, dim=-1)\n",
        "    metric.add_batch(predictions=predictions, references=batch[\"labels\"])\n",
        "\n",
        "acc = metric.compute()\n",
        "print(f'Accuracy on text chunks: {acc}')"
      ],
      "metadata": {
        "id": "LHfGPGnmf46w",
        "colab": {
          "base_uri": "https://localhost:8080/"
        },
        "outputId": "91bdc331-a19e-48f6-f445-89fb13aed269"
      },
      "execution_count": 43,
      "outputs": [
        {
          "output_type": "stream",
          "name": "stdout",
          "text": [
            "Accuracy on text chunks: {'accuracy': 0.667621776504298}\n"
          ]
        }
      ]
    },
    {
      "cell_type": "markdown",
      "source": [
        "Averaging logits and taking the argmax: a great boost in accuracy (argmax voting)"
      ],
      "metadata": {
        "id": "ddqYHfaMoQVF"
      }
    },
    {
      "cell_type": "code",
      "source": [
        "# Initialize a defaultdict to accumulate logits and counts for each label\n",
        "label_logits_sum = defaultdict(lambda: torch.zeros(nn).to('cuda'))\n",
        "label_counts = defaultdict(int)\n",
        "\n",
        "model.eval()\n",
        "with torch.no_grad():\n",
        "    for batch in eval_dataloader:\n",
        "        batch = {k: v.to('cuda') for k, v in batch.items()}\n",
        "        outputs = model(**batch)\n",
        "        logits = outputs.logits\n",
        "        for i,k in enumerate(batch['labels']):\n",
        "          label_key = int(k.cpu().numpy())\n",
        "          logit_ind = i\n",
        "          label_logits_sum[label_key] += logits[logit_ind]\n",
        "          label_counts[label_key] += 1"
      ],
      "metadata": {
        "id": "Iv5v2h5eheCF"
      },
      "execution_count": 44,
      "outputs": []
    },
    {
      "cell_type": "code",
      "source": [
        "preds_from_avg_logits = {}\n",
        "for label_idx in range(nn):\n",
        "  if label_counts[label_idx] > 0:\n",
        "    preds_from_avg_logits[label_idx] = label_logits_sum[label_idx] / label_counts[label_idx]\n",
        "  else:\n",
        "    preds_from_avg_logits[label_idx] = .0\n",
        "  #preds_from_avg_logits[label_idx] = torch.softmax(preds_from_avg_logits[label_idx], dim=-1)\n",
        "  preds_from_avg_logits[label_idx] = torch.argmax(preds_from_avg_logits[label_idx])\n",
        "\n",
        "true_labels = np.array(list(preds_from_avg_logits.keys()))\n",
        "pred_labels = np.array([x.cpu().numpy() for x in list(preds_from_avg_logits.values())])\n",
        "\n",
        "acc = accuracy_score(true_labels, pred_labels)\n",
        "print(f'Accuracy with argmax voting: {acc}')"
      ],
      "metadata": {
        "id": "th4dPcESh1g9",
        "colab": {
          "base_uri": "https://localhost:8080/"
        },
        "outputId": "a73ec1c2-2e18-41cc-d449-1032fbf731af"
      },
      "execution_count": 45,
      "outputs": [
        {
          "output_type": "stream",
          "name": "stdout",
          "text": [
            "Accuracy with argmax voting: 0.9285714285714286\n"
          ]
        }
      ]
    }
  ],
  "metadata": {
    "accelerator": "GPU",
    "colab": {
      "machine_shape": "hm",
      "provenance": [],
      "gpuType": "V100"
    },
    "kernelspec": {
      "display_name": "Python 3",
      "name": "python3"
    },
    "language_info": {
      "name": "python"
    },
    "widgets": {
      "application/vnd.jupyter.widget-state+json": {
        "4bd09bb1c8e045fea3dda133007279f7": {
          "model_module": "@jupyter-widgets/controls",
          "model_name": "HBoxModel",
          "model_module_version": "1.5.0",
          "state": {
            "_dom_classes": [],
            "_model_module": "@jupyter-widgets/controls",
            "_model_module_version": "1.5.0",
            "_model_name": "HBoxModel",
            "_view_count": null,
            "_view_module": "@jupyter-widgets/controls",
            "_view_module_version": "1.5.0",
            "_view_name": "HBoxView",
            "box_style": "",
            "children": [
              "IPY_MODEL_0d122f9a0a1c4937a57d847cc2b59c72",
              "IPY_MODEL_4b9cc0ebc4494471ad5c360143df9a7b",
              "IPY_MODEL_904081fd06d94113bdadeeb82b7129e1"
            ],
            "layout": "IPY_MODEL_11b319d5faf746cfa469449952ea34e1"
          }
        },
        "0d122f9a0a1c4937a57d847cc2b59c72": {
          "model_module": "@jupyter-widgets/controls",
          "model_name": "HTMLModel",
          "model_module_version": "1.5.0",
          "state": {
            "_dom_classes": [],
            "_model_module": "@jupyter-widgets/controls",
            "_model_module_version": "1.5.0",
            "_model_name": "HTMLModel",
            "_view_count": null,
            "_view_module": "@jupyter-widgets/controls",
            "_view_module_version": "1.5.0",
            "_view_name": "HTMLView",
            "description": "",
            "description_tooltip": null,
            "layout": "IPY_MODEL_47511b9ce921417d84c4aa5f904183b0",
            "placeholder": "​",
            "style": "IPY_MODEL_7eb7678a1a3b41f19df2bc5fc618d7c1",
            "value": "tokenizer_config.json: 100%"
          }
        },
        "4b9cc0ebc4494471ad5c360143df9a7b": {
          "model_module": "@jupyter-widgets/controls",
          "model_name": "FloatProgressModel",
          "model_module_version": "1.5.0",
          "state": {
            "_dom_classes": [],
            "_model_module": "@jupyter-widgets/controls",
            "_model_module_version": "1.5.0",
            "_model_name": "FloatProgressModel",
            "_view_count": null,
            "_view_module": "@jupyter-widgets/controls",
            "_view_module_version": "1.5.0",
            "_view_name": "ProgressView",
            "bar_style": "success",
            "description": "",
            "description_tooltip": null,
            "layout": "IPY_MODEL_42ecf12c15ba49fb95092a014e32281f",
            "max": 28,
            "min": 0,
            "orientation": "horizontal",
            "style": "IPY_MODEL_ddd0973bb16e4256aa3e4af67f5a0e8f",
            "value": 28
          }
        },
        "904081fd06d94113bdadeeb82b7129e1": {
          "model_module": "@jupyter-widgets/controls",
          "model_name": "HTMLModel",
          "model_module_version": "1.5.0",
          "state": {
            "_dom_classes": [],
            "_model_module": "@jupyter-widgets/controls",
            "_model_module_version": "1.5.0",
            "_model_name": "HTMLModel",
            "_view_count": null,
            "_view_module": "@jupyter-widgets/controls",
            "_view_module_version": "1.5.0",
            "_view_name": "HTMLView",
            "description": "",
            "description_tooltip": null,
            "layout": "IPY_MODEL_17ee8f847d59454a82ed31e981b90837",
            "placeholder": "​",
            "style": "IPY_MODEL_1fb8053b65ad484d8b7f2017b6c81ce6",
            "value": " 28.0/28.0 [00:00&lt;00:00, 2.03kB/s]"
          }
        },
        "11b319d5faf746cfa469449952ea34e1": {
          "model_module": "@jupyter-widgets/base",
          "model_name": "LayoutModel",
          "model_module_version": "1.2.0",
          "state": {
            "_model_module": "@jupyter-widgets/base",
            "_model_module_version": "1.2.0",
            "_model_name": "LayoutModel",
            "_view_count": null,
            "_view_module": "@jupyter-widgets/base",
            "_view_module_version": "1.2.0",
            "_view_name": "LayoutView",
            "align_content": null,
            "align_items": null,
            "align_self": null,
            "border": null,
            "bottom": null,
            "display": null,
            "flex": null,
            "flex_flow": null,
            "grid_area": null,
            "grid_auto_columns": null,
            "grid_auto_flow": null,
            "grid_auto_rows": null,
            "grid_column": null,
            "grid_gap": null,
            "grid_row": null,
            "grid_template_areas": null,
            "grid_template_columns": null,
            "grid_template_rows": null,
            "height": null,
            "justify_content": null,
            "justify_items": null,
            "left": null,
            "margin": null,
            "max_height": null,
            "max_width": null,
            "min_height": null,
            "min_width": null,
            "object_fit": null,
            "object_position": null,
            "order": null,
            "overflow": null,
            "overflow_x": null,
            "overflow_y": null,
            "padding": null,
            "right": null,
            "top": null,
            "visibility": null,
            "width": null
          }
        },
        "47511b9ce921417d84c4aa5f904183b0": {
          "model_module": "@jupyter-widgets/base",
          "model_name": "LayoutModel",
          "model_module_version": "1.2.0",
          "state": {
            "_model_module": "@jupyter-widgets/base",
            "_model_module_version": "1.2.0",
            "_model_name": "LayoutModel",
            "_view_count": null,
            "_view_module": "@jupyter-widgets/base",
            "_view_module_version": "1.2.0",
            "_view_name": "LayoutView",
            "align_content": null,
            "align_items": null,
            "align_self": null,
            "border": null,
            "bottom": null,
            "display": null,
            "flex": null,
            "flex_flow": null,
            "grid_area": null,
            "grid_auto_columns": null,
            "grid_auto_flow": null,
            "grid_auto_rows": null,
            "grid_column": null,
            "grid_gap": null,
            "grid_row": null,
            "grid_template_areas": null,
            "grid_template_columns": null,
            "grid_template_rows": null,
            "height": null,
            "justify_content": null,
            "justify_items": null,
            "left": null,
            "margin": null,
            "max_height": null,
            "max_width": null,
            "min_height": null,
            "min_width": null,
            "object_fit": null,
            "object_position": null,
            "order": null,
            "overflow": null,
            "overflow_x": null,
            "overflow_y": null,
            "padding": null,
            "right": null,
            "top": null,
            "visibility": null,
            "width": null
          }
        },
        "7eb7678a1a3b41f19df2bc5fc618d7c1": {
          "model_module": "@jupyter-widgets/controls",
          "model_name": "DescriptionStyleModel",
          "model_module_version": "1.5.0",
          "state": {
            "_model_module": "@jupyter-widgets/controls",
            "_model_module_version": "1.5.0",
            "_model_name": "DescriptionStyleModel",
            "_view_count": null,
            "_view_module": "@jupyter-widgets/base",
            "_view_module_version": "1.2.0",
            "_view_name": "StyleView",
            "description_width": ""
          }
        },
        "42ecf12c15ba49fb95092a014e32281f": {
          "model_module": "@jupyter-widgets/base",
          "model_name": "LayoutModel",
          "model_module_version": "1.2.0",
          "state": {
            "_model_module": "@jupyter-widgets/base",
            "_model_module_version": "1.2.0",
            "_model_name": "LayoutModel",
            "_view_count": null,
            "_view_module": "@jupyter-widgets/base",
            "_view_module_version": "1.2.0",
            "_view_name": "LayoutView",
            "align_content": null,
            "align_items": null,
            "align_self": null,
            "border": null,
            "bottom": null,
            "display": null,
            "flex": null,
            "flex_flow": null,
            "grid_area": null,
            "grid_auto_columns": null,
            "grid_auto_flow": null,
            "grid_auto_rows": null,
            "grid_column": null,
            "grid_gap": null,
            "grid_row": null,
            "grid_template_areas": null,
            "grid_template_columns": null,
            "grid_template_rows": null,
            "height": null,
            "justify_content": null,
            "justify_items": null,
            "left": null,
            "margin": null,
            "max_height": null,
            "max_width": null,
            "min_height": null,
            "min_width": null,
            "object_fit": null,
            "object_position": null,
            "order": null,
            "overflow": null,
            "overflow_x": null,
            "overflow_y": null,
            "padding": null,
            "right": null,
            "top": null,
            "visibility": null,
            "width": null
          }
        },
        "ddd0973bb16e4256aa3e4af67f5a0e8f": {
          "model_module": "@jupyter-widgets/controls",
          "model_name": "ProgressStyleModel",
          "model_module_version": "1.5.0",
          "state": {
            "_model_module": "@jupyter-widgets/controls",
            "_model_module_version": "1.5.0",
            "_model_name": "ProgressStyleModel",
            "_view_count": null,
            "_view_module": "@jupyter-widgets/base",
            "_view_module_version": "1.2.0",
            "_view_name": "StyleView",
            "bar_color": null,
            "description_width": ""
          }
        },
        "17ee8f847d59454a82ed31e981b90837": {
          "model_module": "@jupyter-widgets/base",
          "model_name": "LayoutModel",
          "model_module_version": "1.2.0",
          "state": {
            "_model_module": "@jupyter-widgets/base",
            "_model_module_version": "1.2.0",
            "_model_name": "LayoutModel",
            "_view_count": null,
            "_view_module": "@jupyter-widgets/base",
            "_view_module_version": "1.2.0",
            "_view_name": "LayoutView",
            "align_content": null,
            "align_items": null,
            "align_self": null,
            "border": null,
            "bottom": null,
            "display": null,
            "flex": null,
            "flex_flow": null,
            "grid_area": null,
            "grid_auto_columns": null,
            "grid_auto_flow": null,
            "grid_auto_rows": null,
            "grid_column": null,
            "grid_gap": null,
            "grid_row": null,
            "grid_template_areas": null,
            "grid_template_columns": null,
            "grid_template_rows": null,
            "height": null,
            "justify_content": null,
            "justify_items": null,
            "left": null,
            "margin": null,
            "max_height": null,
            "max_width": null,
            "min_height": null,
            "min_width": null,
            "object_fit": null,
            "object_position": null,
            "order": null,
            "overflow": null,
            "overflow_x": null,
            "overflow_y": null,
            "padding": null,
            "right": null,
            "top": null,
            "visibility": null,
            "width": null
          }
        },
        "1fb8053b65ad484d8b7f2017b6c81ce6": {
          "model_module": "@jupyter-widgets/controls",
          "model_name": "DescriptionStyleModel",
          "model_module_version": "1.5.0",
          "state": {
            "_model_module": "@jupyter-widgets/controls",
            "_model_module_version": "1.5.0",
            "_model_name": "DescriptionStyleModel",
            "_view_count": null,
            "_view_module": "@jupyter-widgets/base",
            "_view_module_version": "1.2.0",
            "_view_name": "StyleView",
            "description_width": ""
          }
        },
        "97b15f9706c24d00b38bb87a5c6e6ca3": {
          "model_module": "@jupyter-widgets/controls",
          "model_name": "HBoxModel",
          "model_module_version": "1.5.0",
          "state": {
            "_dom_classes": [],
            "_model_module": "@jupyter-widgets/controls",
            "_model_module_version": "1.5.0",
            "_model_name": "HBoxModel",
            "_view_count": null,
            "_view_module": "@jupyter-widgets/controls",
            "_view_module_version": "1.5.0",
            "_view_name": "HBoxView",
            "box_style": "",
            "children": [
              "IPY_MODEL_6feabfd879db4e9f8ffe7e6fd42d14e4",
              "IPY_MODEL_e66b08cd7ad942bcb3dae0d4a36c106b",
              "IPY_MODEL_ef701aec658748e49c1872607a3d8193"
            ],
            "layout": "IPY_MODEL_d6af95826e9444e788271a5fa5debc79"
          }
        },
        "6feabfd879db4e9f8ffe7e6fd42d14e4": {
          "model_module": "@jupyter-widgets/controls",
          "model_name": "HTMLModel",
          "model_module_version": "1.5.0",
          "state": {
            "_dom_classes": [],
            "_model_module": "@jupyter-widgets/controls",
            "_model_module_version": "1.5.0",
            "_model_name": "HTMLModel",
            "_view_count": null,
            "_view_module": "@jupyter-widgets/controls",
            "_view_module_version": "1.5.0",
            "_view_name": "HTMLView",
            "description": "",
            "description_tooltip": null,
            "layout": "IPY_MODEL_a44c6999c8254105b028021e4dc5f275",
            "placeholder": "​",
            "style": "IPY_MODEL_a79a4f38cc8049098c5f06b5250fac5c",
            "value": "config.json: 100%"
          }
        },
        "e66b08cd7ad942bcb3dae0d4a36c106b": {
          "model_module": "@jupyter-widgets/controls",
          "model_name": "FloatProgressModel",
          "model_module_version": "1.5.0",
          "state": {
            "_dom_classes": [],
            "_model_module": "@jupyter-widgets/controls",
            "_model_module_version": "1.5.0",
            "_model_name": "FloatProgressModel",
            "_view_count": null,
            "_view_module": "@jupyter-widgets/controls",
            "_view_module_version": "1.5.0",
            "_view_name": "ProgressView",
            "bar_style": "success",
            "description": "",
            "description_tooltip": null,
            "layout": "IPY_MODEL_8503c4f3dd3c4183a823b6f3820d4d18",
            "max": 483,
            "min": 0,
            "orientation": "horizontal",
            "style": "IPY_MODEL_a099c852dc85460580df341494ba8ae8",
            "value": 483
          }
        },
        "ef701aec658748e49c1872607a3d8193": {
          "model_module": "@jupyter-widgets/controls",
          "model_name": "HTMLModel",
          "model_module_version": "1.5.0",
          "state": {
            "_dom_classes": [],
            "_model_module": "@jupyter-widgets/controls",
            "_model_module_version": "1.5.0",
            "_model_name": "HTMLModel",
            "_view_count": null,
            "_view_module": "@jupyter-widgets/controls",
            "_view_module_version": "1.5.0",
            "_view_name": "HTMLView",
            "description": "",
            "description_tooltip": null,
            "layout": "IPY_MODEL_3529b6b68562422facd99c8c396e9187",
            "placeholder": "​",
            "style": "IPY_MODEL_7ed8c9cd37f2422db52e5a04fa149cec",
            "value": " 483/483 [00:00&lt;00:00, 36.6kB/s]"
          }
        },
        "d6af95826e9444e788271a5fa5debc79": {
          "model_module": "@jupyter-widgets/base",
          "model_name": "LayoutModel",
          "model_module_version": "1.2.0",
          "state": {
            "_model_module": "@jupyter-widgets/base",
            "_model_module_version": "1.2.0",
            "_model_name": "LayoutModel",
            "_view_count": null,
            "_view_module": "@jupyter-widgets/base",
            "_view_module_version": "1.2.0",
            "_view_name": "LayoutView",
            "align_content": null,
            "align_items": null,
            "align_self": null,
            "border": null,
            "bottom": null,
            "display": null,
            "flex": null,
            "flex_flow": null,
            "grid_area": null,
            "grid_auto_columns": null,
            "grid_auto_flow": null,
            "grid_auto_rows": null,
            "grid_column": null,
            "grid_gap": null,
            "grid_row": null,
            "grid_template_areas": null,
            "grid_template_columns": null,
            "grid_template_rows": null,
            "height": null,
            "justify_content": null,
            "justify_items": null,
            "left": null,
            "margin": null,
            "max_height": null,
            "max_width": null,
            "min_height": null,
            "min_width": null,
            "object_fit": null,
            "object_position": null,
            "order": null,
            "overflow": null,
            "overflow_x": null,
            "overflow_y": null,
            "padding": null,
            "right": null,
            "top": null,
            "visibility": null,
            "width": null
          }
        },
        "a44c6999c8254105b028021e4dc5f275": {
          "model_module": "@jupyter-widgets/base",
          "model_name": "LayoutModel",
          "model_module_version": "1.2.0",
          "state": {
            "_model_module": "@jupyter-widgets/base",
            "_model_module_version": "1.2.0",
            "_model_name": "LayoutModel",
            "_view_count": null,
            "_view_module": "@jupyter-widgets/base",
            "_view_module_version": "1.2.0",
            "_view_name": "LayoutView",
            "align_content": null,
            "align_items": null,
            "align_self": null,
            "border": null,
            "bottom": null,
            "display": null,
            "flex": null,
            "flex_flow": null,
            "grid_area": null,
            "grid_auto_columns": null,
            "grid_auto_flow": null,
            "grid_auto_rows": null,
            "grid_column": null,
            "grid_gap": null,
            "grid_row": null,
            "grid_template_areas": null,
            "grid_template_columns": null,
            "grid_template_rows": null,
            "height": null,
            "justify_content": null,
            "justify_items": null,
            "left": null,
            "margin": null,
            "max_height": null,
            "max_width": null,
            "min_height": null,
            "min_width": null,
            "object_fit": null,
            "object_position": null,
            "order": null,
            "overflow": null,
            "overflow_x": null,
            "overflow_y": null,
            "padding": null,
            "right": null,
            "top": null,
            "visibility": null,
            "width": null
          }
        },
        "a79a4f38cc8049098c5f06b5250fac5c": {
          "model_module": "@jupyter-widgets/controls",
          "model_name": "DescriptionStyleModel",
          "model_module_version": "1.5.0",
          "state": {
            "_model_module": "@jupyter-widgets/controls",
            "_model_module_version": "1.5.0",
            "_model_name": "DescriptionStyleModel",
            "_view_count": null,
            "_view_module": "@jupyter-widgets/base",
            "_view_module_version": "1.2.0",
            "_view_name": "StyleView",
            "description_width": ""
          }
        },
        "8503c4f3dd3c4183a823b6f3820d4d18": {
          "model_module": "@jupyter-widgets/base",
          "model_name": "LayoutModel",
          "model_module_version": "1.2.0",
          "state": {
            "_model_module": "@jupyter-widgets/base",
            "_model_module_version": "1.2.0",
            "_model_name": "LayoutModel",
            "_view_count": null,
            "_view_module": "@jupyter-widgets/base",
            "_view_module_version": "1.2.0",
            "_view_name": "LayoutView",
            "align_content": null,
            "align_items": null,
            "align_self": null,
            "border": null,
            "bottom": null,
            "display": null,
            "flex": null,
            "flex_flow": null,
            "grid_area": null,
            "grid_auto_columns": null,
            "grid_auto_flow": null,
            "grid_auto_rows": null,
            "grid_column": null,
            "grid_gap": null,
            "grid_row": null,
            "grid_template_areas": null,
            "grid_template_columns": null,
            "grid_template_rows": null,
            "height": null,
            "justify_content": null,
            "justify_items": null,
            "left": null,
            "margin": null,
            "max_height": null,
            "max_width": null,
            "min_height": null,
            "min_width": null,
            "object_fit": null,
            "object_position": null,
            "order": null,
            "overflow": null,
            "overflow_x": null,
            "overflow_y": null,
            "padding": null,
            "right": null,
            "top": null,
            "visibility": null,
            "width": null
          }
        },
        "a099c852dc85460580df341494ba8ae8": {
          "model_module": "@jupyter-widgets/controls",
          "model_name": "ProgressStyleModel",
          "model_module_version": "1.5.0",
          "state": {
            "_model_module": "@jupyter-widgets/controls",
            "_model_module_version": "1.5.0",
            "_model_name": "ProgressStyleModel",
            "_view_count": null,
            "_view_module": "@jupyter-widgets/base",
            "_view_module_version": "1.2.0",
            "_view_name": "StyleView",
            "bar_color": null,
            "description_width": ""
          }
        },
        "3529b6b68562422facd99c8c396e9187": {
          "model_module": "@jupyter-widgets/base",
          "model_name": "LayoutModel",
          "model_module_version": "1.2.0",
          "state": {
            "_model_module": "@jupyter-widgets/base",
            "_model_module_version": "1.2.0",
            "_model_name": "LayoutModel",
            "_view_count": null,
            "_view_module": "@jupyter-widgets/base",
            "_view_module_version": "1.2.0",
            "_view_name": "LayoutView",
            "align_content": null,
            "align_items": null,
            "align_self": null,
            "border": null,
            "bottom": null,
            "display": null,
            "flex": null,
            "flex_flow": null,
            "grid_area": null,
            "grid_auto_columns": null,
            "grid_auto_flow": null,
            "grid_auto_rows": null,
            "grid_column": null,
            "grid_gap": null,
            "grid_row": null,
            "grid_template_areas": null,
            "grid_template_columns": null,
            "grid_template_rows": null,
            "height": null,
            "justify_content": null,
            "justify_items": null,
            "left": null,
            "margin": null,
            "max_height": null,
            "max_width": null,
            "min_height": null,
            "min_width": null,
            "object_fit": null,
            "object_position": null,
            "order": null,
            "overflow": null,
            "overflow_x": null,
            "overflow_y": null,
            "padding": null,
            "right": null,
            "top": null,
            "visibility": null,
            "width": null
          }
        },
        "7ed8c9cd37f2422db52e5a04fa149cec": {
          "model_module": "@jupyter-widgets/controls",
          "model_name": "DescriptionStyleModel",
          "model_module_version": "1.5.0",
          "state": {
            "_model_module": "@jupyter-widgets/controls",
            "_model_module_version": "1.5.0",
            "_model_name": "DescriptionStyleModel",
            "_view_count": null,
            "_view_module": "@jupyter-widgets/base",
            "_view_module_version": "1.2.0",
            "_view_name": "StyleView",
            "description_width": ""
          }
        },
        "2df78ad1b1b7420daf2d4b95a085a527": {
          "model_module": "@jupyter-widgets/controls",
          "model_name": "HBoxModel",
          "model_module_version": "1.5.0",
          "state": {
            "_dom_classes": [],
            "_model_module": "@jupyter-widgets/controls",
            "_model_module_version": "1.5.0",
            "_model_name": "HBoxModel",
            "_view_count": null,
            "_view_module": "@jupyter-widgets/controls",
            "_view_module_version": "1.5.0",
            "_view_name": "HBoxView",
            "box_style": "",
            "children": [
              "IPY_MODEL_45805784c1d149de93a7b1f3879bd3b0",
              "IPY_MODEL_415b19949119489bbf79fdc8956e239e",
              "IPY_MODEL_ebce5493dec44c6e9659eea744e44d5d"
            ],
            "layout": "IPY_MODEL_c298bc0bb2534a51b3c92dd8697800e8"
          }
        },
        "45805784c1d149de93a7b1f3879bd3b0": {
          "model_module": "@jupyter-widgets/controls",
          "model_name": "HTMLModel",
          "model_module_version": "1.5.0",
          "state": {
            "_dom_classes": [],
            "_model_module": "@jupyter-widgets/controls",
            "_model_module_version": "1.5.0",
            "_model_name": "HTMLModel",
            "_view_count": null,
            "_view_module": "@jupyter-widgets/controls",
            "_view_module_version": "1.5.0",
            "_view_name": "HTMLView",
            "description": "",
            "description_tooltip": null,
            "layout": "IPY_MODEL_c51f7d6535b54bc09dc0b5e7bdba1b97",
            "placeholder": "​",
            "style": "IPY_MODEL_a8c05ee7c9674e77be25cafcf9dca440",
            "value": "vocab.txt: 100%"
          }
        },
        "415b19949119489bbf79fdc8956e239e": {
          "model_module": "@jupyter-widgets/controls",
          "model_name": "FloatProgressModel",
          "model_module_version": "1.5.0",
          "state": {
            "_dom_classes": [],
            "_model_module": "@jupyter-widgets/controls",
            "_model_module_version": "1.5.0",
            "_model_name": "FloatProgressModel",
            "_view_count": null,
            "_view_module": "@jupyter-widgets/controls",
            "_view_module_version": "1.5.0",
            "_view_name": "ProgressView",
            "bar_style": "success",
            "description": "",
            "description_tooltip": null,
            "layout": "IPY_MODEL_5553b50c3e7b4047b8917fb69cd725d5",
            "max": 231508,
            "min": 0,
            "orientation": "horizontal",
            "style": "IPY_MODEL_f0e4f8d125fd451489d928fb577b3b35",
            "value": 231508
          }
        },
        "ebce5493dec44c6e9659eea744e44d5d": {
          "model_module": "@jupyter-widgets/controls",
          "model_name": "HTMLModel",
          "model_module_version": "1.5.0",
          "state": {
            "_dom_classes": [],
            "_model_module": "@jupyter-widgets/controls",
            "_model_module_version": "1.5.0",
            "_model_name": "HTMLModel",
            "_view_count": null,
            "_view_module": "@jupyter-widgets/controls",
            "_view_module_version": "1.5.0",
            "_view_name": "HTMLView",
            "description": "",
            "description_tooltip": null,
            "layout": "IPY_MODEL_83a10ccf7bad42a6983f07b8830d183b",
            "placeholder": "​",
            "style": "IPY_MODEL_28607fd1bd9e458ca8395b1056294573",
            "value": " 232k/232k [00:00&lt;00:00, 6.85MB/s]"
          }
        },
        "c298bc0bb2534a51b3c92dd8697800e8": {
          "model_module": "@jupyter-widgets/base",
          "model_name": "LayoutModel",
          "model_module_version": "1.2.0",
          "state": {
            "_model_module": "@jupyter-widgets/base",
            "_model_module_version": "1.2.0",
            "_model_name": "LayoutModel",
            "_view_count": null,
            "_view_module": "@jupyter-widgets/base",
            "_view_module_version": "1.2.0",
            "_view_name": "LayoutView",
            "align_content": null,
            "align_items": null,
            "align_self": null,
            "border": null,
            "bottom": null,
            "display": null,
            "flex": null,
            "flex_flow": null,
            "grid_area": null,
            "grid_auto_columns": null,
            "grid_auto_flow": null,
            "grid_auto_rows": null,
            "grid_column": null,
            "grid_gap": null,
            "grid_row": null,
            "grid_template_areas": null,
            "grid_template_columns": null,
            "grid_template_rows": null,
            "height": null,
            "justify_content": null,
            "justify_items": null,
            "left": null,
            "margin": null,
            "max_height": null,
            "max_width": null,
            "min_height": null,
            "min_width": null,
            "object_fit": null,
            "object_position": null,
            "order": null,
            "overflow": null,
            "overflow_x": null,
            "overflow_y": null,
            "padding": null,
            "right": null,
            "top": null,
            "visibility": null,
            "width": null
          }
        },
        "c51f7d6535b54bc09dc0b5e7bdba1b97": {
          "model_module": "@jupyter-widgets/base",
          "model_name": "LayoutModel",
          "model_module_version": "1.2.0",
          "state": {
            "_model_module": "@jupyter-widgets/base",
            "_model_module_version": "1.2.0",
            "_model_name": "LayoutModel",
            "_view_count": null,
            "_view_module": "@jupyter-widgets/base",
            "_view_module_version": "1.2.0",
            "_view_name": "LayoutView",
            "align_content": null,
            "align_items": null,
            "align_self": null,
            "border": null,
            "bottom": null,
            "display": null,
            "flex": null,
            "flex_flow": null,
            "grid_area": null,
            "grid_auto_columns": null,
            "grid_auto_flow": null,
            "grid_auto_rows": null,
            "grid_column": null,
            "grid_gap": null,
            "grid_row": null,
            "grid_template_areas": null,
            "grid_template_columns": null,
            "grid_template_rows": null,
            "height": null,
            "justify_content": null,
            "justify_items": null,
            "left": null,
            "margin": null,
            "max_height": null,
            "max_width": null,
            "min_height": null,
            "min_width": null,
            "object_fit": null,
            "object_position": null,
            "order": null,
            "overflow": null,
            "overflow_x": null,
            "overflow_y": null,
            "padding": null,
            "right": null,
            "top": null,
            "visibility": null,
            "width": null
          }
        },
        "a8c05ee7c9674e77be25cafcf9dca440": {
          "model_module": "@jupyter-widgets/controls",
          "model_name": "DescriptionStyleModel",
          "model_module_version": "1.5.0",
          "state": {
            "_model_module": "@jupyter-widgets/controls",
            "_model_module_version": "1.5.0",
            "_model_name": "DescriptionStyleModel",
            "_view_count": null,
            "_view_module": "@jupyter-widgets/base",
            "_view_module_version": "1.2.0",
            "_view_name": "StyleView",
            "description_width": ""
          }
        },
        "5553b50c3e7b4047b8917fb69cd725d5": {
          "model_module": "@jupyter-widgets/base",
          "model_name": "LayoutModel",
          "model_module_version": "1.2.0",
          "state": {
            "_model_module": "@jupyter-widgets/base",
            "_model_module_version": "1.2.0",
            "_model_name": "LayoutModel",
            "_view_count": null,
            "_view_module": "@jupyter-widgets/base",
            "_view_module_version": "1.2.0",
            "_view_name": "LayoutView",
            "align_content": null,
            "align_items": null,
            "align_self": null,
            "border": null,
            "bottom": null,
            "display": null,
            "flex": null,
            "flex_flow": null,
            "grid_area": null,
            "grid_auto_columns": null,
            "grid_auto_flow": null,
            "grid_auto_rows": null,
            "grid_column": null,
            "grid_gap": null,
            "grid_row": null,
            "grid_template_areas": null,
            "grid_template_columns": null,
            "grid_template_rows": null,
            "height": null,
            "justify_content": null,
            "justify_items": null,
            "left": null,
            "margin": null,
            "max_height": null,
            "max_width": null,
            "min_height": null,
            "min_width": null,
            "object_fit": null,
            "object_position": null,
            "order": null,
            "overflow": null,
            "overflow_x": null,
            "overflow_y": null,
            "padding": null,
            "right": null,
            "top": null,
            "visibility": null,
            "width": null
          }
        },
        "f0e4f8d125fd451489d928fb577b3b35": {
          "model_module": "@jupyter-widgets/controls",
          "model_name": "ProgressStyleModel",
          "model_module_version": "1.5.0",
          "state": {
            "_model_module": "@jupyter-widgets/controls",
            "_model_module_version": "1.5.0",
            "_model_name": "ProgressStyleModel",
            "_view_count": null,
            "_view_module": "@jupyter-widgets/base",
            "_view_module_version": "1.2.0",
            "_view_name": "StyleView",
            "bar_color": null,
            "description_width": ""
          }
        },
        "83a10ccf7bad42a6983f07b8830d183b": {
          "model_module": "@jupyter-widgets/base",
          "model_name": "LayoutModel",
          "model_module_version": "1.2.0",
          "state": {
            "_model_module": "@jupyter-widgets/base",
            "_model_module_version": "1.2.0",
            "_model_name": "LayoutModel",
            "_view_count": null,
            "_view_module": "@jupyter-widgets/base",
            "_view_module_version": "1.2.0",
            "_view_name": "LayoutView",
            "align_content": null,
            "align_items": null,
            "align_self": null,
            "border": null,
            "bottom": null,
            "display": null,
            "flex": null,
            "flex_flow": null,
            "grid_area": null,
            "grid_auto_columns": null,
            "grid_auto_flow": null,
            "grid_auto_rows": null,
            "grid_column": null,
            "grid_gap": null,
            "grid_row": null,
            "grid_template_areas": null,
            "grid_template_columns": null,
            "grid_template_rows": null,
            "height": null,
            "justify_content": null,
            "justify_items": null,
            "left": null,
            "margin": null,
            "max_height": null,
            "max_width": null,
            "min_height": null,
            "min_width": null,
            "object_fit": null,
            "object_position": null,
            "order": null,
            "overflow": null,
            "overflow_x": null,
            "overflow_y": null,
            "padding": null,
            "right": null,
            "top": null,
            "visibility": null,
            "width": null
          }
        },
        "28607fd1bd9e458ca8395b1056294573": {
          "model_module": "@jupyter-widgets/controls",
          "model_name": "DescriptionStyleModel",
          "model_module_version": "1.5.0",
          "state": {
            "_model_module": "@jupyter-widgets/controls",
            "_model_module_version": "1.5.0",
            "_model_name": "DescriptionStyleModel",
            "_view_count": null,
            "_view_module": "@jupyter-widgets/base",
            "_view_module_version": "1.2.0",
            "_view_name": "StyleView",
            "description_width": ""
          }
        },
        "dbfea168199e4718a357afa9d501e947": {
          "model_module": "@jupyter-widgets/controls",
          "model_name": "HBoxModel",
          "model_module_version": "1.5.0",
          "state": {
            "_dom_classes": [],
            "_model_module": "@jupyter-widgets/controls",
            "_model_module_version": "1.5.0",
            "_model_name": "HBoxModel",
            "_view_count": null,
            "_view_module": "@jupyter-widgets/controls",
            "_view_module_version": "1.5.0",
            "_view_name": "HBoxView",
            "box_style": "",
            "children": [
              "IPY_MODEL_9ed3b65868984ca7a4e7e377047c1012",
              "IPY_MODEL_35b6f025388e4f239d426faaf0e5286a",
              "IPY_MODEL_95b974b5869949c9a2e2b2ae80b88a93"
            ],
            "layout": "IPY_MODEL_d17caee7428d45dc9a5270bf2b662fd3"
          }
        },
        "9ed3b65868984ca7a4e7e377047c1012": {
          "model_module": "@jupyter-widgets/controls",
          "model_name": "HTMLModel",
          "model_module_version": "1.5.0",
          "state": {
            "_dom_classes": [],
            "_model_module": "@jupyter-widgets/controls",
            "_model_module_version": "1.5.0",
            "_model_name": "HTMLModel",
            "_view_count": null,
            "_view_module": "@jupyter-widgets/controls",
            "_view_module_version": "1.5.0",
            "_view_name": "HTMLView",
            "description": "",
            "description_tooltip": null,
            "layout": "IPY_MODEL_435eb3cd527d49ee82dd2a612d881607",
            "placeholder": "​",
            "style": "IPY_MODEL_8c4c3339004b4e829944681b0ce79758",
            "value": "tokenizer.json: 100%"
          }
        },
        "35b6f025388e4f239d426faaf0e5286a": {
          "model_module": "@jupyter-widgets/controls",
          "model_name": "FloatProgressModel",
          "model_module_version": "1.5.0",
          "state": {
            "_dom_classes": [],
            "_model_module": "@jupyter-widgets/controls",
            "_model_module_version": "1.5.0",
            "_model_name": "FloatProgressModel",
            "_view_count": null,
            "_view_module": "@jupyter-widgets/controls",
            "_view_module_version": "1.5.0",
            "_view_name": "ProgressView",
            "bar_style": "success",
            "description": "",
            "description_tooltip": null,
            "layout": "IPY_MODEL_150d72fe769a4552a71020a30a1d1a76",
            "max": 466062,
            "min": 0,
            "orientation": "horizontal",
            "style": "IPY_MODEL_ed0d0ad4638c47b781bce0a3d7620ed6",
            "value": 466062
          }
        },
        "95b974b5869949c9a2e2b2ae80b88a93": {
          "model_module": "@jupyter-widgets/controls",
          "model_name": "HTMLModel",
          "model_module_version": "1.5.0",
          "state": {
            "_dom_classes": [],
            "_model_module": "@jupyter-widgets/controls",
            "_model_module_version": "1.5.0",
            "_model_name": "HTMLModel",
            "_view_count": null,
            "_view_module": "@jupyter-widgets/controls",
            "_view_module_version": "1.5.0",
            "_view_name": "HTMLView",
            "description": "",
            "description_tooltip": null,
            "layout": "IPY_MODEL_ab251f413d0b4ea5b23405a87ef8fd31",
            "placeholder": "​",
            "style": "IPY_MODEL_012b72d4c431406b912ae2d7aa5fce5e",
            "value": " 466k/466k [00:00&lt;00:00, 12.8MB/s]"
          }
        },
        "d17caee7428d45dc9a5270bf2b662fd3": {
          "model_module": "@jupyter-widgets/base",
          "model_name": "LayoutModel",
          "model_module_version": "1.2.0",
          "state": {
            "_model_module": "@jupyter-widgets/base",
            "_model_module_version": "1.2.0",
            "_model_name": "LayoutModel",
            "_view_count": null,
            "_view_module": "@jupyter-widgets/base",
            "_view_module_version": "1.2.0",
            "_view_name": "LayoutView",
            "align_content": null,
            "align_items": null,
            "align_self": null,
            "border": null,
            "bottom": null,
            "display": null,
            "flex": null,
            "flex_flow": null,
            "grid_area": null,
            "grid_auto_columns": null,
            "grid_auto_flow": null,
            "grid_auto_rows": null,
            "grid_column": null,
            "grid_gap": null,
            "grid_row": null,
            "grid_template_areas": null,
            "grid_template_columns": null,
            "grid_template_rows": null,
            "height": null,
            "justify_content": null,
            "justify_items": null,
            "left": null,
            "margin": null,
            "max_height": null,
            "max_width": null,
            "min_height": null,
            "min_width": null,
            "object_fit": null,
            "object_position": null,
            "order": null,
            "overflow": null,
            "overflow_x": null,
            "overflow_y": null,
            "padding": null,
            "right": null,
            "top": null,
            "visibility": null,
            "width": null
          }
        },
        "435eb3cd527d49ee82dd2a612d881607": {
          "model_module": "@jupyter-widgets/base",
          "model_name": "LayoutModel",
          "model_module_version": "1.2.0",
          "state": {
            "_model_module": "@jupyter-widgets/base",
            "_model_module_version": "1.2.0",
            "_model_name": "LayoutModel",
            "_view_count": null,
            "_view_module": "@jupyter-widgets/base",
            "_view_module_version": "1.2.0",
            "_view_name": "LayoutView",
            "align_content": null,
            "align_items": null,
            "align_self": null,
            "border": null,
            "bottom": null,
            "display": null,
            "flex": null,
            "flex_flow": null,
            "grid_area": null,
            "grid_auto_columns": null,
            "grid_auto_flow": null,
            "grid_auto_rows": null,
            "grid_column": null,
            "grid_gap": null,
            "grid_row": null,
            "grid_template_areas": null,
            "grid_template_columns": null,
            "grid_template_rows": null,
            "height": null,
            "justify_content": null,
            "justify_items": null,
            "left": null,
            "margin": null,
            "max_height": null,
            "max_width": null,
            "min_height": null,
            "min_width": null,
            "object_fit": null,
            "object_position": null,
            "order": null,
            "overflow": null,
            "overflow_x": null,
            "overflow_y": null,
            "padding": null,
            "right": null,
            "top": null,
            "visibility": null,
            "width": null
          }
        },
        "8c4c3339004b4e829944681b0ce79758": {
          "model_module": "@jupyter-widgets/controls",
          "model_name": "DescriptionStyleModel",
          "model_module_version": "1.5.0",
          "state": {
            "_model_module": "@jupyter-widgets/controls",
            "_model_module_version": "1.5.0",
            "_model_name": "DescriptionStyleModel",
            "_view_count": null,
            "_view_module": "@jupyter-widgets/base",
            "_view_module_version": "1.2.0",
            "_view_name": "StyleView",
            "description_width": ""
          }
        },
        "150d72fe769a4552a71020a30a1d1a76": {
          "model_module": "@jupyter-widgets/base",
          "model_name": "LayoutModel",
          "model_module_version": "1.2.0",
          "state": {
            "_model_module": "@jupyter-widgets/base",
            "_model_module_version": "1.2.0",
            "_model_name": "LayoutModel",
            "_view_count": null,
            "_view_module": "@jupyter-widgets/base",
            "_view_module_version": "1.2.0",
            "_view_name": "LayoutView",
            "align_content": null,
            "align_items": null,
            "align_self": null,
            "border": null,
            "bottom": null,
            "display": null,
            "flex": null,
            "flex_flow": null,
            "grid_area": null,
            "grid_auto_columns": null,
            "grid_auto_flow": null,
            "grid_auto_rows": null,
            "grid_column": null,
            "grid_gap": null,
            "grid_row": null,
            "grid_template_areas": null,
            "grid_template_columns": null,
            "grid_template_rows": null,
            "height": null,
            "justify_content": null,
            "justify_items": null,
            "left": null,
            "margin": null,
            "max_height": null,
            "max_width": null,
            "min_height": null,
            "min_width": null,
            "object_fit": null,
            "object_position": null,
            "order": null,
            "overflow": null,
            "overflow_x": null,
            "overflow_y": null,
            "padding": null,
            "right": null,
            "top": null,
            "visibility": null,
            "width": null
          }
        },
        "ed0d0ad4638c47b781bce0a3d7620ed6": {
          "model_module": "@jupyter-widgets/controls",
          "model_name": "ProgressStyleModel",
          "model_module_version": "1.5.0",
          "state": {
            "_model_module": "@jupyter-widgets/controls",
            "_model_module_version": "1.5.0",
            "_model_name": "ProgressStyleModel",
            "_view_count": null,
            "_view_module": "@jupyter-widgets/base",
            "_view_module_version": "1.2.0",
            "_view_name": "StyleView",
            "bar_color": null,
            "description_width": ""
          }
        },
        "ab251f413d0b4ea5b23405a87ef8fd31": {
          "model_module": "@jupyter-widgets/base",
          "model_name": "LayoutModel",
          "model_module_version": "1.2.0",
          "state": {
            "_model_module": "@jupyter-widgets/base",
            "_model_module_version": "1.2.0",
            "_model_name": "LayoutModel",
            "_view_count": null,
            "_view_module": "@jupyter-widgets/base",
            "_view_module_version": "1.2.0",
            "_view_name": "LayoutView",
            "align_content": null,
            "align_items": null,
            "align_self": null,
            "border": null,
            "bottom": null,
            "display": null,
            "flex": null,
            "flex_flow": null,
            "grid_area": null,
            "grid_auto_columns": null,
            "grid_auto_flow": null,
            "grid_auto_rows": null,
            "grid_column": null,
            "grid_gap": null,
            "grid_row": null,
            "grid_template_areas": null,
            "grid_template_columns": null,
            "grid_template_rows": null,
            "height": null,
            "justify_content": null,
            "justify_items": null,
            "left": null,
            "margin": null,
            "max_height": null,
            "max_width": null,
            "min_height": null,
            "min_width": null,
            "object_fit": null,
            "object_position": null,
            "order": null,
            "overflow": null,
            "overflow_x": null,
            "overflow_y": null,
            "padding": null,
            "right": null,
            "top": null,
            "visibility": null,
            "width": null
          }
        },
        "012b72d4c431406b912ae2d7aa5fce5e": {
          "model_module": "@jupyter-widgets/controls",
          "model_name": "DescriptionStyleModel",
          "model_module_version": "1.5.0",
          "state": {
            "_model_module": "@jupyter-widgets/controls",
            "_model_module_version": "1.5.0",
            "_model_name": "DescriptionStyleModel",
            "_view_count": null,
            "_view_module": "@jupyter-widgets/base",
            "_view_module_version": "1.2.0",
            "_view_name": "StyleView",
            "description_width": ""
          }
        },
        "f19d05f0335f439ca28e915077a41066": {
          "model_module": "@jupyter-widgets/controls",
          "model_name": "HBoxModel",
          "model_module_version": "1.5.0",
          "state": {
            "_dom_classes": [],
            "_model_module": "@jupyter-widgets/controls",
            "_model_module_version": "1.5.0",
            "_model_name": "HBoxModel",
            "_view_count": null,
            "_view_module": "@jupyter-widgets/controls",
            "_view_module_version": "1.5.0",
            "_view_name": "HBoxView",
            "box_style": "",
            "children": [
              "IPY_MODEL_884c8643a9fc4fbead3aec73450bccc1",
              "IPY_MODEL_e528c0136cfc42209e775ed825e08ec6",
              "IPY_MODEL_9ce08afa67f64638a8338d38ca096d17"
            ],
            "layout": "IPY_MODEL_b515457f49904a0290ed97166c6ef91b"
          }
        },
        "884c8643a9fc4fbead3aec73450bccc1": {
          "model_module": "@jupyter-widgets/controls",
          "model_name": "HTMLModel",
          "model_module_version": "1.5.0",
          "state": {
            "_dom_classes": [],
            "_model_module": "@jupyter-widgets/controls",
            "_model_module_version": "1.5.0",
            "_model_name": "HTMLModel",
            "_view_count": null,
            "_view_module": "@jupyter-widgets/controls",
            "_view_module_version": "1.5.0",
            "_view_name": "HTMLView",
            "description": "",
            "description_tooltip": null,
            "layout": "IPY_MODEL_60065802ec154f5fa13c4a46bbabd57a",
            "placeholder": "​",
            "style": "IPY_MODEL_3d45da86457e47c1a539ab338387bdc2",
            "value": "Map: 100%"
          }
        },
        "e528c0136cfc42209e775ed825e08ec6": {
          "model_module": "@jupyter-widgets/controls",
          "model_name": "FloatProgressModel",
          "model_module_version": "1.5.0",
          "state": {
            "_dom_classes": [],
            "_model_module": "@jupyter-widgets/controls",
            "_model_module_version": "1.5.0",
            "_model_name": "FloatProgressModel",
            "_view_count": null,
            "_view_module": "@jupyter-widgets/controls",
            "_view_module_version": "1.5.0",
            "_view_name": "ProgressView",
            "bar_style": "success",
            "description": "",
            "description_tooltip": null,
            "layout": "IPY_MODEL_a601ae2343ea4d7db30f873246821e74",
            "max": 10118,
            "min": 0,
            "orientation": "horizontal",
            "style": "IPY_MODEL_9b762ba0a488494aacbaaa5843f138ca",
            "value": 10118
          }
        },
        "9ce08afa67f64638a8338d38ca096d17": {
          "model_module": "@jupyter-widgets/controls",
          "model_name": "HTMLModel",
          "model_module_version": "1.5.0",
          "state": {
            "_dom_classes": [],
            "_model_module": "@jupyter-widgets/controls",
            "_model_module_version": "1.5.0",
            "_model_name": "HTMLModel",
            "_view_count": null,
            "_view_module": "@jupyter-widgets/controls",
            "_view_module_version": "1.5.0",
            "_view_name": "HTMLView",
            "description": "",
            "description_tooltip": null,
            "layout": "IPY_MODEL_637494195ba442a4ac0a0e949bf27172",
            "placeholder": "​",
            "style": "IPY_MODEL_4f4e0d417d684238a74fb7bac851cfb0",
            "value": " 10118/10118 [00:05&lt;00:00, 1790.86 examples/s]"
          }
        },
        "b515457f49904a0290ed97166c6ef91b": {
          "model_module": "@jupyter-widgets/base",
          "model_name": "LayoutModel",
          "model_module_version": "1.2.0",
          "state": {
            "_model_module": "@jupyter-widgets/base",
            "_model_module_version": "1.2.0",
            "_model_name": "LayoutModel",
            "_view_count": null,
            "_view_module": "@jupyter-widgets/base",
            "_view_module_version": "1.2.0",
            "_view_name": "LayoutView",
            "align_content": null,
            "align_items": null,
            "align_self": null,
            "border": null,
            "bottom": null,
            "display": null,
            "flex": null,
            "flex_flow": null,
            "grid_area": null,
            "grid_auto_columns": null,
            "grid_auto_flow": null,
            "grid_auto_rows": null,
            "grid_column": null,
            "grid_gap": null,
            "grid_row": null,
            "grid_template_areas": null,
            "grid_template_columns": null,
            "grid_template_rows": null,
            "height": null,
            "justify_content": null,
            "justify_items": null,
            "left": null,
            "margin": null,
            "max_height": null,
            "max_width": null,
            "min_height": null,
            "min_width": null,
            "object_fit": null,
            "object_position": null,
            "order": null,
            "overflow": null,
            "overflow_x": null,
            "overflow_y": null,
            "padding": null,
            "right": null,
            "top": null,
            "visibility": null,
            "width": null
          }
        },
        "60065802ec154f5fa13c4a46bbabd57a": {
          "model_module": "@jupyter-widgets/base",
          "model_name": "LayoutModel",
          "model_module_version": "1.2.0",
          "state": {
            "_model_module": "@jupyter-widgets/base",
            "_model_module_version": "1.2.0",
            "_model_name": "LayoutModel",
            "_view_count": null,
            "_view_module": "@jupyter-widgets/base",
            "_view_module_version": "1.2.0",
            "_view_name": "LayoutView",
            "align_content": null,
            "align_items": null,
            "align_self": null,
            "border": null,
            "bottom": null,
            "display": null,
            "flex": null,
            "flex_flow": null,
            "grid_area": null,
            "grid_auto_columns": null,
            "grid_auto_flow": null,
            "grid_auto_rows": null,
            "grid_column": null,
            "grid_gap": null,
            "grid_row": null,
            "grid_template_areas": null,
            "grid_template_columns": null,
            "grid_template_rows": null,
            "height": null,
            "justify_content": null,
            "justify_items": null,
            "left": null,
            "margin": null,
            "max_height": null,
            "max_width": null,
            "min_height": null,
            "min_width": null,
            "object_fit": null,
            "object_position": null,
            "order": null,
            "overflow": null,
            "overflow_x": null,
            "overflow_y": null,
            "padding": null,
            "right": null,
            "top": null,
            "visibility": null,
            "width": null
          }
        },
        "3d45da86457e47c1a539ab338387bdc2": {
          "model_module": "@jupyter-widgets/controls",
          "model_name": "DescriptionStyleModel",
          "model_module_version": "1.5.0",
          "state": {
            "_model_module": "@jupyter-widgets/controls",
            "_model_module_version": "1.5.0",
            "_model_name": "DescriptionStyleModel",
            "_view_count": null,
            "_view_module": "@jupyter-widgets/base",
            "_view_module_version": "1.2.0",
            "_view_name": "StyleView",
            "description_width": ""
          }
        },
        "a601ae2343ea4d7db30f873246821e74": {
          "model_module": "@jupyter-widgets/base",
          "model_name": "LayoutModel",
          "model_module_version": "1.2.0",
          "state": {
            "_model_module": "@jupyter-widgets/base",
            "_model_module_version": "1.2.0",
            "_model_name": "LayoutModel",
            "_view_count": null,
            "_view_module": "@jupyter-widgets/base",
            "_view_module_version": "1.2.0",
            "_view_name": "LayoutView",
            "align_content": null,
            "align_items": null,
            "align_self": null,
            "border": null,
            "bottom": null,
            "display": null,
            "flex": null,
            "flex_flow": null,
            "grid_area": null,
            "grid_auto_columns": null,
            "grid_auto_flow": null,
            "grid_auto_rows": null,
            "grid_column": null,
            "grid_gap": null,
            "grid_row": null,
            "grid_template_areas": null,
            "grid_template_columns": null,
            "grid_template_rows": null,
            "height": null,
            "justify_content": null,
            "justify_items": null,
            "left": null,
            "margin": null,
            "max_height": null,
            "max_width": null,
            "min_height": null,
            "min_width": null,
            "object_fit": null,
            "object_position": null,
            "order": null,
            "overflow": null,
            "overflow_x": null,
            "overflow_y": null,
            "padding": null,
            "right": null,
            "top": null,
            "visibility": null,
            "width": null
          }
        },
        "9b762ba0a488494aacbaaa5843f138ca": {
          "model_module": "@jupyter-widgets/controls",
          "model_name": "ProgressStyleModel",
          "model_module_version": "1.5.0",
          "state": {
            "_model_module": "@jupyter-widgets/controls",
            "_model_module_version": "1.5.0",
            "_model_name": "ProgressStyleModel",
            "_view_count": null,
            "_view_module": "@jupyter-widgets/base",
            "_view_module_version": "1.2.0",
            "_view_name": "StyleView",
            "bar_color": null,
            "description_width": ""
          }
        },
        "637494195ba442a4ac0a0e949bf27172": {
          "model_module": "@jupyter-widgets/base",
          "model_name": "LayoutModel",
          "model_module_version": "1.2.0",
          "state": {
            "_model_module": "@jupyter-widgets/base",
            "_model_module_version": "1.2.0",
            "_model_name": "LayoutModel",
            "_view_count": null,
            "_view_module": "@jupyter-widgets/base",
            "_view_module_version": "1.2.0",
            "_view_name": "LayoutView",
            "align_content": null,
            "align_items": null,
            "align_self": null,
            "border": null,
            "bottom": null,
            "display": null,
            "flex": null,
            "flex_flow": null,
            "grid_area": null,
            "grid_auto_columns": null,
            "grid_auto_flow": null,
            "grid_auto_rows": null,
            "grid_column": null,
            "grid_gap": null,
            "grid_row": null,
            "grid_template_areas": null,
            "grid_template_columns": null,
            "grid_template_rows": null,
            "height": null,
            "justify_content": null,
            "justify_items": null,
            "left": null,
            "margin": null,
            "max_height": null,
            "max_width": null,
            "min_height": null,
            "min_width": null,
            "object_fit": null,
            "object_position": null,
            "order": null,
            "overflow": null,
            "overflow_x": null,
            "overflow_y": null,
            "padding": null,
            "right": null,
            "top": null,
            "visibility": null,
            "width": null
          }
        },
        "4f4e0d417d684238a74fb7bac851cfb0": {
          "model_module": "@jupyter-widgets/controls",
          "model_name": "DescriptionStyleModel",
          "model_module_version": "1.5.0",
          "state": {
            "_model_module": "@jupyter-widgets/controls",
            "_model_module_version": "1.5.0",
            "_model_name": "DescriptionStyleModel",
            "_view_count": null,
            "_view_module": "@jupyter-widgets/base",
            "_view_module_version": "1.2.0",
            "_view_name": "StyleView",
            "description_width": ""
          }
        },
        "a20f98d3885c4775b2afb9f18e94e35e": {
          "model_module": "@jupyter-widgets/controls",
          "model_name": "HBoxModel",
          "model_module_version": "1.5.0",
          "state": {
            "_dom_classes": [],
            "_model_module": "@jupyter-widgets/controls",
            "_model_module_version": "1.5.0",
            "_model_name": "HBoxModel",
            "_view_count": null,
            "_view_module": "@jupyter-widgets/controls",
            "_view_module_version": "1.5.0",
            "_view_name": "HBoxView",
            "box_style": "",
            "children": [
              "IPY_MODEL_ce0be76934564e0ebc503fe5bf0df137",
              "IPY_MODEL_1c21cdd399fc42f29dfd7bfb8c070c1b",
              "IPY_MODEL_ce26a822d8b44be18a2e391323fb7632"
            ],
            "layout": "IPY_MODEL_bb5817af9782409994924696b525ba96"
          }
        },
        "ce0be76934564e0ebc503fe5bf0df137": {
          "model_module": "@jupyter-widgets/controls",
          "model_name": "HTMLModel",
          "model_module_version": "1.5.0",
          "state": {
            "_dom_classes": [],
            "_model_module": "@jupyter-widgets/controls",
            "_model_module_version": "1.5.0",
            "_model_name": "HTMLModel",
            "_view_count": null,
            "_view_module": "@jupyter-widgets/controls",
            "_view_module_version": "1.5.0",
            "_view_name": "HTMLView",
            "description": "",
            "description_tooltip": null,
            "layout": "IPY_MODEL_19bc2da352044d97ad3c2574d84ec394",
            "placeholder": "​",
            "style": "IPY_MODEL_b24bb4f640954724ba68a96864598fab",
            "value": "Map: 100%"
          }
        },
        "1c21cdd399fc42f29dfd7bfb8c070c1b": {
          "model_module": "@jupyter-widgets/controls",
          "model_name": "FloatProgressModel",
          "model_module_version": "1.5.0",
          "state": {
            "_dom_classes": [],
            "_model_module": "@jupyter-widgets/controls",
            "_model_module_version": "1.5.0",
            "_model_name": "FloatProgressModel",
            "_view_count": null,
            "_view_module": "@jupyter-widgets/controls",
            "_view_module_version": "1.5.0",
            "_view_name": "ProgressView",
            "bar_style": "success",
            "description": "",
            "description_tooltip": null,
            "layout": "IPY_MODEL_aa40ff29c3584920934df377fc1a9236",
            "max": 3839,
            "min": 0,
            "orientation": "horizontal",
            "style": "IPY_MODEL_877c78127f734109856d2051e9af36fa",
            "value": 3839
          }
        },
        "ce26a822d8b44be18a2e391323fb7632": {
          "model_module": "@jupyter-widgets/controls",
          "model_name": "HTMLModel",
          "model_module_version": "1.5.0",
          "state": {
            "_dom_classes": [],
            "_model_module": "@jupyter-widgets/controls",
            "_model_module_version": "1.5.0",
            "_model_name": "HTMLModel",
            "_view_count": null,
            "_view_module": "@jupyter-widgets/controls",
            "_view_module_version": "1.5.0",
            "_view_name": "HTMLView",
            "description": "",
            "description_tooltip": null,
            "layout": "IPY_MODEL_f7ea36da22c64ee1adadda3987e25ff5",
            "placeholder": "​",
            "style": "IPY_MODEL_ef89469a83514dc8b767f275a69203a5",
            "value": " 3839/3839 [00:02&lt;00:00, 1803.42 examples/s]"
          }
        },
        "bb5817af9782409994924696b525ba96": {
          "model_module": "@jupyter-widgets/base",
          "model_name": "LayoutModel",
          "model_module_version": "1.2.0",
          "state": {
            "_model_module": "@jupyter-widgets/base",
            "_model_module_version": "1.2.0",
            "_model_name": "LayoutModel",
            "_view_count": null,
            "_view_module": "@jupyter-widgets/base",
            "_view_module_version": "1.2.0",
            "_view_name": "LayoutView",
            "align_content": null,
            "align_items": null,
            "align_self": null,
            "border": null,
            "bottom": null,
            "display": null,
            "flex": null,
            "flex_flow": null,
            "grid_area": null,
            "grid_auto_columns": null,
            "grid_auto_flow": null,
            "grid_auto_rows": null,
            "grid_column": null,
            "grid_gap": null,
            "grid_row": null,
            "grid_template_areas": null,
            "grid_template_columns": null,
            "grid_template_rows": null,
            "height": null,
            "justify_content": null,
            "justify_items": null,
            "left": null,
            "margin": null,
            "max_height": null,
            "max_width": null,
            "min_height": null,
            "min_width": null,
            "object_fit": null,
            "object_position": null,
            "order": null,
            "overflow": null,
            "overflow_x": null,
            "overflow_y": null,
            "padding": null,
            "right": null,
            "top": null,
            "visibility": null,
            "width": null
          }
        },
        "19bc2da352044d97ad3c2574d84ec394": {
          "model_module": "@jupyter-widgets/base",
          "model_name": "LayoutModel",
          "model_module_version": "1.2.0",
          "state": {
            "_model_module": "@jupyter-widgets/base",
            "_model_module_version": "1.2.0",
            "_model_name": "LayoutModel",
            "_view_count": null,
            "_view_module": "@jupyter-widgets/base",
            "_view_module_version": "1.2.0",
            "_view_name": "LayoutView",
            "align_content": null,
            "align_items": null,
            "align_self": null,
            "border": null,
            "bottom": null,
            "display": null,
            "flex": null,
            "flex_flow": null,
            "grid_area": null,
            "grid_auto_columns": null,
            "grid_auto_flow": null,
            "grid_auto_rows": null,
            "grid_column": null,
            "grid_gap": null,
            "grid_row": null,
            "grid_template_areas": null,
            "grid_template_columns": null,
            "grid_template_rows": null,
            "height": null,
            "justify_content": null,
            "justify_items": null,
            "left": null,
            "margin": null,
            "max_height": null,
            "max_width": null,
            "min_height": null,
            "min_width": null,
            "object_fit": null,
            "object_position": null,
            "order": null,
            "overflow": null,
            "overflow_x": null,
            "overflow_y": null,
            "padding": null,
            "right": null,
            "top": null,
            "visibility": null,
            "width": null
          }
        },
        "b24bb4f640954724ba68a96864598fab": {
          "model_module": "@jupyter-widgets/controls",
          "model_name": "DescriptionStyleModel",
          "model_module_version": "1.5.0",
          "state": {
            "_model_module": "@jupyter-widgets/controls",
            "_model_module_version": "1.5.0",
            "_model_name": "DescriptionStyleModel",
            "_view_count": null,
            "_view_module": "@jupyter-widgets/base",
            "_view_module_version": "1.2.0",
            "_view_name": "StyleView",
            "description_width": ""
          }
        },
        "aa40ff29c3584920934df377fc1a9236": {
          "model_module": "@jupyter-widgets/base",
          "model_name": "LayoutModel",
          "model_module_version": "1.2.0",
          "state": {
            "_model_module": "@jupyter-widgets/base",
            "_model_module_version": "1.2.0",
            "_model_name": "LayoutModel",
            "_view_count": null,
            "_view_module": "@jupyter-widgets/base",
            "_view_module_version": "1.2.0",
            "_view_name": "LayoutView",
            "align_content": null,
            "align_items": null,
            "align_self": null,
            "border": null,
            "bottom": null,
            "display": null,
            "flex": null,
            "flex_flow": null,
            "grid_area": null,
            "grid_auto_columns": null,
            "grid_auto_flow": null,
            "grid_auto_rows": null,
            "grid_column": null,
            "grid_gap": null,
            "grid_row": null,
            "grid_template_areas": null,
            "grid_template_columns": null,
            "grid_template_rows": null,
            "height": null,
            "justify_content": null,
            "justify_items": null,
            "left": null,
            "margin": null,
            "max_height": null,
            "max_width": null,
            "min_height": null,
            "min_width": null,
            "object_fit": null,
            "object_position": null,
            "order": null,
            "overflow": null,
            "overflow_x": null,
            "overflow_y": null,
            "padding": null,
            "right": null,
            "top": null,
            "visibility": null,
            "width": null
          }
        },
        "877c78127f734109856d2051e9af36fa": {
          "model_module": "@jupyter-widgets/controls",
          "model_name": "ProgressStyleModel",
          "model_module_version": "1.5.0",
          "state": {
            "_model_module": "@jupyter-widgets/controls",
            "_model_module_version": "1.5.0",
            "_model_name": "ProgressStyleModel",
            "_view_count": null,
            "_view_module": "@jupyter-widgets/base",
            "_view_module_version": "1.2.0",
            "_view_name": "StyleView",
            "bar_color": null,
            "description_width": ""
          }
        },
        "f7ea36da22c64ee1adadda3987e25ff5": {
          "model_module": "@jupyter-widgets/base",
          "model_name": "LayoutModel",
          "model_module_version": "1.2.0",
          "state": {
            "_model_module": "@jupyter-widgets/base",
            "_model_module_version": "1.2.0",
            "_model_name": "LayoutModel",
            "_view_count": null,
            "_view_module": "@jupyter-widgets/base",
            "_view_module_version": "1.2.0",
            "_view_name": "LayoutView",
            "align_content": null,
            "align_items": null,
            "align_self": null,
            "border": null,
            "bottom": null,
            "display": null,
            "flex": null,
            "flex_flow": null,
            "grid_area": null,
            "grid_auto_columns": null,
            "grid_auto_flow": null,
            "grid_auto_rows": null,
            "grid_column": null,
            "grid_gap": null,
            "grid_row": null,
            "grid_template_areas": null,
            "grid_template_columns": null,
            "grid_template_rows": null,
            "height": null,
            "justify_content": null,
            "justify_items": null,
            "left": null,
            "margin": null,
            "max_height": null,
            "max_width": null,
            "min_height": null,
            "min_width": null,
            "object_fit": null,
            "object_position": null,
            "order": null,
            "overflow": null,
            "overflow_x": null,
            "overflow_y": null,
            "padding": null,
            "right": null,
            "top": null,
            "visibility": null,
            "width": null
          }
        },
        "ef89469a83514dc8b767f275a69203a5": {
          "model_module": "@jupyter-widgets/controls",
          "model_name": "DescriptionStyleModel",
          "model_module_version": "1.5.0",
          "state": {
            "_model_module": "@jupyter-widgets/controls",
            "_model_module_version": "1.5.0",
            "_model_name": "DescriptionStyleModel",
            "_view_count": null,
            "_view_module": "@jupyter-widgets/base",
            "_view_module_version": "1.2.0",
            "_view_name": "StyleView",
            "description_width": ""
          }
        }
      }
    }
  },
  "nbformat": 4,
  "nbformat_minor": 0
}