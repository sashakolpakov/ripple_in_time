{
  "nbformat": 4,
  "nbformat_minor": 5,
  "metadata": {
    "kernel_info": {
      "name": "python3"
    },
    "kernelspec": {
      "display_name": "Python 3.9",
      "identifier": "legacy",
      "language": "python",
      "language_version": "3.9",
      "name": "python3"
    },
    "selected_hardware_size": "large"
  },
  "cells": [
    {
      "id": "abf9587b-3c7f-48b2-86a2-b40e11f4baf5",
      "cell_type": "markdown",
      "source": "## Dimension reduction of BERT SOTU embeddings",
      "metadata": {
        "noteable": {
          "cell_type": "markdown"
        }
      }
    },
    {
      "id": "01d285d6-b2dc-4d0d-a8db-e3c08b94d4c0",
      "cell_type": "markdown",
      "source": "Run this notebook in the root directory (where SOTU files can be accessed) to replicate dimension reduction algorithms (UMAP, TriMAP, PaCMAP) applied to the embedding of SOTU presidential addresses via DistilBERT.  ",
      "metadata": {
        "noteable": {
          "cell_type": "markdown"
        }
      }
    },
    {
      "id": "c8c5e8bd-282f-41fa-9fa9-d0b8396a4a26",
      "cell_type": "markdown",
      "source": "Another part of the notebook is about authorship attribution by using nearest neighbors in the original DistilBERT embedding. ",
      "metadata": {
        "noteable": {
          "cell_type": "markdown"
        }
      }
    },
    {
      "id": "bb62bc48-8a3a-4375-a5fe-44ab9a5e823e",
      "cell_type": "markdown",
      "source": "This notebook can be run on a CPU instance.",
      "metadata": {
        "noteable": {
          "cell_type": "markdown"
        }
      }
    },
    {
      "id": "b9410e85-7b76-4a28-b254-28df9415671a",
      "cell_type": "markdown",
      "source": "# Initializing",
      "metadata": {
        "noteable": {
          "cell_type": "markdown"
        }
      }
    },
    {
      "id": "7d34f323",
      "cell_type": "code",
      "metadata": {
        "noteable": {
          "output_collection_id": "064d5175-2c35-42fb-b942-f139586db22e"
        },
        "ExecuteTime": {
          "end_time": "2023-11-28T10:01:44.693400+00:00",
          "start_time": "2023-11-28T10:01:00.825168+00:00"
        }
      },
      "execution_count": null,
      "source": "!pip -q install tensorflow transformers faiss-cpu umap-learn trimap pacmap matplotlib pandas seaborn",
      "outputs": []
    },
    {
      "id": "54149a91-f5df-4bc3-90b2-1a4624dd56ea",
      "cell_type": "markdown",
      "source": "# Imports",
      "metadata": {
        "noteable": {
          "cell_type": "markdown"
        }
      }
    },
    {
      "id": "e3935cec-f3eb-43c0-9483-e67767ccdd63",
      "cell_type": "code",
      "metadata": {
        "jupyter": {
          "outputs_hidden": false,
          "source_hidden": false
        },
        "noteable": {
          "cell_type": "code",
          "output_collection_id": "0b47a7e5-4e54-429d-ba72-2a6957ae5a85"
        },
        "ExecuteTime": {
          "end_time": "2023-11-28T10:02:29.427271+00:00",
          "start_time": "2023-11-28T10:01:46.554403+00:00"
        }
      },
      "execution_count": null,
      "source": "import tensorflow as tf\nfrom transformers import BertTokenizer, TFDistilBertModel\nimport matplotlib.pyplot as plt\nimport numpy as np\nimport faiss\nimport umap, trimap, pacmap\nimport os\nimport pickle\nimport pandas as pd\nimport seaborn as sns\nfrom sklearn.cluster import KMeans",
      "outputs": []
    },
    {
      "id": "6d966ef8-633b-4f19-a510-f65591c8fddb",
      "cell_type": "markdown",
      "source": "# Model and dataset",
      "metadata": {
        "noteable": {
          "cell_type": "markdown"
        }
      }
    },
    {
      "id": "2125c874-ef17-4943-b462-e06b99ae07a6",
      "cell_type": "markdown",
      "source": "Chunk length and shift for the sliding window",
      "metadata": {
        "noteable": {
          "cell_type": "markdown"
        }
      }
    },
    {
      "id": "db10552d-897a-4eec-bcc2-830e6727e9aa",
      "cell_type": "code",
      "metadata": {
        "jupyter": {
          "outputs_hidden": false,
          "source_hidden": false
        },
        "noteable": {
          "cell_type": "code",
          "output_collection_id": "54617c67-e672-47d3-8efd-ce366f072725"
        },
        "ExecuteTime": {
          "end_time": "2023-11-28T10:02:29.588191+00:00",
          "start_time": "2023-11-28T10:02:29.434571+00:00"
        }
      },
      "execution_count": null,
      "source": "WINDOW_LEN, WINDOW_SHIFT = 256, 64",
      "outputs": []
    },
    {
      "id": "1eddbd9b-b92c-47ef-b488-8f415392bd45",
      "cell_type": "markdown",
      "source": "Using DistilBERT (faster and more lightweight than BERT) ",
      "metadata": {
        "noteable": {
          "cell_type": "markdown"
        }
      }
    },
    {
      "id": "4db55275-0e5b-4601-9ee3-1cc03b1c3bed",
      "cell_type": "code",
      "metadata": {
        "jupyter": {
          "outputs_hidden": false,
          "source_hidden": false
        },
        "noteable": {
          "cell_type": "code",
          "output_collection_id": "abfbad18-a337-4b47-be5c-d4cebc9b043f"
        },
        "ExecuteTime": {
          "end_time": "2023-11-28T10:02:33.523162+00:00",
          "start_time": "2023-11-28T10:02:31.051263+00:00"
        }
      },
      "execution_count": null,
      "source": "#\n# Load the BERT tokenizer\n#\nbert_tokenizer = BertTokenizer.from_pretrained(\"bert-base-uncased\")\n#\n# Load the DistilBERT model\n#\nbert_model = TFDistilBertModel.from_pretrained(\"distilbert-base-uncased\")\n#\n# Define a function to generate embeddings (normalized to unit norm)\n#\ndef generate_embedding(text, window_len, window_shift, preprocessor, model):\n    # Split the text into words\n    words = text.split()\n    #\n    # Integrator for word strings\n    integrator = 0\n    #\n    # Iterate through windows with the specified shift\n    for i in range(0, len(words) - window_len + 1, window_shift):\n        string = ' '.join(words[i:i + window_len])\n        inputs = preprocessor(string, return_tensors='tf', max_length=512, truncation=True, padding='max_length')['input_ids']\n\n        outputs = model(inputs)\n        last_hidden_states = outputs.last_hidden_state\n\n        avg_pool = tf.reduce_mean(last_hidden_states, axis=1)\n        integrator += avg_pool[0]\n        print(integrator.shape)\n    #\n    # Include the last window if it's shorter than window_len\n    last_window_start = len(words) % window_len\n    if last_window_start > 0:\n        string = ' '.join(words[-last_window_start:])\n        inputs = preprocessor(string, return_tensors='tf', max_length=512, truncation=True, padding='max_length')['input_ids']\n\n        outputs = model(inputs)\n        last_hidden_states = outputs.last_hidden_state\n\n        avg_pool = tf.reduce_mean(last_hidden_states, axis=1)\n        integrator += avg_pool[0]\n        print(integrator.shape)\n    #\n    l2_norm    = tf.norm(integrator, ord='euclidean')\n    #\n    return integrator/l2_norm",
      "outputs": []
    },
    {
      "id": "38868b02-55f0-4a01-abc2-88adb62d3a6f",
      "cell_type": "code",
      "metadata": {
        "jupyter": {
          "outputs_hidden": false,
          "source_hidden": false
        },
        "noteable": {
          "cell_type": "code",
          "output_collection_id": "cccbbb9a-92a1-4a79-951e-be675e4375bd"
        },
        "ExecuteTime": {
          "end_time": "2023-11-28T10:02:34.879474+00:00",
          "start_time": "2023-11-28T10:02:34.720076+00:00"
        }
      },
      "execution_count": null,
      "source": "#\n# Function to read and store text files from a directory\n# that are label='train', label='test', or both kinds if label=None\n#\ndef store_text_files(directory, index, filenames, window_len, window_shift, preprocessor, model, label=None):\n    #\n    assert label in ['train', 'test', None]\n    #\n    end = {'train': \".train.txt\", 'test': \".test.txt\", None: \".txt\"}\n    #\n    for filename in os.listdir(directory):\n        #\n        if filename.endswith(end[label]):\n            #\n            filepath = os.path.join(directory, filename)\n            #\n            with open(filepath, \"r\", encoding=\"utf-8\") as file:\n                print(f'Acquiring file {filename}')\n                text = file.read()\n                embedding = generate_embedding(text, window_len, window_shift, preprocessor, model)\n                index.add(np.expand_dims(embedding, axis=0))\n                filenames.append(filename)",
      "outputs": []
    },
    {
      "id": "f77eb452-42ce-4ea3-9cd8-15742378113f",
      "cell_type": "code",
      "metadata": {
        "jupyter": {
          "outputs_hidden": false,
          "source_hidden": false
        },
        "noteable": {
          "cell_type": "code",
          "output_collection_id": "862807da-fd5f-443c-827b-d9a1782b76da"
        },
        "ExecuteTime": {
          "end_time": "2023-11-28T10:02:36.496067+00:00",
          "start_time": "2023-11-28T10:02:36.339950+00:00"
        }
      },
      "execution_count": null,
      "source": "#\n# Function to read and store text files from directories starting with \"sotu_\"\n#\ndef store_text_files_in_sotu_directories(root_directory, index, filenames, window_len, window_shift, preprocessor, model, label=None):\n    #\n    for entry in os.listdir(root_directory):\n        #\n        full_path = os.path.join(root_directory, entry)\n        #\n        if os.path.isdir(full_path) and entry.startswith(\"sotu_\"):\n            store_text_files(full_path, index, filenames, window_len, window_shift, preprocessor, model, label)",
      "outputs": []
    },
    {
      "id": "5476b55b-b398-42f5-b33c-07a95d82f9c2",
      "cell_type": "code",
      "metadata": {
        "jupyter": {
          "outputs_hidden": false,
          "source_hidden": false
        },
        "noteable": {
          "cell_type": "code",
          "output_collection_id": "01a8ebe3-f528-40a6-a53d-585a3982f0c7"
        },
        "ExecuteTime": {
          "end_time": "2023-11-28T10:02:36.686382+00:00",
          "start_time": "2023-11-28T10:02:36.530228+00:00"
        }
      },
      "execution_count": null,
      "source": "#\n# Function to look for the nearest vector in Faiss index\n#\ndef compare_embedding_to_index(file_path, index, filenames, window_len, window_shift, preprocessor, model, top_k=5):\n    #\n    with open(file_path, \"r\", encoding=\"utf-8\") as file:\n        #\n        query_text = file.read()\n        query_embedding = generate_embedding(query_text, window_len, window_shift, preprocessor, model)\n        #\n        # Convert query embedding to a NumPy array\n        query_embedding_np = np.array([query_embedding])\n        #\n        # Search for the closest vectors in the Faiss index\n        similarity, indices = index.search(query_embedding_np, k=top_k)\n        #\n        # Retrieve the top k closest texts from the filenames list\n        closest_texts = [filenames[int(x)] for x in indices[0]]\n        #\n        return closest_texts, similarity",
      "outputs": []
    },
    {
      "id": "af87e3fc-199d-4656-934f-ae32703a5c7e",
      "cell_type": "code",
      "metadata": {
        "jupyter": {
          "outputs_hidden": false,
          "source_hidden": false
        },
        "noteable": {
          "cell_type": "code",
          "output_collection_id": "a5f6b0a1-7d4d-4bad-97a7-f3ad90beb8f9"
        },
        "ExecuteTime": {
          "end_time": "2023-11-28T10:02:36.882205+00:00",
          "start_time": "2023-11-28T10:02:36.726252+00:00"
        }
      },
      "execution_count": null,
      "source": "def test_text_files(directory, index, filenames, top_k=5):\n    #\n    top_k_files = []\n    #\n    for filename in os.listdir(directory):\n        #\n        if filename.endswith('.test.txt'):\n            #\n            assert (filename in filenames)\n            #\n            i = filenames.index(filename)\n            query = np.array([index.reconstruct(i)])\n            similarity, indices = index.search(query, k=top_k+1)\n            closest_texts = [filenames[int(x)] for x in indices[0]]\n            top_k_list = [closest_texts[1:], similarity[0][1:]]\n            top_k_files.append(top_k_list)\n    #\n    return top_k_files",
      "outputs": []
    },
    {
      "id": "0ab0abe8-ad30-4912-8781-c6cd505cdc96",
      "cell_type": "code",
      "metadata": {
        "jupyter": {
          "outputs_hidden": false,
          "source_hidden": false
        },
        "noteable": {
          "cell_type": "code",
          "output_collection_id": "5223f8f1-61f5-48d5-aec0-97ba9174c655"
        },
        "ExecuteTime": {
          "end_time": "2023-11-28T10:02:37.082293+00:00",
          "start_time": "2023-11-28T10:02:36.926734+00:00"
        }
      },
      "execution_count": null,
      "source": "#\n# Function to read and test the FAISS index on test files from directories starting with \"sotu_\"\n#\ndef test_text_files_in_sotu_directories(root_directory, index, filenames, top_k=5):\n    #\n    test = {}\n    #\n    for entry in os.listdir(root_directory):\n        #\n        full_path = os.path.join(root_directory, entry)\n        #\n        if os.path.isdir(full_path) and entry.startswith(\"sotu_\"):\n            top_k_entries = test_text_files(full_path,\n                                            index,\n                                            filenames,\n                                            top_k)\n            test[entry] = top_k_entries\n    #\n    return test",
      "outputs": []
    },
    {
      "id": "22bb7395-3a5a-4ed4-bd4c-2819bf125889",
      "cell_type": "markdown",
      "source": "# FAISS index",
      "metadata": {
        "noteable": {
          "cell_type": "markdown"
        }
      }
    },
    {
      "id": "3a252d9a-cc2f-4e01-bf97-c288428b45a0",
      "cell_type": "code",
      "metadata": {
        "jupyter": {
          "outputs_hidden": false,
          "source_hidden": false
        },
        "noteable": {
          "cell_type": "code",
          "output_collection_id": "c119e965-716c-43a6-ae85-a8bc1009ed35"
        },
        "ExecuteTime": {
          "end_time": "2023-11-28T10:02:38.695971+00:00",
          "start_time": "2023-11-28T10:02:38.540502+00:00"
        }
      },
      "execution_count": null,
      "source": "# BERT embedding dimension\nindex_dimension = 768\n#\n# Create FAISS index\nindex = faiss.IndexFlatIP(index_dimension)\n#\n# File names\nfilenames  = []\n#\n# Sanity check: should be 768, 0, 0, and the index is trained (by default)\n#\nprint(f'Index dimension {index_dimension}, number of entries {index.ntotal}, number of files {len(filenames)}')\nprint(f'Is trained? {index.is_trained}')",
      "outputs": []
    },
    {
      "id": "eb96fa86-92f9-4cad-9b13-7406f2aa41d6",
      "cell_type": "code",
      "metadata": {
        "jupyter": {
          "outputs_hidden": false,
          "source_hidden": false
        },
        "noteable": {
          "cell_type": "code",
          "output_collection_id": "b11c48aa-9980-41db-827c-b26343061d99"
        },
        "ExecuteTime": {
          "end_time": "2023-11-28T10:02:38.861790+00:00",
          "start_time": "2023-11-28T10:02:38.701050+00:00"
        }
      },
      "execution_count": null,
      "source": "PREP  = bert_tokenizer\nMODEL = bert_model",
      "outputs": []
    },
    {
      "id": "8b0eafb7-e7cc-49d7-8c9d-63361cd0b826",
      "cell_type": "markdown",
      "source": "Computing the BERT embedding and storing it in the index (uncomment to replicate)",
      "metadata": {
        "noteable": {
          "cell_type": "markdown"
        }
      }
    },
    {
      "id": "78337ca2-7d1b-45ed-936e-e4e3a52c6dbc",
      "cell_type": "code",
      "metadata": {
        "jupyter": {
          "outputs_hidden": false,
          "source_hidden": false
        },
        "noteable": {
          "cell_type": "code",
          "output_collection_id": "30f0f832-912f-4b4d-a5ca-b3199eb6427e"
        },
        "ExecuteTime": {
          "end_time": "2023-11-28T10:02:39.034927+00:00",
          "start_time": "2023-11-28T10:02:38.881122+00:00"
        },
        "scrolled": false
      },
      "execution_count": null,
      "source": "\"\"\"\n#\n# Loading files into the FAISS index with DistilBERT embedding\n#\nstore_text_files_in_sotu_directories(\".\", index, filenames, WINDOW_LEN, WINDOW_SHIFT, PREP, MODEL, label=None)\nfaiss.write_index(index, \"sotu_bert_complete.faiss\")\nwith open(\"sotu_bert_filenames_complete.pickle\", 'wb') as file:\n    pickle.dump(filenames, file)\n    file.close()\n\"\"\";",
      "outputs": []
    },
    {
      "id": "63f61306-5027-45cf-b330-9d3d24e66850",
      "cell_type": "markdown",
      "source": "Loading the index and filenames from the stored dataset",
      "metadata": {
        "noteable": {
          "cell_type": "markdown"
        }
      }
    },
    {
      "id": "84365809-6281-436f-a916-c433aeeaff9a",
      "cell_type": "code",
      "metadata": {
        "jupyter": {
          "outputs_hidden": false,
          "source_hidden": false
        },
        "noteable": {
          "cell_type": "code",
          "output_collection_id": "0e1e1be5-4b53-4706-9ec4-77d34d002eec"
        },
        "ExecuteTime": {
          "end_time": "2023-11-28T10:02:39.211190+00:00",
          "start_time": "2023-11-28T10:02:39.041449+00:00"
        }
      },
      "execution_count": null,
      "source": "index = faiss.read_index(\"sotu_bert_complete.faiss\")\nwith open(\"sotu_bert_filenames_complete.pickle\", 'rb') as file:\n    filenames = pickle.load(file)\n    file.close()",
      "outputs": []
    },
    {
      "id": "4ab530f4-af42-40e0-8606-d0ffe7eafae0",
      "cell_type": "code",
      "metadata": {
        "jupyter": {
          "outputs_hidden": false,
          "source_hidden": false
        },
        "noteable": {
          "cell_type": "code",
          "output_collection_id": "26a39cf3-c3e9-422d-9243-5d51af9ae2e4"
        },
        "ExecuteTime": {
          "end_time": "2023-11-28T10:02:39.384163+00:00",
          "start_time": "2023-11-28T10:02:39.217602+00:00"
        }
      },
      "execution_count": null,
      "source": "#\n# Sanity check: should be 768, 229, 229, and the index is trained (by default)\n#\nprint(f'Index dimension {index_dimension}, number of entries {index.ntotal}, number of files {len(filenames)}')\nprint(f'Is trained? {index.is_trained}')",
      "outputs": []
    },
    {
      "id": "b0792af7-0b26-43a9-8379-01dbaa41a091",
      "cell_type": "markdown",
      "source": "# Dimension reduction",
      "metadata": {
        "noteable": {
          "cell_type": "markdown"
        }
      }
    },
    {
      "id": "4752542e-1402-4b58-a867-a4e777c73d96",
      "cell_type": "markdown",
      "source": "Dimension reduction and clustering: BERT mapped into dimensions 2 and 3 with UMAP, TriMAP, PaCMAP",
      "metadata": {
        "noteable": {
          "cell_type": "markdown"
        }
      }
    },
    {
      "id": "19eb6809-775f-4ab8-9226-1bb8c7cbe342",
      "cell_type": "code",
      "metadata": {
        "jupyter": {
          "outputs_hidden": false,
          "source_hidden": false
        },
        "noteable": {
          "cell_type": "code",
          "output_collection_id": "0d89cf24-424c-475e-8e9b-70b00089d78f"
        },
        "ExecuteTime": {
          "end_time": "2023-11-28T10:02:39.556405+00:00",
          "start_time": "2023-11-28T10:02:39.390185+00:00"
        }
      },
      "execution_count": null,
      "source": "#\n# Recover the BERT embedding\n#\nbert_embedding = []\nfor i in range(index.ntotal):\n    vec = index.reconstruct(i)\n    bert_embedding += [vec]",
      "outputs": []
    },
    {
      "id": "92f4e7fd-fc3e-47a0-a48b-f2289115b4f4",
      "cell_type": "code",
      "metadata": {
        "jupyter": {
          "outputs_hidden": false,
          "source_hidden": false
        },
        "noteable": {
          "cell_type": "code",
          "output_collection_id": "64b3fd54-b277-4eae-9849-8464a29bdd41"
        },
        "ExecuteTime": {
          "end_time": "2023-11-28T10:03:24.474203+00:00",
          "start_time": "2023-11-28T10:02:41.036913+00:00"
        }
      },
      "execution_count": null,
      "source": "#\n# UMAP the BERT embedding into 2D\n#\nreducer_umap2 = umap.UMAP(n_neighbors=int(np.sqrt(index_dimension)),\n                          n_components=2,\n                          metric='cosine',\n                          verbose=1)\numap_2_embedding = reducer_umap2.fit_transform(bert_embedding)",
      "outputs": []
    },
    {
      "id": "39216042-6f3e-4820-82aa-153a65bfcc1f",
      "cell_type": "code",
      "metadata": {
        "jupyter": {
          "outputs_hidden": false,
          "source_hidden": false
        },
        "noteable": {
          "cell_type": "code",
          "output_collection_id": "b26f64e2-5e30-4049-affe-3f65c412dcf4"
        },
        "ExecuteTime": {
          "end_time": "2023-11-28T10:03:26.234481+00:00",
          "start_time": "2023-11-28T10:03:25.725178+00:00"
        }
      },
      "execution_count": null,
      "source": "#\n# Scatter plot in 2D\n#\ndef plot_2d_embedding(embedding, emb_name):\n    labels_year = [int(s.split('_')[1].split('.')[0]) for s in filenames]\n    scatter = plt.scatter(embedding[:, 0], embedding[:, 1], c=labels_year)\n    plt.title(f'{emb_name} of SOTU in 2D')\n    plt.xlabel(\"X-axis\")\n    plt.ylabel(\"Y-axis\")\n    cbar = plt.colorbar(scatter, label=\"Year\")\n    plt.show()\n#\nplot_2d_embedding(umap_2_embedding, \"UMAP\")",
      "outputs": []
    },
    {
      "id": "2a8947bd-a6e2-475b-bb4d-66893cc51eaa",
      "cell_type": "code",
      "metadata": {
        "jupyter": {
          "outputs_hidden": false,
          "source_hidden": false
        },
        "noteable": {
          "cell_type": "code",
          "output_collection_id": "ef2aab03-b1e7-46a0-bc19-659b3ed32589"
        },
        "ExecuteTime": {
          "end_time": "2023-11-28T10:04:06.459579+00:00",
          "start_time": "2023-11-28T10:03:28.005940+00:00"
        }
      },
      "execution_count": null,
      "source": "#\n# TriMAP the BERT embedding into 2D\n#\nreducer_trimap2 = trimap.TRIMAP(n_dims=2,\n                                distance='cosine',\n                                verbose=1)\ntrimap_2_embedding = reducer_trimap2.fit_transform(np.array(bert_embedding))\n#\nplot_2d_embedding(trimap_2_embedding, \"TriMAP\")",
      "outputs": []
    },
    {
      "id": "3fd1207e-840e-4650-85f4-d4164e3c5e0b",
      "cell_type": "code",
      "metadata": {
        "jupyter": {
          "outputs_hidden": false,
          "source_hidden": false
        },
        "noteable": {
          "cell_type": "code",
          "output_collection_id": "0a8e7b59-5b9f-417f-aea2-e8fe6ece27bc"
        },
        "ExecuteTime": {
          "end_time": "2023-11-28T10:05:24.051375+00:00",
          "start_time": "2023-11-28T10:04:06.603799+00:00"
        }
      },
      "execution_count": null,
      "source": "#\n# PaCMAP the BERT embedding into 2D\n#\nreducer_pacmap2 = pacmap.PaCMAP(n_neighbors=int(np.sqrt(index_dimension)),\n                                n_components=2,\n                                distance='angular',\n                                verbose=1)\npacmap_2_embedding = reducer_pacmap2.fit_transform(bert_embedding)\n#\nplot_2d_embedding(pacmap_2_embedding, \"PaCMAP\")",
      "outputs": []
    },
    {
      "id": "212a3e97-85f5-48b5-b723-bc1273639fd8",
      "cell_type": "code",
      "metadata": {
        "jupyter": {
          "outputs_hidden": false,
          "source_hidden": false
        },
        "noteable": {
          "cell_type": "code",
          "output_collection_id": "2ad6e216-13f1-406d-9dee-6c048bb2a733"
        },
        "ExecuteTime": {
          "end_time": "2023-11-28T10:06:01.074295+00:00",
          "start_time": "2023-11-28T10:05:25.760078+00:00"
        }
      },
      "execution_count": null,
      "source": "#\n# UMAP the BERT embedding into 3D\n#\nreducer_umap3 = umap.UMAP(n_neighbors=int(np.sqrt(index_dimension)),\n                          n_components=3,\n                          metric='cosine',\n                          verbose=1)\numap_3_embedding = reducer_umap3.fit_transform(bert_embedding)",
      "outputs": []
    },
    {
      "id": "3bac023c-e6e4-47a6-99a0-a29fb1df7bb4",
      "cell_type": "code",
      "metadata": {
        "jupyter": {
          "outputs_hidden": false,
          "source_hidden": false
        },
        "noteable": {
          "cell_type": "code",
          "output_collection_id": "f452cb5c-3211-4866-81f4-90969235c84c"
        },
        "ExecuteTime": {
          "end_time": "2023-11-28T10:06:01.980872+00:00",
          "start_time": "2023-11-28T10:06:01.654030+00:00"
        }
      },
      "execution_count": null,
      "source": "#\n# Scatter plot in 3D\n#\ndef plot_3d_embedding(embedding, emb_name):\n    labels_year = [int(s.split('_')[1].split('.')[0]) for s in filenames]\n    fig = plt.figure()\n    ax = fig.add_subplot(111, projection='3d')\n    scatter = ax.scatter(embedding[:, 0],\n                         embedding[:, 1],\n                         embedding[:, 2],\n                         c=labels_year)\n    ax.set_title(f'{emb_name} of SOTU in 3D')\n    ax.set_xlabel(\"X-axis\")\n    ax.set_ylabel(\"Y-axis\")\n    ax.set_zlabel(\"Z-axis\")\n    fig.colorbar(scatter, label=\"Year\")\n    plt.show()\n#\nplot_3d_embedding(umap_3_embedding, \"UMAP\")",
      "outputs": []
    },
    {
      "id": "d8af740f-62fb-49df-b289-4384bf6e53a4",
      "cell_type": "code",
      "metadata": {
        "jupyter": {
          "outputs_hidden": false,
          "source_hidden": false
        },
        "noteable": {
          "cell_type": "code",
          "output_collection_id": "e104e9bc-7180-45e5-8990-98bcfeda503b"
        },
        "ExecuteTime": {
          "end_time": "2023-11-28T10:06:52.507917+00:00",
          "start_time": "2023-11-28T10:06:03.675857+00:00"
        }
      },
      "execution_count": null,
      "source": "#\n# TriMAP the BERT embedding into 3D\n#\nreducer_trimap3 = trimap.TRIMAP(n_dims=3,\n                                distance='cosine',\n                                verbose=1)\ntrimap_3_embedding = reducer_trimap3.fit_transform(np.array(bert_embedding))\n#\nplot_3d_embedding(trimap_3_embedding, \"TriMAP\")",
      "outputs": []
    },
    {
      "id": "583672b2-6559-4183-a42f-cf985622d4b5",
      "cell_type": "code",
      "metadata": {
        "jupyter": {
          "outputs_hidden": false,
          "source_hidden": false
        },
        "noteable": {
          "cell_type": "code",
          "output_collection_id": "5e111bb9-3914-4406-bd85-0564fc29e42e"
        },
        "ExecuteTime": {
          "end_time": "2023-11-28T10:08:32.727531+00:00",
          "start_time": "2023-11-28T10:06:52.721648+00:00"
        }
      },
      "execution_count": null,
      "source": "#\n# PaCMAP the BERT embedding into 3D\n#\nreducer_pacmap3 = pacmap.PaCMAP(n_neighbors=int(np.sqrt(index_dimension)),\n                                n_components=3,\n                                distance='angular',\n                                verbose=1)\npacmap_3_embedding = reducer_pacmap3.fit_transform(bert_embedding)\n#\nplot_3d_embedding(pacmap_3_embedding, \"PaCMAP\")",
      "outputs": []
    },
    {
      "id": "3f45e371-278f-4259-9249-891ee2da7a24",
      "cell_type": "markdown",
      "source": "# Diagrams for temporal clustering of SOTU speeches",
      "metadata": {
        "noteable": {
          "cell_type": "markdown"
        }
      }
    },
    {
      "id": "76952d0a-f77b-4ae8-b3bb-2b080d4f6542",
      "cell_type": "code",
      "metadata": {
        "jupyter": {
          "outputs_hidden": false,
          "source_hidden": false
        },
        "noteable": {
          "cell_type": "code",
          "output_collection_id": "6f6352fc-96fa-4ed7-b3fa-496f4513120b"
        },
        "ExecuteTime": {
          "end_time": "2023-11-28T10:08:34.403074+00:00",
          "start_time": "2023-11-28T10:08:34.241829+00:00"
        }
      },
      "execution_count": null,
      "source": "#\n# k-Mean clustering on given embedding with k=2, and then plot the diagram\n#\ndef plot_clustering_diagram(embedding):\n    \n    kmeans = KMeans(n_clusters=2, random_state=42)\n    \n    cluster_labels = kmeans.fit_predict(embedding)\n    labels_year = [int(s.split('_')[1].split('.')[0]) for s in filenames]\n    \n    df_emb = pd.DataFrame(data=np.array([labels_year, cluster_labels]).T,\n                          columns=['Year', 'Cluster'])\n    df_emb = df_emb.sort_values('Year')\n    \n    # Create a color map based on the values in the 'Cluster' column\n    colors = df_emb['Cluster'].map({0: 'blue', 1: 'red'})\n\n    # Same height bars for all years, only colors are different\n    df_emb['Value'] = 1.0\n\n    # Plotting a bar graph with customized colors\n    ax = df_emb.plot(x='Year', y='Value', kind='bar', legend=False, width=1.0, color=colors)\n\n    plt.title('Cluster Labels')\n    plt.xlabel('Year')\n    plt.ylabel('')\n\n    for label in ax.get_xticklabels():\n        if int(label.get_text()) not in [1790, 1921, 2018]:\n            label.set_visible(False)\n\n    plt.yticks([])\n\n    plt.show()",
      "outputs": []
    },
    {
      "id": "2bee609c-3fab-4a28-855a-2fa3218f96e8",
      "cell_type": "code",
      "metadata": {
        "jupyter": {
          "outputs_hidden": false,
          "source_hidden": false
        },
        "noteable": {
          "cell_type": "code",
          "output_collection_id": "8c1cf4d6-b0b2-4a25-bd1b-55832d3fc7c5"
        },
        "ExecuteTime": {
          "end_time": "2023-11-28T10:08:35.340789+00:00",
          "start_time": "2023-11-28T10:08:34.408781+00:00"
        }
      },
      "execution_count": null,
      "source": "#\n# Clusters in UMAP 3D embedding\n#\nplot_clustering_diagram(umap_3_embedding)",
      "outputs": []
    },
    {
      "id": "6fb50969-d5bd-46fc-acdd-047204efd6ee",
      "cell_type": "markdown",
      "source": "A pandas dataframe where the temporal separation of clusters can be checked, and the watershed year(s) can be easily determined by inspection.",
      "metadata": {
        "noteable": {
          "cell_type": "markdown"
        }
      }
    },
    {
      "id": "a76580d2-221a-4cc5-ad65-a78cdaa0f04a",
      "cell_type": "code",
      "metadata": {
        "jupyter": {
          "outputs_hidden": false,
          "source_hidden": false
        },
        "noteable": {
          "cell_type": "code",
          "output_collection_id": "3fee0334-2283-48d3-bb4c-4d7c7ac556de"
        },
        "ExecuteTime": {
          "end_time": "2023-11-28T10:08:36.887413+00:00",
          "start_time": "2023-11-28T10:08:36.730234+00:00"
        }
      },
      "execution_count": null,
      "source": "#\n# Dataframe with years labelled with 0 / 1 for clustering\n#\ndef df_clustering(embedding):\n    \n    kmeans = KMeans(n_clusters=2, random_state=42)\n    \n    cluster_labels = kmeans.fit_predict(embedding)\n    labels_year = [int(s.split('_')[1].split('.')[0]) for s in filenames]\n    \n    df_emb = pd.DataFrame(data=np.array([labels_year, cluster_labels]).T,\n                          columns=['Year', 'Cluster'])\n    df_emb = df_emb.sort_values('Year')\n    \n    return df_emb",
      "outputs": []
    },
    {
      "id": "3f8a2fc5-65cc-4a03-bcc1-b8ae700b6c3c",
      "cell_type": "code",
      "metadata": {
        "jupyter": {
          "outputs_hidden": false,
          "source_hidden": false
        },
        "noteable": {
          "cell_type": "code",
          "output_collection_id": "8295fe76-b0c3-4310-a3e2-7ad68133f0e0"
        },
        "ExecuteTime": {
          "end_time": "2023-11-28T10:08:37.141682+00:00",
          "start_time": "2023-11-28T10:08:36.926447+00:00"
        },
        "datalink": {
          "a2bde966-b0a3-4639-8a4c-1bfdea184548": {
            "applied_filters": [],
            "dataframe_info": {
              "default_index_used": true,
              "orig_num_cols": 2,
              "orig_num_rows": 229,
              "orig_size_bytes": 5496,
              "truncated_num_cols": 2,
              "truncated_num_rows": 229,
              "truncated_size_bytes": 5496,
              "truncated_string_columns": []
            },
            "display_id": "a2bde966-b0a3-4639-8a4c-1bfdea184548",
            "dx_settings": {
              "ALLOW_NOTEABLE_ATTRS": true,
              "COLUMN_SAMPLING_METHOD": "outer",
              "DB_LOCATION": ":memory:",
              "DEV_MODE": false,
              "DISPLAY_MAX_COLUMNS": 100,
              "DISPLAY_MAX_ROWS": 50000,
              "DISPLAY_MODE": "simple",
              "ENABLE_ASSIGNMENT": true,
              "ENABLE_DATALINK": true,
              "FLATTEN_COLUMN_VALUES": true,
              "FLATTEN_INDEX_VALUES": false,
              "GENERATE_DEX_METADATA": false,
              "HTML_TABLE_SCHEMA": false,
              "LOG_LEVEL": 30,
              "MAX_RENDER_SIZE_BYTES": 104857600,
              "MAX_STRING_LENGTH": 250,
              "NUM_PAST_SAMPLES_TRACKED": 3,
              "RANDOM_STATE": 12648430,
              "RESET_INDEX_VALUES": false,
              "ROW_SAMPLING_METHOD": "random",
              "SAMPLING_FACTOR": 0.1,
              "SAMPLING_METHOD": "random",
              "STRINGIFY_COLUMN_VALUES": true,
              "STRINGIFY_INDEX_VALUES": false
            },
            "sample_history": [],
            "sampling_time": "2023-11-24T21:55:46.359891",
            "user_variable_name": "df_ripple",
            "variable_name": "df_ripple"
          },
          "a7474a24-2353-4125-ad98-d0da04147f96": {
            "applied_filters": [],
            "dataframe_info": {
              "default_index_used": true,
              "orig_num_cols": 2,
              "orig_num_rows": 229,
              "orig_size_bytes": 5496,
              "truncated_num_cols": 2,
              "truncated_num_rows": 229,
              "truncated_size_bytes": 5496,
              "truncated_string_columns": []
            },
            "display_id": "a7474a24-2353-4125-ad98-d0da04147f96",
            "dx_settings": {
              "ALLOW_NOTEABLE_ATTRS": true,
              "COLUMN_SAMPLING_METHOD": "outer",
              "DB_LOCATION": ":memory:",
              "DEV_MODE": false,
              "DISPLAY_MAX_COLUMNS": 100,
              "DISPLAY_MAX_ROWS": 50000,
              "DISPLAY_MODE": "simple",
              "ENABLE_ASSIGNMENT": true,
              "ENABLE_DATALINK": true,
              "FLATTEN_COLUMN_VALUES": true,
              "FLATTEN_INDEX_VALUES": false,
              "GENERATE_DEX_METADATA": false,
              "HTML_TABLE_SCHEMA": false,
              "LOG_LEVEL": 30,
              "MAX_RENDER_SIZE_BYTES": 104857600,
              "MAX_STRING_LENGTH": 250,
              "NUM_PAST_SAMPLES_TRACKED": 3,
              "RANDOM_STATE": 12648430,
              "RESET_INDEX_VALUES": false,
              "ROW_SAMPLING_METHOD": "random",
              "SAMPLING_FACTOR": 0.1,
              "SAMPLING_METHOD": "random",
              "STRINGIFY_COLUMN_VALUES": true,
              "STRINGIFY_INDEX_VALUES": false
            },
            "sample_history": [],
            "sampling_time": "2023-11-24T21:56:33.770846",
            "user_variable_name": "df_ripple",
            "variable_name": "df_ripple"
          },
          "986b12a1-4a93-4916-8515-22d5c9c01ccb": {
            "applied_filters": [],
            "dataframe_info": {
              "default_index_used": true,
              "orig_num_cols": 2,
              "orig_num_rows": 229,
              "orig_size_bytes": 5496,
              "truncated_num_cols": 2,
              "truncated_num_rows": 229,
              "truncated_size_bytes": 5496,
              "truncated_string_columns": []
            },
            "display_id": "986b12a1-4a93-4916-8515-22d5c9c01ccb",
            "dx_settings": {
              "ALLOW_NOTEABLE_ATTRS": true,
              "COLUMN_SAMPLING_METHOD": "outer",
              "DB_LOCATION": ":memory:",
              "DEV_MODE": false,
              "DISPLAY_MAX_COLUMNS": 100,
              "DISPLAY_MAX_ROWS": 50000,
              "DISPLAY_MODE": "simple",
              "ENABLE_ASSIGNMENT": true,
              "ENABLE_DATALINK": true,
              "FLATTEN_COLUMN_VALUES": true,
              "FLATTEN_INDEX_VALUES": false,
              "GENERATE_DEX_METADATA": false,
              "HTML_TABLE_SCHEMA": false,
              "LOG_LEVEL": 30,
              "MAX_RENDER_SIZE_BYTES": 104857600,
              "MAX_STRING_LENGTH": 250,
              "NUM_PAST_SAMPLES_TRACKED": 3,
              "RANDOM_STATE": 12648430,
              "RESET_INDEX_VALUES": false,
              "ROW_SAMPLING_METHOD": "random",
              "SAMPLING_FACTOR": 0.1,
              "SAMPLING_METHOD": "random",
              "STRINGIFY_COLUMN_VALUES": true,
              "STRINGIFY_INDEX_VALUES": false
            },
            "sample_history": [],
            "sampling_time": "2023-11-27T03:31:36.788002",
            "user_variable_name": "df_ripple_umap",
            "variable_name": "df_ripple_umap"
          },
          "49d3046b-b80f-4b67-b46f-7005a3492960": {
            "applied_filters": [],
            "dataframe_info": {
              "default_index_used": true,
              "orig_num_cols": 2,
              "orig_num_rows": 229,
              "orig_size_bytes": 5496,
              "truncated_num_cols": 2,
              "truncated_num_rows": 229,
              "truncated_size_bytes": 5496,
              "truncated_string_columns": []
            },
            "display_id": "49d3046b-b80f-4b67-b46f-7005a3492960",
            "dx_settings": {
              "ALLOW_NOTEABLE_ATTRS": true,
              "COLUMN_SAMPLING_METHOD": "outer",
              "DB_LOCATION": ":memory:",
              "DEV_MODE": false,
              "DISPLAY_MAX_COLUMNS": 100,
              "DISPLAY_MAX_ROWS": 50000,
              "DISPLAY_MODE": "simple",
              "ENABLE_ASSIGNMENT": true,
              "ENABLE_DATALINK": true,
              "FLATTEN_COLUMN_VALUES": true,
              "FLATTEN_INDEX_VALUES": false,
              "GENERATE_DEX_METADATA": false,
              "HTML_TABLE_SCHEMA": false,
              "LOG_LEVEL": 30,
              "MAX_RENDER_SIZE_BYTES": 104857600,
              "MAX_STRING_LENGTH": 250,
              "NUM_PAST_SAMPLES_TRACKED": 3,
              "RANDOM_STATE": 12648430,
              "RESET_INDEX_VALUES": false,
              "ROW_SAMPLING_METHOD": "random",
              "SAMPLING_FACTOR": 0.1,
              "SAMPLING_METHOD": "random",
              "STRINGIFY_COLUMN_VALUES": true,
              "STRINGIFY_INDEX_VALUES": false
            },
            "sample_history": [],
            "sampling_time": "2023-11-27T06:04:34.748387",
            "user_variable_name": "df_ripple_umap",
            "variable_name": "df_ripple_umap"
          },
          "b625ea97-c87b-4518-bffd-6075190b3f9e": {
            "applied_filters": [],
            "dataframe_info": {
              "default_index_used": true,
              "orig_num_cols": 2,
              "orig_num_rows": 229,
              "orig_size_bytes": 5496,
              "truncated_num_cols": 2,
              "truncated_num_rows": 229,
              "truncated_size_bytes": 5496,
              "truncated_string_columns": []
            },
            "display_id": "b625ea97-c87b-4518-bffd-6075190b3f9e",
            "dx_settings": {
              "ALLOW_NOTEABLE_ATTRS": true,
              "COLUMN_SAMPLING_METHOD": "outer",
              "DB_LOCATION": ":memory:",
              "DEV_MODE": false,
              "DISPLAY_MAX_COLUMNS": 100,
              "DISPLAY_MAX_ROWS": 50000,
              "DISPLAY_MODE": "simple",
              "ENABLE_ASSIGNMENT": true,
              "ENABLE_DATALINK": true,
              "FLATTEN_COLUMN_VALUES": true,
              "FLATTEN_INDEX_VALUES": false,
              "GENERATE_DEX_METADATA": false,
              "HTML_TABLE_SCHEMA": false,
              "LOG_LEVEL": 30,
              "MAX_RENDER_SIZE_BYTES": 104857600,
              "MAX_STRING_LENGTH": 250,
              "NUM_PAST_SAMPLES_TRACKED": 3,
              "RANDOM_STATE": 12648430,
              "RESET_INDEX_VALUES": false,
              "ROW_SAMPLING_METHOD": "random",
              "SAMPLING_FACTOR": 0.1,
              "SAMPLING_METHOD": "random",
              "STRINGIFY_COLUMN_VALUES": true,
              "STRINGIFY_INDEX_VALUES": false
            },
            "sample_history": [],
            "sampling_time": "2023-11-27T07:51:02.329707",
            "user_variable_name": "df_ripple_umap",
            "variable_name": "df_ripple_umap"
          },
          "0bc2999b-2149-4624-95e7-588656c6cae1": {
            "applied_filters": [],
            "dataframe_info": {
              "default_index_used": true,
              "orig_num_cols": 2,
              "orig_num_rows": 229,
              "orig_size_bytes": 5496,
              "truncated_num_cols": 2,
              "truncated_num_rows": 229,
              "truncated_size_bytes": 5496,
              "truncated_string_columns": []
            },
            "display_id": "0bc2999b-2149-4624-95e7-588656c6cae1",
            "dx_settings": {
              "ALLOW_NOTEABLE_ATTRS": true,
              "COLUMN_SAMPLING_METHOD": "outer",
              "DB_LOCATION": ":memory:",
              "DEV_MODE": false,
              "DISPLAY_MAX_COLUMNS": 100,
              "DISPLAY_MAX_ROWS": 50000,
              "DISPLAY_MODE": "simple",
              "ENABLE_ASSIGNMENT": true,
              "ENABLE_DATALINK": true,
              "FLATTEN_COLUMN_VALUES": true,
              "FLATTEN_INDEX_VALUES": false,
              "GENERATE_DEX_METADATA": false,
              "HTML_TABLE_SCHEMA": false,
              "LOG_LEVEL": 30,
              "MAX_RENDER_SIZE_BYTES": 104857600,
              "MAX_STRING_LENGTH": 250,
              "NUM_PAST_SAMPLES_TRACKED": 3,
              "RANDOM_STATE": 12648430,
              "RESET_INDEX_VALUES": false,
              "ROW_SAMPLING_METHOD": "random",
              "SAMPLING_FACTOR": 0.1,
              "SAMPLING_METHOD": "random",
              "STRINGIFY_COLUMN_VALUES": true,
              "STRINGIFY_INDEX_VALUES": false
            },
            "sample_history": [],
            "sampling_time": "2023-11-27T14:19:33.339690",
            "user_variable_name": "df_ripple_umap",
            "variable_name": "df_ripple_umap"
          },
          "bf0a8414-f30a-4b4a-9467-f93f62480a0a": {
            "applied_filters": [],
            "dataframe_info": {
              "default_index_used": true,
              "orig_num_cols": 2,
              "orig_num_rows": 229,
              "orig_size_bytes": 5496,
              "truncated_num_cols": 2,
              "truncated_num_rows": 229,
              "truncated_size_bytes": 5496,
              "truncated_string_columns": []
            },
            "display_id": "bf0a8414-f30a-4b4a-9467-f93f62480a0a",
            "dx_settings": {
              "ALLOW_NOTEABLE_ATTRS": true,
              "COLUMN_SAMPLING_METHOD": "outer",
              "DB_LOCATION": ":memory:",
              "DEV_MODE": false,
              "DISPLAY_MAX_COLUMNS": 100,
              "DISPLAY_MAX_ROWS": 50000,
              "DISPLAY_MODE": "simple",
              "ENABLE_ASSIGNMENT": true,
              "ENABLE_DATALINK": true,
              "FLATTEN_COLUMN_VALUES": true,
              "FLATTEN_INDEX_VALUES": false,
              "GENERATE_DEX_METADATA": false,
              "HTML_TABLE_SCHEMA": false,
              "LOG_LEVEL": 30,
              "MAX_RENDER_SIZE_BYTES": 104857600,
              "MAX_STRING_LENGTH": 250,
              "NUM_PAST_SAMPLES_TRACKED": 3,
              "RANDOM_STATE": 12648430,
              "RESET_INDEX_VALUES": false,
              "ROW_SAMPLING_METHOD": "random",
              "SAMPLING_FACTOR": 0.1,
              "SAMPLING_METHOD": "random",
              "STRINGIFY_COLUMN_VALUES": true,
              "STRINGIFY_INDEX_VALUES": false
            },
            "sample_history": [],
            "sampling_time": "2023-11-27T14:31:08.959035",
            "user_variable_name": "df_ripple_umap",
            "variable_name": "df_ripple_umap"
          },
          "2c08c8ab-9f26-482b-b3df-be69744a4312": {
            "applied_filters": [],
            "dataframe_info": {
              "default_index_used": true,
              "orig_num_cols": 2,
              "orig_num_rows": 229,
              "orig_size_bytes": 5496,
              "truncated_num_cols": 2,
              "truncated_num_rows": 229,
              "truncated_size_bytes": 5496,
              "truncated_string_columns": []
            },
            "display_id": "2c08c8ab-9f26-482b-b3df-be69744a4312",
            "dx_settings": {
              "ALLOW_NOTEABLE_ATTRS": true,
              "COLUMN_SAMPLING_METHOD": "outer",
              "DB_LOCATION": ":memory:",
              "DEV_MODE": false,
              "DISPLAY_MAX_COLUMNS": 100,
              "DISPLAY_MAX_ROWS": 50000,
              "DISPLAY_MODE": "simple",
              "ENABLE_ASSIGNMENT": true,
              "ENABLE_DATALINK": true,
              "FLATTEN_COLUMN_VALUES": true,
              "FLATTEN_INDEX_VALUES": false,
              "GENERATE_DEX_METADATA": false,
              "HTML_TABLE_SCHEMA": false,
              "LOG_LEVEL": 30,
              "MAX_RENDER_SIZE_BYTES": 104857600,
              "MAX_STRING_LENGTH": 250,
              "NUM_PAST_SAMPLES_TRACKED": 3,
              "RANDOM_STATE": 12648430,
              "RESET_INDEX_VALUES": false,
              "ROW_SAMPLING_METHOD": "random",
              "SAMPLING_FACTOR": 0.1,
              "SAMPLING_METHOD": "random",
              "STRINGIFY_COLUMN_VALUES": true,
              "STRINGIFY_INDEX_VALUES": false
            },
            "sample_history": [],
            "sampling_time": "2023-11-28T10:08:36.978651",
            "user_variable_name": "df_ripple_umap",
            "variable_name": "df_ripple_umap"
          }
        }
      },
      "execution_count": null,
      "source": "df_ripple_umap = df_clustering(umap_3_embedding)\ndf_ripple_umap",
      "outputs": []
    },
    {
      "id": "2b3b5653-110a-4353-b735-074cf5d1aeb2",
      "cell_type": "code",
      "metadata": {
        "jupyter": {
          "outputs_hidden": false,
          "source_hidden": false
        },
        "noteable": {
          "cell_type": "code",
          "output_collection_id": "4c1f6df6-fd67-4d8c-98ca-4d5b6b94caaa"
        },
        "ExecuteTime": {
          "end_time": "2023-11-28T10:08:39.474980+00:00",
          "start_time": "2023-11-28T10:08:38.738553+00:00"
        }
      },
      "execution_count": null,
      "source": "#\n# Clusters in TriMAP 3D embedding\n#\nplot_clustering_diagram(trimap_3_embedding)",
      "outputs": []
    },
    {
      "id": "f0bcc97e-9497-45bb-b068-03b7bd35614c",
      "cell_type": "code",
      "metadata": {
        "jupyter": {
          "outputs_hidden": false,
          "source_hidden": false
        },
        "noteable": {
          "cell_type": "code",
          "output_collection_id": "4ce85352-56dd-476d-8259-a08e6673decc"
        },
        "ExecuteTime": {
          "end_time": "2023-11-28T10:08:39.820815+00:00",
          "start_time": "2023-11-28T10:08:39.608996+00:00"
        },
        "datalink": {
          "1897e59c-7543-4dc2-8f9e-84355f3b4778": {
            "applied_filters": [],
            "dataframe_info": {
              "default_index_used": true,
              "orig_num_cols": 2,
              "orig_num_rows": 229,
              "orig_size_bytes": 5496,
              "truncated_num_cols": 2,
              "truncated_num_rows": 229,
              "truncated_size_bytes": 5496,
              "truncated_string_columns": []
            },
            "display_id": "1897e59c-7543-4dc2-8f9e-84355f3b4778",
            "dx_settings": {
              "ALLOW_NOTEABLE_ATTRS": true,
              "COLUMN_SAMPLING_METHOD": "outer",
              "DB_LOCATION": ":memory:",
              "DEV_MODE": false,
              "DISPLAY_MAX_COLUMNS": 100,
              "DISPLAY_MAX_ROWS": 50000,
              "DISPLAY_MODE": "simple",
              "ENABLE_ASSIGNMENT": true,
              "ENABLE_DATALINK": true,
              "FLATTEN_COLUMN_VALUES": true,
              "FLATTEN_INDEX_VALUES": false,
              "GENERATE_DEX_METADATA": false,
              "HTML_TABLE_SCHEMA": false,
              "LOG_LEVEL": 30,
              "MAX_RENDER_SIZE_BYTES": 104857600,
              "MAX_STRING_LENGTH": 250,
              "NUM_PAST_SAMPLES_TRACKED": 3,
              "RANDOM_STATE": 12648430,
              "RESET_INDEX_VALUES": false,
              "ROW_SAMPLING_METHOD": "random",
              "SAMPLING_FACTOR": 0.1,
              "SAMPLING_METHOD": "random",
              "STRINGIFY_COLUMN_VALUES": true,
              "STRINGIFY_INDEX_VALUES": false
            },
            "sample_history": [],
            "sampling_time": "2023-11-24T21:57:02.455345",
            "user_variable_name": "df_ripple",
            "variable_name": "df_ripple"
          },
          "5c692db3-cb91-44f7-8c1f-384edfeddb79": {
            "applied_filters": [],
            "dataframe_info": {
              "default_index_used": true,
              "orig_num_cols": 2,
              "orig_num_rows": 229,
              "orig_size_bytes": 5496,
              "truncated_num_cols": 2,
              "truncated_num_rows": 229,
              "truncated_size_bytes": 5496,
              "truncated_string_columns": []
            },
            "display_id": "5c692db3-cb91-44f7-8c1f-384edfeddb79",
            "dx_settings": {
              "ALLOW_NOTEABLE_ATTRS": true,
              "COLUMN_SAMPLING_METHOD": "outer",
              "DB_LOCATION": ":memory:",
              "DEV_MODE": false,
              "DISPLAY_MAX_COLUMNS": 100,
              "DISPLAY_MAX_ROWS": 50000,
              "DISPLAY_MODE": "simple",
              "ENABLE_ASSIGNMENT": true,
              "ENABLE_DATALINK": true,
              "FLATTEN_COLUMN_VALUES": true,
              "FLATTEN_INDEX_VALUES": false,
              "GENERATE_DEX_METADATA": false,
              "HTML_TABLE_SCHEMA": false,
              "LOG_LEVEL": 30,
              "MAX_RENDER_SIZE_BYTES": 104857600,
              "MAX_STRING_LENGTH": 250,
              "NUM_PAST_SAMPLES_TRACKED": 3,
              "RANDOM_STATE": 12648430,
              "RESET_INDEX_VALUES": false,
              "ROW_SAMPLING_METHOD": "random",
              "SAMPLING_FACTOR": 0.1,
              "SAMPLING_METHOD": "random",
              "STRINGIFY_COLUMN_VALUES": true,
              "STRINGIFY_INDEX_VALUES": false
            },
            "sample_history": [],
            "sampling_time": "2023-11-24T21:57:13.873288",
            "user_variable_name": "df_ripple_trimap",
            "variable_name": "df_ripple_trimap"
          },
          "a5507832-2e8a-46c0-8072-fe60202e1959": {
            "applied_filters": [],
            "dataframe_info": {
              "default_index_used": true,
              "orig_num_cols": 2,
              "orig_num_rows": 229,
              "orig_size_bytes": 5496,
              "truncated_num_cols": 2,
              "truncated_num_rows": 229,
              "truncated_size_bytes": 5496,
              "truncated_string_columns": []
            },
            "display_id": "a5507832-2e8a-46c0-8072-fe60202e1959",
            "dx_settings": {
              "ALLOW_NOTEABLE_ATTRS": true,
              "COLUMN_SAMPLING_METHOD": "outer",
              "DB_LOCATION": ":memory:",
              "DEV_MODE": false,
              "DISPLAY_MAX_COLUMNS": 100,
              "DISPLAY_MAX_ROWS": 50000,
              "DISPLAY_MODE": "simple",
              "ENABLE_ASSIGNMENT": true,
              "ENABLE_DATALINK": true,
              "FLATTEN_COLUMN_VALUES": true,
              "FLATTEN_INDEX_VALUES": false,
              "GENERATE_DEX_METADATA": false,
              "HTML_TABLE_SCHEMA": false,
              "LOG_LEVEL": 30,
              "MAX_RENDER_SIZE_BYTES": 104857600,
              "MAX_STRING_LENGTH": 250,
              "NUM_PAST_SAMPLES_TRACKED": 3,
              "RANDOM_STATE": 12648430,
              "RESET_INDEX_VALUES": false,
              "ROW_SAMPLING_METHOD": "random",
              "SAMPLING_FACTOR": 0.1,
              "SAMPLING_METHOD": "random",
              "STRINGIFY_COLUMN_VALUES": true,
              "STRINGIFY_INDEX_VALUES": false
            },
            "sample_history": [],
            "sampling_time": "2023-11-27T03:31:39.425353",
            "user_variable_name": "df_ripple_trimap",
            "variable_name": "df_ripple_trimap"
          },
          "a1e38a89-46f2-46e8-893d-5644a801d731": {
            "applied_filters": [],
            "dataframe_info": {
              "default_index_used": true,
              "orig_num_cols": 2,
              "orig_num_rows": 229,
              "orig_size_bytes": 5496,
              "truncated_num_cols": 2,
              "truncated_num_rows": 229,
              "truncated_size_bytes": 5496,
              "truncated_string_columns": []
            },
            "display_id": "a1e38a89-46f2-46e8-893d-5644a801d731",
            "dx_settings": {
              "ALLOW_NOTEABLE_ATTRS": true,
              "COLUMN_SAMPLING_METHOD": "outer",
              "DB_LOCATION": ":memory:",
              "DEV_MODE": false,
              "DISPLAY_MAX_COLUMNS": 100,
              "DISPLAY_MAX_ROWS": 50000,
              "DISPLAY_MODE": "simple",
              "ENABLE_ASSIGNMENT": true,
              "ENABLE_DATALINK": true,
              "FLATTEN_COLUMN_VALUES": true,
              "FLATTEN_INDEX_VALUES": false,
              "GENERATE_DEX_METADATA": false,
              "HTML_TABLE_SCHEMA": false,
              "LOG_LEVEL": 30,
              "MAX_RENDER_SIZE_BYTES": 104857600,
              "MAX_STRING_LENGTH": 250,
              "NUM_PAST_SAMPLES_TRACKED": 3,
              "RANDOM_STATE": 12648430,
              "RESET_INDEX_VALUES": false,
              "ROW_SAMPLING_METHOD": "random",
              "SAMPLING_FACTOR": 0.1,
              "SAMPLING_METHOD": "random",
              "STRINGIFY_COLUMN_VALUES": true,
              "STRINGIFY_INDEX_VALUES": false
            },
            "sample_history": [],
            "sampling_time": "2023-11-27T06:04:36.618100",
            "user_variable_name": "df_ripple_trimap",
            "variable_name": "df_ripple_trimap"
          },
          "ea8ba73f-7343-4f0f-ac6c-bf80aa7cb8a6": {
            "applied_filters": [],
            "dataframe_info": {
              "default_index_used": true,
              "orig_num_cols": 2,
              "orig_num_rows": 229,
              "orig_size_bytes": 5496,
              "truncated_num_cols": 2,
              "truncated_num_rows": 229,
              "truncated_size_bytes": 5496,
              "truncated_string_columns": []
            },
            "display_id": "ea8ba73f-7343-4f0f-ac6c-bf80aa7cb8a6",
            "dx_settings": {
              "ALLOW_NOTEABLE_ATTRS": true,
              "COLUMN_SAMPLING_METHOD": "outer",
              "DB_LOCATION": ":memory:",
              "DEV_MODE": false,
              "DISPLAY_MAX_COLUMNS": 100,
              "DISPLAY_MAX_ROWS": 50000,
              "DISPLAY_MODE": "simple",
              "ENABLE_ASSIGNMENT": true,
              "ENABLE_DATALINK": true,
              "FLATTEN_COLUMN_VALUES": true,
              "FLATTEN_INDEX_VALUES": false,
              "GENERATE_DEX_METADATA": false,
              "HTML_TABLE_SCHEMA": false,
              "LOG_LEVEL": 30,
              "MAX_RENDER_SIZE_BYTES": 104857600,
              "MAX_STRING_LENGTH": 250,
              "NUM_PAST_SAMPLES_TRACKED": 3,
              "RANDOM_STATE": 12648430,
              "RESET_INDEX_VALUES": false,
              "ROW_SAMPLING_METHOD": "random",
              "SAMPLING_FACTOR": 0.1,
              "SAMPLING_METHOD": "random",
              "STRINGIFY_COLUMN_VALUES": true,
              "STRINGIFY_INDEX_VALUES": false
            },
            "sample_history": [],
            "sampling_time": "2023-11-27T07:51:04.055096",
            "user_variable_name": "df_ripple_trimap",
            "variable_name": "df_ripple_trimap"
          },
          "d46c9fd2-3822-4260-a5cc-dd84fe5d0f1a": {
            "applied_filters": [],
            "dataframe_info": {
              "default_index_used": true,
              "orig_num_cols": 2,
              "orig_num_rows": 229,
              "orig_size_bytes": 5496,
              "truncated_num_cols": 2,
              "truncated_num_rows": 229,
              "truncated_size_bytes": 5496,
              "truncated_string_columns": []
            },
            "display_id": "d46c9fd2-3822-4260-a5cc-dd84fe5d0f1a",
            "dx_settings": {
              "ALLOW_NOTEABLE_ATTRS": true,
              "COLUMN_SAMPLING_METHOD": "outer",
              "DB_LOCATION": ":memory:",
              "DEV_MODE": false,
              "DISPLAY_MAX_COLUMNS": 100,
              "DISPLAY_MAX_ROWS": 50000,
              "DISPLAY_MODE": "simple",
              "ENABLE_ASSIGNMENT": true,
              "ENABLE_DATALINK": true,
              "FLATTEN_COLUMN_VALUES": true,
              "FLATTEN_INDEX_VALUES": false,
              "GENERATE_DEX_METADATA": false,
              "HTML_TABLE_SCHEMA": false,
              "LOG_LEVEL": 30,
              "MAX_RENDER_SIZE_BYTES": 104857600,
              "MAX_STRING_LENGTH": 250,
              "NUM_PAST_SAMPLES_TRACKED": 3,
              "RANDOM_STATE": 12648430,
              "RESET_INDEX_VALUES": false,
              "ROW_SAMPLING_METHOD": "random",
              "SAMPLING_FACTOR": 0.1,
              "SAMPLING_METHOD": "random",
              "STRINGIFY_COLUMN_VALUES": true,
              "STRINGIFY_INDEX_VALUES": false
            },
            "sample_history": [],
            "sampling_time": "2023-11-27T14:19:36.155513",
            "user_variable_name": "df_ripple_trimap",
            "variable_name": "df_ripple_trimap"
          },
          "8be1f7c6-537e-4f37-bb10-16f858098127": {
            "applied_filters": [],
            "dataframe_info": {
              "default_index_used": true,
              "orig_num_cols": 2,
              "orig_num_rows": 229,
              "orig_size_bytes": 5496,
              "truncated_num_cols": 2,
              "truncated_num_rows": 229,
              "truncated_size_bytes": 5496,
              "truncated_string_columns": []
            },
            "display_id": "8be1f7c6-537e-4f37-bb10-16f858098127",
            "dx_settings": {
              "ALLOW_NOTEABLE_ATTRS": true,
              "COLUMN_SAMPLING_METHOD": "outer",
              "DB_LOCATION": ":memory:",
              "DEV_MODE": false,
              "DISPLAY_MAX_COLUMNS": 100,
              "DISPLAY_MAX_ROWS": 50000,
              "DISPLAY_MODE": "simple",
              "ENABLE_ASSIGNMENT": true,
              "ENABLE_DATALINK": true,
              "FLATTEN_COLUMN_VALUES": true,
              "FLATTEN_INDEX_VALUES": false,
              "GENERATE_DEX_METADATA": false,
              "HTML_TABLE_SCHEMA": false,
              "LOG_LEVEL": 30,
              "MAX_RENDER_SIZE_BYTES": 104857600,
              "MAX_STRING_LENGTH": 250,
              "NUM_PAST_SAMPLES_TRACKED": 3,
              "RANDOM_STATE": 12648430,
              "RESET_INDEX_VALUES": false,
              "ROW_SAMPLING_METHOD": "random",
              "SAMPLING_FACTOR": 0.1,
              "SAMPLING_METHOD": "random",
              "STRINGIFY_COLUMN_VALUES": true,
              "STRINGIFY_INDEX_VALUES": false
            },
            "sample_history": [],
            "sampling_time": "2023-11-27T14:31:11.988336",
            "user_variable_name": "df_ripple_trimap",
            "variable_name": "df_ripple_trimap"
          },
          "338a5eae-3841-4fc1-a900-667fc8fc6f41": {
            "applied_filters": [],
            "dataframe_info": {
              "default_index_used": true,
              "orig_num_cols": 2,
              "orig_num_rows": 229,
              "orig_size_bytes": 5496,
              "truncated_num_cols": 2,
              "truncated_num_rows": 229,
              "truncated_size_bytes": 5496,
              "truncated_string_columns": []
            },
            "display_id": "338a5eae-3841-4fc1-a900-667fc8fc6f41",
            "dx_settings": {
              "ALLOW_NOTEABLE_ATTRS": true,
              "COLUMN_SAMPLING_METHOD": "outer",
              "DB_LOCATION": ":memory:",
              "DEV_MODE": false,
              "DISPLAY_MAX_COLUMNS": 100,
              "DISPLAY_MAX_ROWS": 50000,
              "DISPLAY_MODE": "simple",
              "ENABLE_ASSIGNMENT": true,
              "ENABLE_DATALINK": true,
              "FLATTEN_COLUMN_VALUES": true,
              "FLATTEN_INDEX_VALUES": false,
              "GENERATE_DEX_METADATA": false,
              "HTML_TABLE_SCHEMA": false,
              "LOG_LEVEL": 30,
              "MAX_RENDER_SIZE_BYTES": 104857600,
              "MAX_STRING_LENGTH": 250,
              "NUM_PAST_SAMPLES_TRACKED": 3,
              "RANDOM_STATE": 12648430,
              "RESET_INDEX_VALUES": false,
              "ROW_SAMPLING_METHOD": "random",
              "SAMPLING_FACTOR": 0.1,
              "SAMPLING_METHOD": "random",
              "STRINGIFY_COLUMN_VALUES": true,
              "STRINGIFY_INDEX_VALUES": false
            },
            "sample_history": [],
            "sampling_time": "2023-11-28T10:08:39.661597",
            "user_variable_name": "df_ripple_trimap",
            "variable_name": "df_ripple_trimap"
          }
        }
      },
      "execution_count": null,
      "source": "df_ripple_trimap = df_clustering(trimap_3_embedding)\ndf_ripple_trimap",
      "outputs": []
    },
    {
      "id": "9a2c832d-ee88-4b39-9006-bc33c6472f07",
      "cell_type": "code",
      "metadata": {
        "jupyter": {
          "outputs_hidden": false,
          "source_hidden": false
        },
        "noteable": {
          "cell_type": "code",
          "output_collection_id": "c4791992-4ef8-41fb-bbc3-3252e680e4fc"
        },
        "ExecuteTime": {
          "end_time": "2023-11-28T10:08:41.915069+00:00",
          "start_time": "2023-11-28T10:08:41.164162+00:00"
        }
      },
      "execution_count": null,
      "source": "#\n# Clusters in PaCMAP 3D embedding\n#\nplot_clustering_diagram(pacmap_3_embedding)",
      "outputs": []
    },
    {
      "id": "07f1b5ce-f5e5-4165-83dc-1c9a47e85724",
      "cell_type": "code",
      "metadata": {
        "jupyter": {
          "outputs_hidden": false,
          "source_hidden": false
        },
        "noteable": {
          "cell_type": "code",
          "output_collection_id": "c84e87c6-edb4-46a3-a16d-5bdb66c0aab1"
        },
        "ExecuteTime": {
          "end_time": "2023-11-28T10:08:44.112917+00:00",
          "start_time": "2023-11-28T10:08:43.895530+00:00"
        },
        "datalink": {
          "38253ecc-fd9e-40eb-bfeb-15c880c7f272": {
            "applied_filters": [],
            "dataframe_info": {
              "default_index_used": true,
              "orig_num_cols": 2,
              "orig_num_rows": 229,
              "orig_size_bytes": 5496,
              "truncated_num_cols": 2,
              "truncated_num_rows": 229,
              "truncated_size_bytes": 5496,
              "truncated_string_columns": []
            },
            "display_id": "38253ecc-fd9e-40eb-bfeb-15c880c7f272",
            "dx_settings": {
              "ALLOW_NOTEABLE_ATTRS": true,
              "COLUMN_SAMPLING_METHOD": "outer",
              "DB_LOCATION": ":memory:",
              "DEV_MODE": false,
              "DISPLAY_MAX_COLUMNS": 100,
              "DISPLAY_MAX_ROWS": 50000,
              "DISPLAY_MODE": "simple",
              "ENABLE_ASSIGNMENT": true,
              "ENABLE_DATALINK": true,
              "FLATTEN_COLUMN_VALUES": true,
              "FLATTEN_INDEX_VALUES": false,
              "GENERATE_DEX_METADATA": false,
              "HTML_TABLE_SCHEMA": false,
              "LOG_LEVEL": 30,
              "MAX_RENDER_SIZE_BYTES": 104857600,
              "MAX_STRING_LENGTH": 250,
              "NUM_PAST_SAMPLES_TRACKED": 3,
              "RANDOM_STATE": 12648430,
              "RESET_INDEX_VALUES": false,
              "ROW_SAMPLING_METHOD": "random",
              "SAMPLING_FACTOR": 0.1,
              "SAMPLING_METHOD": "random",
              "STRINGIFY_COLUMN_VALUES": true,
              "STRINGIFY_INDEX_VALUES": false
            },
            "sample_history": [],
            "sampling_time": "2023-11-24T21:58:28.098461",
            "user_variable_name": "df_ripple_pacmap",
            "variable_name": "df_ripple_pacmap"
          },
          "0404af7d-2952-4e48-a9f4-d8e0f5e998ea": {
            "applied_filters": [],
            "dataframe_info": {
              "default_index_used": true,
              "orig_num_cols": 2,
              "orig_num_rows": 229,
              "orig_size_bytes": 5496,
              "truncated_num_cols": 2,
              "truncated_num_rows": 229,
              "truncated_size_bytes": 5496,
              "truncated_string_columns": []
            },
            "display_id": "0404af7d-2952-4e48-a9f4-d8e0f5e998ea",
            "dx_settings": {
              "ALLOW_NOTEABLE_ATTRS": true,
              "COLUMN_SAMPLING_METHOD": "outer",
              "DB_LOCATION": ":memory:",
              "DEV_MODE": false,
              "DISPLAY_MAX_COLUMNS": 100,
              "DISPLAY_MAX_ROWS": 50000,
              "DISPLAY_MODE": "simple",
              "ENABLE_ASSIGNMENT": true,
              "ENABLE_DATALINK": true,
              "FLATTEN_COLUMN_VALUES": true,
              "FLATTEN_INDEX_VALUES": false,
              "GENERATE_DEX_METADATA": false,
              "HTML_TABLE_SCHEMA": false,
              "LOG_LEVEL": 30,
              "MAX_RENDER_SIZE_BYTES": 104857600,
              "MAX_STRING_LENGTH": 250,
              "NUM_PAST_SAMPLES_TRACKED": 3,
              "RANDOM_STATE": 12648430,
              "RESET_INDEX_VALUES": false,
              "ROW_SAMPLING_METHOD": "random",
              "SAMPLING_FACTOR": 0.1,
              "SAMPLING_METHOD": "random",
              "STRINGIFY_COLUMN_VALUES": true,
              "STRINGIFY_INDEX_VALUES": false
            },
            "sample_history": [],
            "sampling_time": "2023-11-27T03:31:43.599516",
            "user_variable_name": "df_ripple_pacmap",
            "variable_name": "df_ripple_pacmap"
          },
          "b9f5c1ef-00ca-49e5-bdff-fa1ce2304278": {
            "applied_filters": [],
            "dataframe_info": {
              "default_index_used": true,
              "orig_num_cols": 2,
              "orig_num_rows": 229,
              "orig_size_bytes": 5496,
              "truncated_num_cols": 2,
              "truncated_num_rows": 229,
              "truncated_size_bytes": 5496,
              "truncated_string_columns": []
            },
            "display_id": "b9f5c1ef-00ca-49e5-bdff-fa1ce2304278",
            "dx_settings": {
              "ALLOW_NOTEABLE_ATTRS": true,
              "COLUMN_SAMPLING_METHOD": "outer",
              "DB_LOCATION": ":memory:",
              "DEV_MODE": false,
              "DISPLAY_MAX_COLUMNS": 100,
              "DISPLAY_MAX_ROWS": 50000,
              "DISPLAY_MODE": "simple",
              "ENABLE_ASSIGNMENT": true,
              "ENABLE_DATALINK": true,
              "FLATTEN_COLUMN_VALUES": true,
              "FLATTEN_INDEX_VALUES": false,
              "GENERATE_DEX_METADATA": false,
              "HTML_TABLE_SCHEMA": false,
              "LOG_LEVEL": 30,
              "MAX_RENDER_SIZE_BYTES": 104857600,
              "MAX_STRING_LENGTH": 250,
              "NUM_PAST_SAMPLES_TRACKED": 3,
              "RANDOM_STATE": 12648430,
              "RESET_INDEX_VALUES": false,
              "ROW_SAMPLING_METHOD": "random",
              "SAMPLING_FACTOR": 0.1,
              "SAMPLING_METHOD": "random",
              "STRINGIFY_COLUMN_VALUES": true,
              "STRINGIFY_INDEX_VALUES": false
            },
            "sample_history": [],
            "sampling_time": "2023-11-27T06:04:39.807973",
            "user_variable_name": "df_ripple_pacmap",
            "variable_name": "df_ripple_pacmap"
          },
          "983b6c5a-d387-4b2e-b9b6-dc2f354a2075": {
            "applied_filters": [],
            "dataframe_info": {
              "default_index_used": true,
              "orig_num_cols": 2,
              "orig_num_rows": 229,
              "orig_size_bytes": 5496,
              "truncated_num_cols": 2,
              "truncated_num_rows": 229,
              "truncated_size_bytes": 5496,
              "truncated_string_columns": []
            },
            "display_id": "983b6c5a-d387-4b2e-b9b6-dc2f354a2075",
            "dx_settings": {
              "ALLOW_NOTEABLE_ATTRS": true,
              "COLUMN_SAMPLING_METHOD": "outer",
              "DB_LOCATION": ":memory:",
              "DEV_MODE": false,
              "DISPLAY_MAX_COLUMNS": 100,
              "DISPLAY_MAX_ROWS": 50000,
              "DISPLAY_MODE": "simple",
              "ENABLE_ASSIGNMENT": true,
              "ENABLE_DATALINK": true,
              "FLATTEN_COLUMN_VALUES": true,
              "FLATTEN_INDEX_VALUES": false,
              "GENERATE_DEX_METADATA": false,
              "HTML_TABLE_SCHEMA": false,
              "LOG_LEVEL": 30,
              "MAX_RENDER_SIZE_BYTES": 104857600,
              "MAX_STRING_LENGTH": 250,
              "NUM_PAST_SAMPLES_TRACKED": 3,
              "RANDOM_STATE": 12648430,
              "RESET_INDEX_VALUES": false,
              "ROW_SAMPLING_METHOD": "random",
              "SAMPLING_FACTOR": 0.1,
              "SAMPLING_METHOD": "random",
              "STRINGIFY_COLUMN_VALUES": true,
              "STRINGIFY_INDEX_VALUES": false
            },
            "sample_history": [],
            "sampling_time": "2023-11-27T07:51:05.110642",
            "user_variable_name": "df_ripple_pacmap",
            "variable_name": "df_ripple_pacmap"
          },
          "5a32041c-c289-498d-88a0-22547f82c771": {
            "applied_filters": [],
            "dataframe_info": {
              "default_index_used": true,
              "orig_num_cols": 2,
              "orig_num_rows": 229,
              "orig_size_bytes": 5496,
              "truncated_num_cols": 2,
              "truncated_num_rows": 229,
              "truncated_size_bytes": 5496,
              "truncated_string_columns": []
            },
            "display_id": "5a32041c-c289-498d-88a0-22547f82c771",
            "dx_settings": {
              "ALLOW_NOTEABLE_ATTRS": true,
              "COLUMN_SAMPLING_METHOD": "outer",
              "DB_LOCATION": ":memory:",
              "DEV_MODE": false,
              "DISPLAY_MAX_COLUMNS": 100,
              "DISPLAY_MAX_ROWS": 50000,
              "DISPLAY_MODE": "simple",
              "ENABLE_ASSIGNMENT": true,
              "ENABLE_DATALINK": true,
              "FLATTEN_COLUMN_VALUES": true,
              "FLATTEN_INDEX_VALUES": false,
              "GENERATE_DEX_METADATA": false,
              "HTML_TABLE_SCHEMA": false,
              "LOG_LEVEL": 30,
              "MAX_RENDER_SIZE_BYTES": 104857600,
              "MAX_STRING_LENGTH": 250,
              "NUM_PAST_SAMPLES_TRACKED": 3,
              "RANDOM_STATE": 12648430,
              "RESET_INDEX_VALUES": false,
              "ROW_SAMPLING_METHOD": "random",
              "SAMPLING_FACTOR": 0.1,
              "SAMPLING_METHOD": "random",
              "STRINGIFY_COLUMN_VALUES": true,
              "STRINGIFY_INDEX_VALUES": false
            },
            "sample_history": [],
            "sampling_time": "2023-11-27T14:19:38.246214",
            "user_variable_name": "df_ripple_pacmap",
            "variable_name": "df_ripple_pacmap"
          },
          "e0a4b703-68fd-4d19-989d-aa207d904371": {
            "applied_filters": [],
            "dataframe_info": {
              "default_index_used": true,
              "orig_num_cols": 2,
              "orig_num_rows": 229,
              "orig_size_bytes": 5496,
              "truncated_num_cols": 2,
              "truncated_num_rows": 229,
              "truncated_size_bytes": 5496,
              "truncated_string_columns": []
            },
            "display_id": "e0a4b703-68fd-4d19-989d-aa207d904371",
            "dx_settings": {
              "ALLOW_NOTEABLE_ATTRS": true,
              "COLUMN_SAMPLING_METHOD": "outer",
              "DB_LOCATION": ":memory:",
              "DEV_MODE": false,
              "DISPLAY_MAX_COLUMNS": 100,
              "DISPLAY_MAX_ROWS": 50000,
              "DISPLAY_MODE": "simple",
              "ENABLE_ASSIGNMENT": true,
              "ENABLE_DATALINK": true,
              "FLATTEN_COLUMN_VALUES": true,
              "FLATTEN_INDEX_VALUES": false,
              "GENERATE_DEX_METADATA": false,
              "HTML_TABLE_SCHEMA": false,
              "LOG_LEVEL": 30,
              "MAX_RENDER_SIZE_BYTES": 104857600,
              "MAX_STRING_LENGTH": 250,
              "NUM_PAST_SAMPLES_TRACKED": 3,
              "RANDOM_STATE": 12648430,
              "RESET_INDEX_VALUES": false,
              "ROW_SAMPLING_METHOD": "random",
              "SAMPLING_FACTOR": 0.1,
              "SAMPLING_METHOD": "random",
              "STRINGIFY_COLUMN_VALUES": true,
              "STRINGIFY_INDEX_VALUES": false
            },
            "sample_history": [],
            "sampling_time": "2023-11-27T14:31:18.168105",
            "user_variable_name": "df_ripple_pacmap",
            "variable_name": "df_ripple_pacmap"
          },
          "3068f407-4801-4f35-966c-b1b86fdf37a9": {
            "applied_filters": [],
            "dataframe_info": {
              "default_index_used": true,
              "orig_num_cols": 2,
              "orig_num_rows": 229,
              "orig_size_bytes": 5496,
              "truncated_num_cols": 2,
              "truncated_num_rows": 229,
              "truncated_size_bytes": 5496,
              "truncated_string_columns": []
            },
            "display_id": "3068f407-4801-4f35-966c-b1b86fdf37a9",
            "dx_settings": {
              "ALLOW_NOTEABLE_ATTRS": true,
              "COLUMN_SAMPLING_METHOD": "outer",
              "DB_LOCATION": ":memory:",
              "DEV_MODE": false,
              "DISPLAY_MAX_COLUMNS": 100,
              "DISPLAY_MAX_ROWS": 50000,
              "DISPLAY_MODE": "simple",
              "ENABLE_ASSIGNMENT": true,
              "ENABLE_DATALINK": true,
              "FLATTEN_COLUMN_VALUES": true,
              "FLATTEN_INDEX_VALUES": false,
              "GENERATE_DEX_METADATA": false,
              "HTML_TABLE_SCHEMA": false,
              "LOG_LEVEL": 30,
              "MAX_RENDER_SIZE_BYTES": 104857600,
              "MAX_STRING_LENGTH": 250,
              "NUM_PAST_SAMPLES_TRACKED": 3,
              "RANDOM_STATE": 12648430,
              "RESET_INDEX_VALUES": false,
              "ROW_SAMPLING_METHOD": "random",
              "SAMPLING_FACTOR": 0.1,
              "SAMPLING_METHOD": "random",
              "STRINGIFY_COLUMN_VALUES": true,
              "STRINGIFY_INDEX_VALUES": false
            },
            "sample_history": [],
            "sampling_time": "2023-11-28T10:08:43.953796",
            "user_variable_name": "df_ripple_pacmap",
            "variable_name": "df_ripple_pacmap"
          }
        }
      },
      "execution_count": null,
      "source": "df_ripple_pacmap = df_clustering(pacmap_3_embedding)\ndf_ripple_pacmap",
      "outputs": []
    },
    {
      "id": "154bc360-5286-478d-9988-9312b5a2f29e",
      "cell_type": "code",
      "metadata": {
        "jupyter": {
          "outputs_hidden": false,
          "source_hidden": false
        },
        "noteable": {
          "cell_type": "code",
          "output_collection_id": "a2950a52-39c6-4424-b95f-30e892621f75"
        },
        "ExecuteTime": {
          "end_time": "2023-11-28T10:08:45.667968+00:00",
          "start_time": "2023-11-28T10:08:44.118292+00:00"
        }
      },
      "execution_count": null,
      "source": "#\n# Clusters in the initial BERT embedding\n#\nplot_clustering_diagram(bert_embedding)",
      "outputs": []
    },
    {
      "id": "7c8c40de-5500-42ba-a5ac-4ea4382aa447",
      "cell_type": "code",
      "metadata": {
        "jupyter": {
          "outputs_hidden": false,
          "source_hidden": false
        },
        "noteable": {
          "cell_type": "code",
          "output_collection_id": "f7e9b09d-c714-42e0-83bc-a8407b0f77ae"
        },
        "ExecuteTime": {
          "end_time": "2023-11-28T10:08:47.752656+00:00",
          "start_time": "2023-11-28T10:08:46.828056+00:00"
        },
        "datalink": {
          "387977b2-94b4-4472-9d6a-f196273e36ee": {
            "applied_filters": [],
            "dataframe_info": {
              "default_index_used": true,
              "orig_num_cols": 2,
              "orig_num_rows": 229,
              "orig_size_bytes": 5496,
              "truncated_num_cols": 2,
              "truncated_num_rows": 229,
              "truncated_size_bytes": 5496,
              "truncated_string_columns": []
            },
            "display_id": "387977b2-94b4-4472-9d6a-f196273e36ee",
            "dx_settings": {
              "ALLOW_NOTEABLE_ATTRS": true,
              "COLUMN_SAMPLING_METHOD": "outer",
              "DB_LOCATION": ":memory:",
              "DEV_MODE": false,
              "DISPLAY_MAX_COLUMNS": 100,
              "DISPLAY_MAX_ROWS": 50000,
              "DISPLAY_MODE": "simple",
              "ENABLE_ASSIGNMENT": true,
              "ENABLE_DATALINK": true,
              "FLATTEN_COLUMN_VALUES": true,
              "FLATTEN_INDEX_VALUES": false,
              "GENERATE_DEX_METADATA": false,
              "HTML_TABLE_SCHEMA": false,
              "LOG_LEVEL": 30,
              "MAX_RENDER_SIZE_BYTES": 104857600,
              "MAX_STRING_LENGTH": 250,
              "NUM_PAST_SAMPLES_TRACKED": 3,
              "RANDOM_STATE": 12648430,
              "RESET_INDEX_VALUES": false,
              "ROW_SAMPLING_METHOD": "random",
              "SAMPLING_FACTOR": 0.1,
              "SAMPLING_METHOD": "random",
              "STRINGIFY_COLUMN_VALUES": true,
              "STRINGIFY_INDEX_VALUES": false
            },
            "sample_history": [],
            "sampling_time": "2023-11-24T21:59:05.706359",
            "user_variable_name": "df_ripple_bert",
            "variable_name": "df_ripple_bert"
          },
          "5d467115-f3a4-4268-9880-0754bfa3c039": {
            "applied_filters": [],
            "dataframe_info": {
              "default_index_used": true,
              "orig_num_cols": 2,
              "orig_num_rows": 229,
              "orig_size_bytes": 5496,
              "truncated_num_cols": 2,
              "truncated_num_rows": 229,
              "truncated_size_bytes": 5496,
              "truncated_string_columns": []
            },
            "display_id": "5d467115-f3a4-4268-9880-0754bfa3c039",
            "dx_settings": {
              "ALLOW_NOTEABLE_ATTRS": true,
              "COLUMN_SAMPLING_METHOD": "outer",
              "DB_LOCATION": ":memory:",
              "DEV_MODE": false,
              "DISPLAY_MAX_COLUMNS": 100,
              "DISPLAY_MAX_ROWS": 50000,
              "DISPLAY_MODE": "simple",
              "ENABLE_ASSIGNMENT": true,
              "ENABLE_DATALINK": true,
              "FLATTEN_COLUMN_VALUES": true,
              "FLATTEN_INDEX_VALUES": false,
              "GENERATE_DEX_METADATA": false,
              "HTML_TABLE_SCHEMA": false,
              "LOG_LEVEL": 30,
              "MAX_RENDER_SIZE_BYTES": 104857600,
              "MAX_STRING_LENGTH": 250,
              "NUM_PAST_SAMPLES_TRACKED": 3,
              "RANDOM_STATE": 12648430,
              "RESET_INDEX_VALUES": false,
              "ROW_SAMPLING_METHOD": "random",
              "SAMPLING_FACTOR": 0.1,
              "SAMPLING_METHOD": "random",
              "STRINGIFY_COLUMN_VALUES": true,
              "STRINGIFY_INDEX_VALUES": false
            },
            "sample_history": [],
            "sampling_time": "2023-11-27T03:31:47.564731",
            "user_variable_name": "df_ripple_bert",
            "variable_name": "df_ripple_bert"
          },
          "110e3a89-f37a-44ca-9bb0-15de56ac1b80": {
            "applied_filters": [],
            "dataframe_info": {
              "default_index_used": true,
              "orig_num_cols": 2,
              "orig_num_rows": 229,
              "orig_size_bytes": 5496,
              "truncated_num_cols": 2,
              "truncated_num_rows": 229,
              "truncated_size_bytes": 5496,
              "truncated_string_columns": []
            },
            "display_id": "110e3a89-f37a-44ca-9bb0-15de56ac1b80",
            "dx_settings": {
              "ALLOW_NOTEABLE_ATTRS": true,
              "COLUMN_SAMPLING_METHOD": "outer",
              "DB_LOCATION": ":memory:",
              "DEV_MODE": false,
              "DISPLAY_MAX_COLUMNS": 100,
              "DISPLAY_MAX_ROWS": 50000,
              "DISPLAY_MODE": "simple",
              "ENABLE_ASSIGNMENT": true,
              "ENABLE_DATALINK": true,
              "FLATTEN_COLUMN_VALUES": true,
              "FLATTEN_INDEX_VALUES": false,
              "GENERATE_DEX_METADATA": false,
              "HTML_TABLE_SCHEMA": false,
              "LOG_LEVEL": 30,
              "MAX_RENDER_SIZE_BYTES": 104857600,
              "MAX_STRING_LENGTH": 250,
              "NUM_PAST_SAMPLES_TRACKED": 3,
              "RANDOM_STATE": 12648430,
              "RESET_INDEX_VALUES": false,
              "ROW_SAMPLING_METHOD": "random",
              "SAMPLING_FACTOR": 0.1,
              "SAMPLING_METHOD": "random",
              "STRINGIFY_COLUMN_VALUES": true,
              "STRINGIFY_INDEX_VALUES": false
            },
            "sample_history": [],
            "sampling_time": "2023-11-27T06:04:45.156412",
            "user_variable_name": "df_ripple_bert",
            "variable_name": "df_ripple_bert"
          },
          "c0952b52-9214-4e1f-9f13-1747628eb348": {
            "applied_filters": [],
            "dataframe_info": {
              "default_index_used": true,
              "orig_num_cols": 2,
              "orig_num_rows": 229,
              "orig_size_bytes": 5496,
              "truncated_num_cols": 2,
              "truncated_num_rows": 229,
              "truncated_size_bytes": 5496,
              "truncated_string_columns": []
            },
            "display_id": "c0952b52-9214-4e1f-9f13-1747628eb348",
            "dx_settings": {
              "ALLOW_NOTEABLE_ATTRS": true,
              "COLUMN_SAMPLING_METHOD": "outer",
              "DB_LOCATION": ":memory:",
              "DEV_MODE": false,
              "DISPLAY_MAX_COLUMNS": 100,
              "DISPLAY_MAX_ROWS": 50000,
              "DISPLAY_MODE": "simple",
              "ENABLE_ASSIGNMENT": true,
              "ENABLE_DATALINK": true,
              "FLATTEN_COLUMN_VALUES": true,
              "FLATTEN_INDEX_VALUES": false,
              "GENERATE_DEX_METADATA": false,
              "HTML_TABLE_SCHEMA": false,
              "LOG_LEVEL": 30,
              "MAX_RENDER_SIZE_BYTES": 104857600,
              "MAX_STRING_LENGTH": 250,
              "NUM_PAST_SAMPLES_TRACKED": 3,
              "RANDOM_STATE": 12648430,
              "RESET_INDEX_VALUES": false,
              "ROW_SAMPLING_METHOD": "random",
              "SAMPLING_FACTOR": 0.1,
              "SAMPLING_METHOD": "random",
              "STRINGIFY_COLUMN_VALUES": true,
              "STRINGIFY_INDEX_VALUES": false
            },
            "sample_history": [],
            "sampling_time": "2023-11-27T07:51:08.301131",
            "user_variable_name": "df_ripple_bert",
            "variable_name": "df_ripple_bert"
          },
          "58eb5370-493e-47fc-bbff-733d5a42cfda": {
            "applied_filters": [],
            "dataframe_info": {
              "default_index_used": true,
              "orig_num_cols": 2,
              "orig_num_rows": 229,
              "orig_size_bytes": 5496,
              "truncated_num_cols": 2,
              "truncated_num_rows": 229,
              "truncated_size_bytes": 5496,
              "truncated_string_columns": []
            },
            "display_id": "58eb5370-493e-47fc-bbff-733d5a42cfda",
            "dx_settings": {
              "ALLOW_NOTEABLE_ATTRS": true,
              "COLUMN_SAMPLING_METHOD": "outer",
              "DB_LOCATION": ":memory:",
              "DEV_MODE": false,
              "DISPLAY_MAX_COLUMNS": 100,
              "DISPLAY_MAX_ROWS": 50000,
              "DISPLAY_MODE": "simple",
              "ENABLE_ASSIGNMENT": true,
              "ENABLE_DATALINK": true,
              "FLATTEN_COLUMN_VALUES": true,
              "FLATTEN_INDEX_VALUES": false,
              "GENERATE_DEX_METADATA": false,
              "HTML_TABLE_SCHEMA": false,
              "LOG_LEVEL": 30,
              "MAX_RENDER_SIZE_BYTES": 104857600,
              "MAX_STRING_LENGTH": 250,
              "NUM_PAST_SAMPLES_TRACKED": 3,
              "RANDOM_STATE": 12648430,
              "RESET_INDEX_VALUES": false,
              "ROW_SAMPLING_METHOD": "random",
              "SAMPLING_FACTOR": 0.1,
              "SAMPLING_METHOD": "random",
              "STRINGIFY_COLUMN_VALUES": true,
              "STRINGIFY_INDEX_VALUES": false
            },
            "sample_history": [],
            "sampling_time": "2023-11-27T14:19:41.642506",
            "user_variable_name": "df_ripple_bert",
            "variable_name": "df_ripple_bert"
          },
          "68a66c3d-1395-4823-b276-85467724c057": {
            "applied_filters": [],
            "dataframe_info": {
              "default_index_used": true,
              "orig_num_cols": 2,
              "orig_num_rows": 229,
              "orig_size_bytes": 5496,
              "truncated_num_cols": 2,
              "truncated_num_rows": 229,
              "truncated_size_bytes": 5496,
              "truncated_string_columns": []
            },
            "display_id": "68a66c3d-1395-4823-b276-85467724c057",
            "dx_settings": {
              "ALLOW_NOTEABLE_ATTRS": true,
              "COLUMN_SAMPLING_METHOD": "outer",
              "DB_LOCATION": ":memory:",
              "DEV_MODE": false,
              "DISPLAY_MAX_COLUMNS": 100,
              "DISPLAY_MAX_ROWS": 50000,
              "DISPLAY_MODE": "simple",
              "ENABLE_ASSIGNMENT": true,
              "ENABLE_DATALINK": true,
              "FLATTEN_COLUMN_VALUES": true,
              "FLATTEN_INDEX_VALUES": false,
              "GENERATE_DEX_METADATA": false,
              "HTML_TABLE_SCHEMA": false,
              "LOG_LEVEL": 30,
              "MAX_RENDER_SIZE_BYTES": 104857600,
              "MAX_STRING_LENGTH": 250,
              "NUM_PAST_SAMPLES_TRACKED": 3,
              "RANDOM_STATE": 12648430,
              "RESET_INDEX_VALUES": false,
              "ROW_SAMPLING_METHOD": "random",
              "SAMPLING_FACTOR": 0.1,
              "SAMPLING_METHOD": "random",
              "STRINGIFY_COLUMN_VALUES": true,
              "STRINGIFY_INDEX_VALUES": false
            },
            "sample_history": [],
            "sampling_time": "2023-11-27T14:31:22.407903",
            "user_variable_name": "df_ripple_bert",
            "variable_name": "df_ripple_bert"
          },
          "170f8c49-52ac-4d7f-850f-fe87dd83e188": {
            "applied_filters": [],
            "dataframe_info": {
              "default_index_used": true,
              "orig_num_cols": 2,
              "orig_num_rows": 229,
              "orig_size_bytes": 5496,
              "truncated_num_cols": 2,
              "truncated_num_rows": 229,
              "truncated_size_bytes": 5496,
              "truncated_string_columns": []
            },
            "display_id": "170f8c49-52ac-4d7f-850f-fe87dd83e188",
            "dx_settings": {
              "ALLOW_NOTEABLE_ATTRS": true,
              "COLUMN_SAMPLING_METHOD": "outer",
              "DB_LOCATION": ":memory:",
              "DEV_MODE": false,
              "DISPLAY_MAX_COLUMNS": 100,
              "DISPLAY_MAX_ROWS": 50000,
              "DISPLAY_MODE": "simple",
              "ENABLE_ASSIGNMENT": true,
              "ENABLE_DATALINK": true,
              "FLATTEN_COLUMN_VALUES": true,
              "FLATTEN_INDEX_VALUES": false,
              "GENERATE_DEX_METADATA": false,
              "HTML_TABLE_SCHEMA": false,
              "LOG_LEVEL": 30,
              "MAX_RENDER_SIZE_BYTES": 104857600,
              "MAX_STRING_LENGTH": 250,
              "NUM_PAST_SAMPLES_TRACKED": 3,
              "RANDOM_STATE": 12648430,
              "RESET_INDEX_VALUES": false,
              "ROW_SAMPLING_METHOD": "random",
              "SAMPLING_FACTOR": 0.1,
              "SAMPLING_METHOD": "random",
              "STRINGIFY_COLUMN_VALUES": true,
              "STRINGIFY_INDEX_VALUES": false
            },
            "sample_history": [],
            "sampling_time": "2023-11-28T10:08:47.592242",
            "user_variable_name": "df_ripple_bert",
            "variable_name": "df_ripple_bert"
          }
        }
      },
      "execution_count": null,
      "source": "df_ripple_bert = df_clustering(bert_embedding)\ndf_ripple_bert",
      "outputs": []
    },
    {
      "id": "41298934-d0a2-48f6-8d8e-59976c8c0267",
      "cell_type": "markdown",
      "source": "# Authorship attribution from embeddings",
      "metadata": {
        "noteable": {
          "cell_type": "markdown"
        }
      }
    },
    {
      "id": "68ce5199-be81-45e4-a5bd-18382d3cc416",
      "cell_type": "markdown",
      "source": "TOP1 and TOP5 nearest neighbors in the BERT embedding",
      "metadata": {
        "noteable": {
          "cell_type": "markdown"
        }
      }
    },
    {
      "id": "b4a296e1-1a39-4bf9-99b0-64886ad5819c",
      "cell_type": "code",
      "metadata": {
        "jupyter": {
          "outputs_hidden": false,
          "source_hidden": false
        },
        "noteable": {
          "cell_type": "code",
          "output_collection_id": "7c38139c-eeda-4f43-b9f7-98857c8b1d62"
        },
        "ExecuteTime": {
          "end_time": "2023-11-28T10:08:48.895404+00:00",
          "start_time": "2023-11-28T10:08:48.738191+00:00"
        }
      },
      "execution_count": null,
      "source": "#\n# Calculating TOP1 / TOP5 accuracy from nearest neighbours in the BERT embedding\n#\ndef compute_accuracy(test_top_k):\n    top_1_counter = 0\n    top_k_counter = 0\n    #\n    n_categories = 1.0*len(test_top_k.keys())\n    #\n    for filename, results in test_top_k.items():\n        X = filename.split('_')[1]\n        n_tests = len(results)\n        for res in results:\n            y = res[0][0].split('_')[0]\n            top_1_counter += 1.0*(X==y) / n_tests\n            top_k_counter += any([X==y.split('_')[0] for y in res[0]]) / n_tests\n    top_1_acc = top_1_counter/n_categories\n    top_k_acc = top_k_counter/n_categories\n    return top_1_acc, top_k_acc",
      "outputs": []
    },
    {
      "id": "ce058465-477b-4efe-97ff-6affb0475334",
      "cell_type": "code",
      "metadata": {
        "jupyter": {
          "outputs_hidden": false,
          "source_hidden": false
        },
        "noteable": {
          "cell_type": "code",
          "output_collection_id": "c95008b4-d92b-48b1-a921-80429efbcdb9"
        },
        "ExecuteTime": {
          "end_time": "2023-11-28T10:08:49.076076+00:00",
          "start_time": "2023-11-28T10:08:48.902093+00:00"
        }
      },
      "execution_count": null,
      "source": "test_top_5 = test_text_files_in_sotu_directories(\".\", index, filenames, top_k=5)",
      "outputs": []
    },
    {
      "id": "6332c73e-aa9e-4fbd-97a8-25e9afd56479",
      "cell_type": "code",
      "metadata": {
        "jupyter": {
          "outputs_hidden": false,
          "source_hidden": false
        },
        "noteable": {
          "cell_type": "code",
          "output_collection_id": "ba054b2b-cd78-4f42-adff-c0e56bbf63d8"
        },
        "ExecuteTime": {
          "end_time": "2023-11-28T10:08:49.251374+00:00",
          "start_time": "2023-11-28T10:08:49.081477+00:00"
        }
      },
      "execution_count": null,
      "source": "#\n# TOP1 accuracy, TOP5 accuracy\n#\ntop_1_acc, top_5_acc = compute_accuracy(test_top_5)\nprint(f'Accuracy: TOP1 {top_1_acc}, TOP5 {top_5_acc}')",
      "outputs": []
    },
    {
      "id": "b074eb67-7eca-4202-8aeb-e5aae8d14c7b",
      "cell_type": "markdown",
      "source": "TOP1 and TOP5 nearest neighbors after TriMAP: the Zeitgeist and general politics dominate authorship in temporal clustering",
      "metadata": {
        "noteable": {
          "cell_type": "markdown"
        }
      }
    },
    {
      "id": "04d7840c-acaf-4338-98e5-f6ff88b93787",
      "cell_type": "code",
      "metadata": {
        "jupyter": {
          "outputs_hidden": false,
          "source_hidden": false
        },
        "noteable": {
          "cell_type": "code",
          "output_collection_id": "ef546f66-44d4-4e44-827d-17ad2874bb05"
        },
        "ExecuteTime": {
          "end_time": "2023-11-28T10:08:49.426672+00:00",
          "start_time": "2023-11-28T10:08:49.256602+00:00"
        }
      },
      "execution_count": null,
      "source": "trimap_index = faiss.IndexFlatL2(3)\ntrimap_index.add(trimap_3_embedding)\nprint(trimap_index.ntotal, len(filenames), trimap_index.is_trained)",
      "outputs": []
    },
    {
      "id": "21334d2a-9527-47d4-9562-6d04155bf3c1",
      "cell_type": "code",
      "metadata": {
        "jupyter": {
          "outputs_hidden": false,
          "source_hidden": false
        },
        "noteable": {
          "cell_type": "code",
          "output_collection_id": "cea69c75-fd31-49e6-929e-ea1086f14b78"
        },
        "ExecuteTime": {
          "end_time": "2023-11-28T10:08:49.605656+00:00",
          "start_time": "2023-11-28T10:08:49.431948+00:00"
        }
      },
      "execution_count": null,
      "source": "test_top_5_trimap = test_text_files_in_sotu_directories(\".\", trimap_index, filenames, top_k=5)",
      "outputs": []
    },
    {
      "id": "bb6534a6-105c-4237-a906-bf3addcbe9c0",
      "cell_type": "code",
      "metadata": {
        "jupyter": {
          "outputs_hidden": false,
          "source_hidden": false
        },
        "noteable": {
          "cell_type": "code",
          "output_collection_id": "daa317f1-cbd0-4246-b042-7ab33429af26"
        },
        "ExecuteTime": {
          "end_time": "2023-11-28T10:08:49.786256+00:00",
          "start_time": "2023-11-28T10:08:49.612077+00:00"
        }
      },
      "execution_count": null,
      "source": "#\n# TOP1 accuracy, TOP5 accuracy\n#\ntop_1_acc_trimap, top_5_acc_trimap = compute_accuracy(test_top_5_trimap)\nprint(f'Accuracy: TOP1 {top_1_acc_trimap}, TOP5 {top_5_acc_trimap}')",
      "outputs": []
    }
  ]
}