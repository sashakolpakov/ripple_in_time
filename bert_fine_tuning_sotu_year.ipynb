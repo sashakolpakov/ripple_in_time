{
  "cells": [
    {
      "cell_type": "markdown",
      "source": [
        "# SOTU year determination"
      ],
      "metadata": {
        "id": "Cp_ACzUCR9k-"
      }
    },
    {
      "cell_type": "markdown",
      "source": [
        "Fine-tuning DistilBERT for SOTU year regression. This notebook should be run on a GPU instance (we used a single V100 instance from Google Colab)."
      ],
      "metadata": {
        "id": "sHaK8EMgR2Ni"
      }
    },
    {
      "cell_type": "markdown",
      "source": [
        "# Initializing"
      ],
      "metadata": {
        "id": "obbe8neIj1kn"
      }
    },
    {
      "cell_type": "code",
      "execution_count": null,
      "metadata": {
        "colab": {
          "base_uri": "https://localhost:8080/"
        },
        "id": "guumQT1RPwb0",
        "outputId": "380e08d9-f1d6-4f38-a716-5c6087f44382"
      },
      "outputs": [
        {
          "output_type": "stream",
          "name": "stdout",
          "text": [
            "Drive already mounted at /content/drive; to attempt to forcibly remount, call drive.mount(\"/content/drive\", force_remount=True).\n"
          ]
        }
      ],
      "source": [
        "from google.colab import drive\n",
        "drive.mount('/content/drive')"
      ]
    },
    {
      "cell_type": "code",
      "source": [
        "# change the root directory for SOTU files, if necessary\n",
        "%cd /content/drive/MyDrive/Colab\\ Notebooks/go-phish"
      ],
      "metadata": {
        "colab": {
          "base_uri": "https://localhost:8080/"
        },
        "id": "GZMAeL4mjuY-",
        "outputId": "78b57540-39f5-4f19-ce37-33e7194e2c08"
      },
      "execution_count": null,
      "outputs": [
        {
          "output_type": "stream",
          "name": "stdout",
          "text": [
            "/content/drive/MyDrive/Colab Notebooks/go-phish\n"
          ]
        }
      ]
    },
    {
      "cell_type": "code",
      "execution_count": null,
      "metadata": {
        "id": "YKTaDhirrMyG"
      },
      "outputs": [],
      "source": [
        "!pip -q install accelerate -U\n",
        "!pip -q install datasets\n",
        "!pip -q install evaluate"
      ]
    },
    {
      "cell_type": "markdown",
      "source": [
        "# Imports"
      ],
      "metadata": {
        "id": "nw4L34D5kAJQ"
      }
    },
    {
      "cell_type": "code",
      "execution_count": null,
      "metadata": {
        "id": "paFzH38WP72d"
      },
      "outputs": [],
      "source": [
        "from transformers import AutoTokenizer, AutoModelForSequenceClassification, TrainingArguments, Trainer\n",
        "import torch\n",
        "import torch.nn.functional as F\n",
        "from torch.utils.data import DataLoader\n",
        "import pandas as pd\n",
        "import numpy as np\n",
        "import os\n",
        "import glob\n",
        "from datasets import Dataset\n",
        "import evaluate\n",
        "from collections import defaultdict\n",
        "from sklearn.metrics import mean_squared_error\n",
        "from sklearn.preprocessing import StandardScaler"
      ]
    },
    {
      "cell_type": "markdown",
      "source": [
        "# Model and dataset"
      ],
      "metadata": {
        "id": "tg2sbUF_nYHA"
      }
    },
    {
      "cell_type": "markdown",
      "source": [
        "Using DistilBERT (faster and more lightweight than BERT)"
      ],
      "metadata": {
        "id": "4c8zfmXEkC8K"
      }
    },
    {
      "cell_type": "code",
      "execution_count": null,
      "metadata": {
        "id": "u4xD_D0BkD-J"
      },
      "outputs": [],
      "source": [
        "checkpoint = \"distilbert-base-uncased\"\n",
        "tokenizer  = AutoTokenizer.from_pretrained(checkpoint)"
      ]
    },
    {
      "cell_type": "markdown",
      "source": [
        "Tokenizer function"
      ],
      "metadata": {
        "id": "29aMSzx0kM_F"
      }
    },
    {
      "cell_type": "code",
      "execution_count": null,
      "metadata": {
        "id": "HKOjYlIXnjmI"
      },
      "outputs": [],
      "source": [
        "def tokenize_function(examples):\n",
        "    return tokenizer(examples[\"text\"], padding=\"max_length\", truncation=True)"
      ]
    },
    {
      "cell_type": "markdown",
      "source": [
        "Function to chunk \"text\" into \"max_len\" words sliding windows with shift \"step_size\""
      ],
      "metadata": {
        "id": "5ErZ0WCMkQKf"
      }
    },
    {
      "cell_type": "code",
      "execution_count": null,
      "metadata": {
        "id": "9p-17fsufHL8"
      },
      "outputs": [],
      "source": [
        "def chunk_text(text, label, max_length = 512, step_size = 128):\n",
        "    text = text.replace('\\n', ' ').split()\n",
        "    chunks = [' '.join(text[i:i+max_length]) for i in range(0, len(text), step_size)]\n",
        "    def make_dict(chunk):\n",
        "        return {'text':chunk, 'labels':label}\n",
        "    return list(map(make_dict, chunks))"
      ]
    },
    {
      "cell_type": "markdown",
      "source": [
        "Getting SOTU texts with their labels: either train texts (extension .train.txt), or test texts (extension .test.txt), or (None, None) if cannot find the right files"
      ],
      "metadata": {
        "id": "0l-1Zsksk4kt"
      }
    },
    {
      "cell_type": "code",
      "execution_count": null,
      "metadata": {
        "id": "bA78a16xS32G"
      },
      "outputs": [],
      "source": [
        "def get_file_and_label(pathname):\n",
        "    filename = os.path.basename(pathname)\n",
        "    foo = filename.split('.')\n",
        "    label = foo[0].split('_')[1]\n",
        "    label = [np.float32(label)]\n",
        "    with open(pathname, 'r') as f:\n",
        "      print(f'Acquiring file {filename}')\n",
        "      text = f.read()\n",
        "      return text, label\n",
        "    return None, None"
      ]
    },
    {
      "cell_type": "markdown",
      "source": [
        "Get the content of all train / test files chunked"
      ],
      "metadata": {
        "id": "AopgeV8wmAEq"
      }
    },
    {
      "cell_type": "code",
      "execution_count": null,
      "metadata": {
        "id": "1t1VMT-MkTYT"
      },
      "outputs": [],
      "source": [
        "def get_all_files(dirname, train = True, **kwargs):\n",
        "    dataset = []\n",
        "    for pathname in os.listdir(dirname):\n",
        "      if (  train  ) and pathname.endswith(\".train.txt\"):\n",
        "        text, label = get_file_and_label(os.path.join(dirname, pathname))\n",
        "        tl = chunk_text(text, label, **kwargs)\n",
        "        dataset.extend(tl)\n",
        "      if (not train) and pathname.endswith(\".test.txt\"):\n",
        "        text, label = get_file_and_label(os.path.join(dirname, pathname))\n",
        "        tl = chunk_text(text, label, **kwargs)\n",
        "        dataset.extend(tl)\n",
        "    return dataset"
      ]
    },
    {
      "cell_type": "markdown",
      "source": [
        "Look in the root directory, among all SOTU subdirectories"
      ],
      "metadata": {
        "id": "tXbpZMZDmHFm"
      }
    },
    {
      "cell_type": "code",
      "execution_count": null,
      "metadata": {
        "id": "4JR7Tkzvmrnr"
      },
      "outputs": [],
      "source": [
        "def get_all_dirs_train(**kwargs):\n",
        "    dataset = []\n",
        "    for dirname in glob.glob('sotu*'):\n",
        "      if os.path.isdir(dirname):\n",
        "        ds = get_all_files(dirname, train=True, **kwargs)\n",
        "        dataset.extend(ds)\n",
        "    texts = [d['text'] for d in dataset]\n",
        "    labels = [d['labels'] for d in dataset]\n",
        "    scaler = StandardScaler()\n",
        "    labels = scaler.fit_transform(labels)\n",
        "    thedict = {'text':texts, 'labels': labels}\n",
        "    return Dataset.from_dict(thedict), scaler"
      ]
    },
    {
      "cell_type": "markdown",
      "source": [
        "Getting the dataset, label scaler (standardizing labels)"
      ],
      "metadata": {
        "id": "ApE_yqd9mVz1"
      }
    },
    {
      "cell_type": "code",
      "execution_count": null,
      "metadata": {
        "id": "E2LXd27RyM_c",
        "colab": {
          "base_uri": "https://localhost:8080/"
        },
        "outputId": "b4fcadbb-a57b-4a47-bc61-3d3f2a285067"
      },
      "outputs": [
        {
          "output_type": "stream",
          "name": "stdout",
          "text": [
            "Acquiring file Madison_1816.train.txt\n",
            "Acquiring file Madison_1811.train.txt\n",
            "Acquiring file Madison_1812.train.txt\n",
            "Acquiring file Madison_1809.train.txt\n",
            "Acquiring file Madison_1815.train.txt\n",
            "Acquiring file Madison_1813.train.txt\n",
            "Acquiring file RooseveltF_1934.train.txt\n",
            "Acquiring file RooseveltF_1943.train.txt\n",
            "Acquiring file RooseveltF_1935.train.txt\n",
            "Acquiring file RooseveltF_1938.train.txt\n",
            "Acquiring file RooseveltF_1941.train.txt\n",
            "Acquiring file RooseveltF_1939.train.txt\n",
            "Acquiring file RooseveltF_1937.train.txt\n",
            "Acquiring file RooseveltF_1942.train.txt\n",
            "Acquiring file RooseveltF_1945.train.txt\n",
            "Acquiring file Ford_1975.train.txt\n",
            "Acquiring file Ford_1976.train.txt\n",
            "Acquiring file Buchanan_1857.train.txt\n",
            "Acquiring file Buchanan_1859.train.txt\n",
            "Acquiring file Buchanan_1858.train.txt\n",
            "Acquiring file Cleveland_1887.train.txt\n",
            "Acquiring file Cleveland_1895.train.txt\n",
            "Acquiring file Cleveland_1888.train.txt\n",
            "Acquiring file Cleveland_1896.train.txt\n",
            "Acquiring file Cleveland_1893.train.txt\n",
            "Acquiring file Cleveland_1885.train.txt\n",
            "Acquiring file Washington_1791.train.txt\n",
            "Acquiring file Washington_1795.train.txt\n",
            "Acquiring file Washington_1794.train.txt\n",
            "Acquiring file Washington_1792.train.txt\n",
            "Acquiring file Washington_1790.train.txt\n",
            "Acquiring file RooseveltT_1901.train.txt\n",
            "Acquiring file RooseveltT_1907.train.txt\n",
            "Acquiring file RooseveltT_1908.train.txt\n",
            "Acquiring file RooseveltT_1905.train.txt\n",
            "Acquiring file RooseveltT_1904.train.txt\n",
            "Acquiring file RooseveltT_1903.train.txt\n",
            "Acquiring file Reagan_1987.train.txt\n",
            "Acquiring file Reagan_1985.train.txt\n",
            "Acquiring file Reagan_1983.train.txt\n",
            "Acquiring file Reagan_1984.train.txt\n",
            "Acquiring file Reagan_1988.train.txt\n",
            "Acquiring file AdamsSr_1800.train.txt\n",
            "Acquiring file AdamsSr_1797.train.txt\n",
            "Acquiring file AdamsSr_1799.train.txt\n",
            "Acquiring file Pierce_1853.train.txt\n",
            "Acquiring file Pierce_1856.train.txt\n",
            "Acquiring file Pierce_1854.train.txt\n",
            "Acquiring file Obama_2016.train.txt\n",
            "Acquiring file Obama_2012.train.txt\n",
            "Acquiring file Obama_2009.train.txt\n",
            "Acquiring file Obama_2011.train.txt\n",
            "Acquiring file Obama_2013.train.txt\n",
            "Acquiring file Obama_2015.train.txt\n",
            "Acquiring file Grant_1870.train.txt\n",
            "Acquiring file Grant_1869.train.txt\n",
            "Acquiring file Grant_1873.train.txt\n",
            "Acquiring file Grant_1871.train.txt\n",
            "Acquiring file Grant_1874.train.txt\n",
            "Acquiring file Grant_1875.train.txt\n",
            "Acquiring file Monroe_1819.train.txt\n",
            "Acquiring file Monroe_1818.train.txt\n",
            "Acquiring file Monroe_1821.train.txt\n",
            "Acquiring file Monroe_1823.train.txt\n",
            "Acquiring file Monroe_1817.train.txt\n",
            "Acquiring file Monroe_1822.train.txt\n",
            "Acquiring file Eisenhower_1959.train.txt\n",
            "Acquiring file Eisenhower_1957.train.txt\n",
            "Acquiring file Eisenhower_1960.train.txt\n",
            "Acquiring file Eisenhower_1955.train.txt\n",
            "Acquiring file Eisenhower_1961.train.txt\n",
            "Acquiring file Eisenhower_1956.train.txt\n",
            "Acquiring file Trump_2017.train.txt\n",
            "Acquiring file Wilson_1920.train.txt\n",
            "Acquiring file Wilson_1919.train.txt\n",
            "Acquiring file Wilson_1914.train.txt\n",
            "Acquiring file Wilson_1915.train.txt\n",
            "Acquiring file Wilson_1918.train.txt\n",
            "Acquiring file Wilson_1916.train.txt\n",
            "Acquiring file Carter_1980.train.txt\n",
            "Acquiring file Carter_1979.train.txt\n",
            "Acquiring file Carter_1981.train.txt\n",
            "Acquiring file BushSr_1992.train.txt\n",
            "Acquiring file BushSr_1989.train.txt\n",
            "Acquiring file BushSr_1991.train.txt\n",
            "Acquiring file Nixon_1971.train.txt\n",
            "Acquiring file Nixon_1972.train.txt\n",
            "Acquiring file Nixon_1973.train.txt\n",
            "Acquiring file Hayes_1877.train.txt\n",
            "Acquiring file Hayes_1880.train.txt\n",
            "Acquiring file Hayes_1878.train.txt\n",
            "Acquiring file Taft_1911.train.txt\n",
            "Acquiring file Taft_1910.train.txt\n",
            "Acquiring file Taft_1909.train.txt\n",
            "Acquiring file Coolidge_1927.train.txt\n",
            "Acquiring file Coolidge_1925.train.txt\n",
            "Acquiring file Coolidge_1924.train.txt\n",
            "Acquiring file Coolidge_1923.train.txt\n",
            "Acquiring file Jefferson_1808.train.txt\n",
            "Acquiring file Jefferson_1805.train.txt\n",
            "Acquiring file Jefferson_1804.train.txt\n",
            "Acquiring file Jefferson_1801.train.txt\n",
            "Acquiring file Jefferson_1803.train.txt\n",
            "Acquiring file Jefferson_1807.train.txt\n",
            "Acquiring file JohnsonA_1866.train.txt\n",
            "Acquiring file JohnsonA_1868.train.txt\n",
            "Acquiring file JohnsonA_1865.train.txt\n",
            "Acquiring file Harding_1922.train.txt\n",
            "Acquiring file Lincoln_1864.train.txt\n",
            "Acquiring file Lincoln_1862.train.txt\n",
            "Acquiring file Lincoln_1863.train.txt\n",
            "Acquiring file Hoover_1930.train.txt\n",
            "Acquiring file Hoover_1929.train.txt\n",
            "Acquiring file Hoover_1931.train.txt\n",
            "Acquiring file Clinton_2000.train.txt\n",
            "Acquiring file Clinton_1996.train.txt\n",
            "Acquiring file Clinton_1998.train.txt\n",
            "Acquiring file Clinton_1994.train.txt\n",
            "Acquiring file Clinton_1997.train.txt\n",
            "Acquiring file Clinton_1993.train.txt\n",
            "Acquiring file Arthur_1881.train.txt\n",
            "Acquiring file Arthur_1882.train.txt\n",
            "Acquiring file Arthur_1884.train.txt\n",
            "Acquiring file McKinley_1897.train.txt\n",
            "Acquiring file McKinley_1900.train.txt\n",
            "Acquiring file McKinley_1898.train.txt\n",
            "Acquiring file Taylor_1849.train.txt\n",
            "Acquiring file Tyler_1842.train.txt\n",
            "Acquiring file Tyler_1841.train.txt\n",
            "Acquiring file Tyler_1844.train.txt\n",
            "Acquiring file AdamsJr_1826.train.txt\n",
            "Acquiring file AdamsJr_1827.train.txt\n",
            "Acquiring file AdamsJr_1828.train.txt\n",
            "Acquiring file Jackson_1834.train.txt\n",
            "Acquiring file Jackson_1830.train.txt\n",
            "Acquiring file Jackson_1836.train.txt\n",
            "Acquiring file Jackson_1835.train.txt\n",
            "Acquiring file Jackson_1831.train.txt\n",
            "Acquiring file Jackson_1832.train.txt\n",
            "Acquiring file Buren_1839.train.txt\n",
            "Acquiring file Buren_1840.train.txt\n",
            "Acquiring file Buren_1838.train.txt\n",
            "Acquiring file Kennedy_1962.train.txt\n",
            "Acquiring file Truman_1951.train.txt\n",
            "Acquiring file Truman_1952.train.txt\n",
            "Acquiring file Truman_1949.train.txt\n",
            "Acquiring file Truman_1953.train.txt\n",
            "Acquiring file Truman_1948.train.txt\n",
            "Acquiring file Truman_1947.train.txt\n",
            "Acquiring file Harrison_1891.train.txt\n",
            "Acquiring file Harrison_1889.train.txt\n",
            "Acquiring file Harrison_1892.train.txt\n",
            "Acquiring file Fillmore_1850.train.txt\n",
            "Acquiring file Fillmore_1852.train.txt\n",
            "Acquiring file Polk_1846.train.txt\n",
            "Acquiring file Polk_1845.train.txt\n",
            "Acquiring file Polk_1847.train.txt\n",
            "Acquiring file JohnsonLB_1968.train.txt\n",
            "Acquiring file JohnsonLB_1967.train.txt\n",
            "Acquiring file JohnsonLB_1965.train.txt\n",
            "Acquiring file JohnsonLB_1964.train.txt\n",
            "Acquiring file BushJr_2005.train.txt\n",
            "Acquiring file BushJr_2007.train.txt\n",
            "Acquiring file BushJr_2006.train.txt\n",
            "Acquiring file BushJr_2003.train.txt\n",
            "Acquiring file BushJr_2002.train.txt\n",
            "Acquiring file BushJr_2001.train.txt\n"
          ]
        }
      ],
      "source": [
        "myds, myscaler = get_all_dirs_train(max_length=512, step_size=128)"
      ]
    },
    {
      "cell_type": "markdown",
      "source": [
        "## Preprocessing and metrics"
      ],
      "metadata": {
        "id": "vAKCDQ9JnK1A"
      }
    },
    {
      "cell_type": "markdown",
      "source": [
        "Tokenizing the train dataset"
      ],
      "metadata": {
        "id": "sXDsoC1HmjRy"
      }
    },
    {
      "cell_type": "code",
      "execution_count": null,
      "metadata": {
        "colab": {
          "base_uri": "https://localhost:8080/",
          "height": 49,
          "referenced_widgets": [
            "0c7613ad0c434f8d994ad6c4767a4e2a",
            "da9ef4e022784b19a241c5649f59efa0",
            "8e22e035694e47efb173effb785b3408",
            "1d9229affda94251a63966b222778f82",
            "b4fe9ba5e61a4ded828b3ea32cb7d082",
            "d2bba36ed1904e038840060ebcf7b3f6",
            "e525863eeff84ceda6f01eb74219be50",
            "082b836242d54a5db1ed0a5927c3b12d",
            "4fa2361227ac4db19f34ee1d434fa884",
            "0c8f2b3c98054a1397965cec8af04568",
            "e90cd817f60542b5a0f58b16c0097b6f"
          ]
        },
        "id": "umbsZUSzp_0b",
        "outputId": "f94fc82d-f9d7-40e9-e4da-f20e27406275"
      },
      "outputs": [
        {
          "output_type": "display_data",
          "data": {
            "text/plain": [
              "Map:   0%|          | 0/10118 [00:00<?, ? examples/s]"
            ],
            "application/vnd.jupyter.widget-view+json": {
              "version_major": 2,
              "version_minor": 0,
              "model_id": "0c7613ad0c434f8d994ad6c4767a4e2a"
            }
          },
          "metadata": {}
        }
      ],
      "source": [
        "myds_tokenized = myds.map(tokenize_function, batched=True)"
      ]
    },
    {
      "cell_type": "markdown",
      "source": [
        "Model initialization: we need to modify the classifier layer for regression task"
      ],
      "metadata": {
        "id": "yP320R4Pmozb"
      }
    },
    {
      "cell_type": "code",
      "execution_count": null,
      "metadata": {
        "colab": {
          "base_uri": "https://localhost:8080/"
        },
        "id": "n8ncoI0sprFo",
        "outputId": "46fb1cc3-3c5a-4b66-b51a-4218b457d5e8"
      },
      "outputs": [
        {
          "output_type": "stream",
          "name": "stderr",
          "text": [
            "Some weights of DistilBertForSequenceClassification were not initialized from the model checkpoint at distilbert-base-uncased and are newly initialized: ['classifier.bias', 'pre_classifier.weight', 'classifier.weight', 'pre_classifier.bias']\n",
            "You should probably TRAIN this model on a down-stream task to be able to use it for predictions and inference.\n"
          ]
        }
      ],
      "source": [
        "model = AutoModelForSequenceClassification.from_pretrained(checkpoint)\n",
        "model.pre_classifier = torch.nn.Sequential(\n",
        "            torch.nn.Linear(model.pre_classifier.in_features, 768),\n",
        "            torch.nn.Dropout(p=0.1, inplace=False),\n",
        "            torch.nn.GELU(),\n",
        "            torch.nn.Linear(768, 256),\n",
        "            torch.nn.Dropout(p=0.1, inplace=False),\n",
        "            torch.nn.GELU(),\n",
        "            torch.nn.Linear(256, 128),\n",
        "            torch.nn.Dropout(p=0.1, inplace=False),\n",
        "            torch.nn.GELU(),\n",
        "        )\n",
        "model.classifier = torch.nn.Linear(in_features=128, out_features=1)"
      ]
    },
    {
      "cell_type": "code",
      "source": [
        "print(model)"
      ],
      "metadata": {
        "colab": {
          "base_uri": "https://localhost:8080/"
        },
        "id": "4Qdu0Xhu5Usx",
        "outputId": "377461b5-3e7e-436c-d8ae-9983cb5f4b91"
      },
      "execution_count": null,
      "outputs": [
        {
          "output_type": "stream",
          "name": "stdout",
          "text": [
            "DistilBertForSequenceClassification(\n",
            "  (distilbert): DistilBertModel(\n",
            "    (embeddings): Embeddings(\n",
            "      (word_embeddings): Embedding(30522, 768, padding_idx=0)\n",
            "      (position_embeddings): Embedding(512, 768)\n",
            "      (LayerNorm): LayerNorm((768,), eps=1e-12, elementwise_affine=True)\n",
            "      (dropout): Dropout(p=0.1, inplace=False)\n",
            "    )\n",
            "    (transformer): Transformer(\n",
            "      (layer): ModuleList(\n",
            "        (0-5): 6 x TransformerBlock(\n",
            "          (attention): MultiHeadSelfAttention(\n",
            "            (dropout): Dropout(p=0.1, inplace=False)\n",
            "            (q_lin): Linear(in_features=768, out_features=768, bias=True)\n",
            "            (k_lin): Linear(in_features=768, out_features=768, bias=True)\n",
            "            (v_lin): Linear(in_features=768, out_features=768, bias=True)\n",
            "            (out_lin): Linear(in_features=768, out_features=768, bias=True)\n",
            "          )\n",
            "          (sa_layer_norm): LayerNorm((768,), eps=1e-12, elementwise_affine=True)\n",
            "          (ffn): FFN(\n",
            "            (dropout): Dropout(p=0.1, inplace=False)\n",
            "            (lin1): Linear(in_features=768, out_features=3072, bias=True)\n",
            "            (lin2): Linear(in_features=3072, out_features=768, bias=True)\n",
            "            (activation): GELUActivation()\n",
            "          )\n",
            "          (output_layer_norm): LayerNorm((768,), eps=1e-12, elementwise_affine=True)\n",
            "        )\n",
            "      )\n",
            "    )\n",
            "  )\n",
            "  (pre_classifier): Sequential(\n",
            "    (0): Linear(in_features=768, out_features=768, bias=True)\n",
            "    (1): Dropout(p=0.1, inplace=False)\n",
            "    (2): GELU(approximate='none')\n",
            "    (3): Linear(in_features=768, out_features=256, bias=True)\n",
            "    (4): Dropout(p=0.1, inplace=False)\n",
            "    (5): GELU(approximate='none')\n",
            "    (6): Linear(in_features=256, out_features=128, bias=True)\n",
            "    (7): Dropout(p=0.1, inplace=False)\n",
            "    (8): GELU(approximate='none')\n",
            "  )\n",
            "  (classifier): Linear(in_features=128, out_features=1, bias=True)\n",
            "  (dropout): Dropout(p=0.2, inplace=False)\n",
            ")\n"
          ]
        }
      ]
    },
    {
      "cell_type": "markdown",
      "source": [
        "Metric for evaluation"
      ],
      "metadata": {
        "id": "a7rCv_5Nmwry"
      }
    },
    {
      "cell_type": "code",
      "execution_count": null,
      "metadata": {
        "id": "XKYTrqjFpqZd"
      },
      "outputs": [],
      "source": [
        "metric = evaluate.load('mse')\n",
        "#\n",
        "def compute_metrics(eval_pred):\n",
        "    predictions, labels = eval_pred\n",
        "    mse = metric.compute(predictions=predictions, references=labels)\n",
        "    return mse"
      ]
    },
    {
      "cell_type": "markdown",
      "source": [
        "# Model training"
      ],
      "metadata": {
        "id": "ign8RjI3m4B4"
      }
    },
    {
      "cell_type": "markdown",
      "source": [
        "Training arguments and trainer initialization"
      ],
      "metadata": {
        "id": "2DwqNKCymzyT"
      }
    },
    {
      "cell_type": "code",
      "source": [
        "training_args = TrainingArguments(\n",
        "    output_dir='./results',          # output directory\n",
        "    evaluation_strategy = 'epoch',   # evaluation strategy\n",
        "    num_train_epochs = 16,            # total epochs\n",
        "    per_device_train_batch_size=16,  # batch size per device during training\n",
        ")"
      ],
      "metadata": {
        "id": "jTCWLqWemQ7k"
      },
      "execution_count": null,
      "outputs": []
    },
    {
      "cell_type": "code",
      "execution_count": null,
      "metadata": {
        "id": "2oHbVP4s1q3V"
      },
      "outputs": [],
      "source": [
        "class myTrainer(Trainer):\n",
        "\n",
        "    def compute_loss(self, model, inputs, return_outputs=False):\n",
        "        labels = inputs.pop(\"labels\")\n",
        "        outputs = model(**inputs)\n",
        "        logits = outputs.logits\n",
        "        loss = torch.norm(logits - labels, p=3.0) #\n",
        "        return (loss, outputs) if return_outputs else loss\n",
        "\n",
        "####################\n",
        "\n",
        "trainer = myTrainer(\n",
        "    model=model,\n",
        "    args=training_args,\n",
        "    train_dataset=myds_tokenized,  # training dataset\n",
        "    eval_dataset=myds_tokenized,   # validation dataset\n",
        "    compute_metrics=compute_metrics\n",
        ")"
      ]
    },
    {
      "cell_type": "markdown",
      "source": [
        "Training for 8 epochs"
      ],
      "metadata": {
        "id": "iZq10DPFnCNu"
      }
    },
    {
      "cell_type": "code",
      "execution_count": null,
      "metadata": {
        "id": "xgtxm7zbsFDS",
        "colab": {
          "base_uri": "https://localhost:8080/",
          "height": 613
        },
        "outputId": "7cd487d0-aaf4-4c46-f8f4-3063ece68f8b"
      },
      "outputs": [
        {
          "output_type": "display_data",
          "data": {
            "text/plain": [
              "<IPython.core.display.HTML object>"
            ],
            "text/html": [
              "\n",
              "    <div>\n",
              "      \n",
              "      <progress value='10128' max='10128' style='width:300px; height:20px; vertical-align: middle;'></progress>\n",
              "      [10128/10128 56:15, Epoch 16/16]\n",
              "    </div>\n",
              "    <table border=\"1\" class=\"dataframe\">\n",
              "  <thead>\n",
              " <tr style=\"text-align: left;\">\n",
              "      <th>Epoch</th>\n",
              "      <th>Training Loss</th>\n",
              "      <th>Validation Loss</th>\n",
              "      <th>Mse</th>\n",
              "    </tr>\n",
              "  </thead>\n",
              "  <tbody>\n",
              "    <tr>\n",
              "      <td>1</td>\n",
              "      <td>0.923000</td>\n",
              "      <td>0.363919</td>\n",
              "      <td>0.035310</td>\n",
              "    </tr>\n",
              "    <tr>\n",
              "      <td>2</td>\n",
              "      <td>0.595900</td>\n",
              "      <td>0.292498</td>\n",
              "      <td>0.023588</td>\n",
              "    </tr>\n",
              "    <tr>\n",
              "      <td>3</td>\n",
              "      <td>0.501800</td>\n",
              "      <td>0.228969</td>\n",
              "      <td>0.013767</td>\n",
              "    </tr>\n",
              "    <tr>\n",
              "      <td>4</td>\n",
              "      <td>0.435100</td>\n",
              "      <td>0.175543</td>\n",
              "      <td>0.008254</td>\n",
              "    </tr>\n",
              "    <tr>\n",
              "      <td>5</td>\n",
              "      <td>0.399800</td>\n",
              "      <td>0.160448</td>\n",
              "      <td>0.006775</td>\n",
              "    </tr>\n",
              "    <tr>\n",
              "      <td>6</td>\n",
              "      <td>0.384400</td>\n",
              "      <td>0.155859</td>\n",
              "      <td>0.006389</td>\n",
              "    </tr>\n",
              "    <tr>\n",
              "      <td>7</td>\n",
              "      <td>0.358200</td>\n",
              "      <td>0.170078</td>\n",
              "      <td>0.007609</td>\n",
              "    </tr>\n",
              "    <tr>\n",
              "      <td>8</td>\n",
              "      <td>0.345100</td>\n",
              "      <td>0.140426</td>\n",
              "      <td>0.005282</td>\n",
              "    </tr>\n",
              "    <tr>\n",
              "      <td>9</td>\n",
              "      <td>0.336600</td>\n",
              "      <td>0.151654</td>\n",
              "      <td>0.007006</td>\n",
              "    </tr>\n",
              "    <tr>\n",
              "      <td>10</td>\n",
              "      <td>0.326400</td>\n",
              "      <td>0.146673</td>\n",
              "      <td>0.006007</td>\n",
              "    </tr>\n",
              "    <tr>\n",
              "      <td>11</td>\n",
              "      <td>0.329200</td>\n",
              "      <td>0.141583</td>\n",
              "      <td>0.005986</td>\n",
              "    </tr>\n",
              "    <tr>\n",
              "      <td>12</td>\n",
              "      <td>0.313300</td>\n",
              "      <td>0.146379</td>\n",
              "      <td>0.005944</td>\n",
              "    </tr>\n",
              "    <tr>\n",
              "      <td>13</td>\n",
              "      <td>0.312500</td>\n",
              "      <td>0.116164</td>\n",
              "      <td>0.003964</td>\n",
              "    </tr>\n",
              "    <tr>\n",
              "      <td>14</td>\n",
              "      <td>0.300100</td>\n",
              "      <td>0.090443</td>\n",
              "      <td>0.002094</td>\n",
              "    </tr>\n",
              "    <tr>\n",
              "      <td>15</td>\n",
              "      <td>0.293500</td>\n",
              "      <td>0.097954</td>\n",
              "      <td>0.002551</td>\n",
              "    </tr>\n",
              "    <tr>\n",
              "      <td>16</td>\n",
              "      <td>0.284700</td>\n",
              "      <td>0.103956</td>\n",
              "      <td>0.002981</td>\n",
              "    </tr>\n",
              "  </tbody>\n",
              "</table><p>"
            ]
          },
          "metadata": {}
        },
        {
          "output_type": "execute_result",
          "data": {
            "text/plain": [
              "TrainOutput(global_step=10128, training_loss=0.39160501297804606, metrics={'train_runtime': 3376.477, 'train_samples_per_second': 47.946, 'train_steps_per_second': 3.0, 'total_flos': 2.1558445738328064e+16, 'train_loss': 0.39160501297804606, 'epoch': 16.0})"
            ]
          },
          "metadata": {},
          "execution_count": 18
        }
      ],
      "source": [
        "trainer.train()"
      ]
    },
    {
      "cell_type": "markdown",
      "source": [
        "# Model evaluation"
      ],
      "metadata": {
        "id": "d88T4WZRnfJ1"
      }
    },
    {
      "cell_type": "markdown",
      "source": [
        "Test dataset"
      ],
      "metadata": {
        "id": "DX12m9OxnkLU"
      }
    },
    {
      "cell_type": "code",
      "source": [
        "def get_all_dirs_test(**kwargs):\n",
        "    dataset = []\n",
        "    for dirname in glob.glob('sotu*'):\n",
        "      if os.path.isdir(dirname):\n",
        "        ds = get_all_files(dirname, train=False, **kwargs)\n",
        "        dataset.extend(ds)\n",
        "    texts = [d['text'] for d in dataset]\n",
        "    labels = [d['labels'] for d in dataset]\n",
        "    thedict = {'text':texts, 'labels': labels}\n",
        "    return Dataset.from_dict(thedict)"
      ],
      "metadata": {
        "id": "munz49LIaamo"
      },
      "execution_count": null,
      "outputs": []
    },
    {
      "cell_type": "code",
      "execution_count": null,
      "metadata": {
        "id": "ACTzGaausHZN",
        "colab": {
          "base_uri": "https://localhost:8080/"
        },
        "outputId": "e3875e0a-9d83-4227-d64a-8994083c051a"
      },
      "outputs": [
        {
          "output_type": "stream",
          "name": "stdout",
          "text": [
            "Acquiring file Madison_1814.test.txt\n",
            "Acquiring file Madison_1810.test.txt\n",
            "Acquiring file RooseveltF_1944.test.txt\n",
            "Acquiring file RooseveltF_1940.test.txt\n",
            "Acquiring file RooseveltF_1936.test.txt\n",
            "Acquiring file Ford_1977.test.txt\n",
            "Acquiring file Buchanan_1860.test.txt\n",
            "Acquiring file Cleveland_1886.test.txt\n",
            "Acquiring file Cleveland_1894.test.txt\n",
            "Acquiring file Washington_1793.test.txt\n",
            "Acquiring file Washington_1796.test.txt\n",
            "Acquiring file RooseveltT_1902.test.txt\n",
            "Acquiring file RooseveltT_1906.test.txt\n",
            "Acquiring file Reagan_1982.test.txt\n",
            "Acquiring file Reagan_1986.test.txt\n",
            "Acquiring file AdamsSr_1798.test.txt\n",
            "Acquiring file Pierce_1855.test.txt\n",
            "Acquiring file Obama_2010.test.txt\n",
            "Acquiring file Obama_2014.test.txt\n",
            "Acquiring file Grant_1872.test.txt\n",
            "Acquiring file Grant_1876.test.txt\n",
            "Acquiring file Monroe_1824.test.txt\n",
            "Acquiring file Monroe_1820.test.txt\n",
            "Acquiring file Eisenhower_1954.test.txt\n",
            "Acquiring file Eisenhower_1958.test.txt\n",
            "Acquiring file Trump_2018.test.txt\n",
            "Acquiring file Wilson_1917.test.txt\n",
            "Acquiring file Wilson_1913.test.txt\n",
            "Acquiring file Carter_1978.test.txt\n",
            "Acquiring file BushSr_1990.test.txt\n",
            "Acquiring file Nixon_1974.test.txt\n",
            "Acquiring file Nixon_1970.test.txt\n",
            "Acquiring file Hayes_1879.test.txt\n",
            "Acquiring file Taft_1912.test.txt\n",
            "Acquiring file Coolidge_1928.test.txt\n",
            "Acquiring file Coolidge_1926.test.txt\n",
            "Acquiring file Jefferson_1802.test.txt\n",
            "Acquiring file Jefferson_1806.test.txt\n",
            "Acquiring file JohnsonA_1867.test.txt\n",
            "Acquiring file Harding_1921.test.txt\n",
            "Acquiring file Lincoln_1861.test.txt\n",
            "Acquiring file Hoover_1932.test.txt\n",
            "Acquiring file Clinton_1999.test.txt\n",
            "Acquiring file Clinton_1995.test.txt\n",
            "Acquiring file Arthur_1883.test.txt\n",
            "Acquiring file McKinley_1899.test.txt\n",
            "Acquiring file Taylor_1849.test.txt\n",
            "Acquiring file Tyler_1843.test.txt\n",
            "Acquiring file AdamsJr_1825.test.txt\n",
            "Acquiring file Jackson_1829.test.txt\n",
            "Acquiring file Jackson_1833.test.txt\n",
            "Acquiring file Buren_1837.test.txt\n",
            "Acquiring file Kennedy_1963.test.txt\n",
            "Acquiring file Truman_1946.test.txt\n",
            "Acquiring file Truman_1950.test.txt\n",
            "Acquiring file Harrison_1890.test.txt\n",
            "Acquiring file Fillmore_1851.test.txt\n",
            "Acquiring file Polk_1848.test.txt\n",
            "Acquiring file JohnsonLB_1969.test.txt\n",
            "Acquiring file JohnsonLB_1966.test.txt\n",
            "Acquiring file BushJr_2008.test.txt\n",
            "Acquiring file BushJr_2004.test.txt\n"
          ]
        }
      ],
      "source": [
        "myds_test = get_all_dirs_test(max_length=512, step_size=128)"
      ]
    },
    {
      "cell_type": "markdown",
      "source": [
        "Tokenizing the test dataset"
      ],
      "metadata": {
        "id": "Y5yfl_Hxnmqg"
      }
    },
    {
      "cell_type": "code",
      "execution_count": null,
      "metadata": {
        "id": "9XhejtmTKL0R",
        "colab": {
          "base_uri": "https://localhost:8080/",
          "height": 49,
          "referenced_widgets": [
            "7d3a8a18473a4e34aeb5df50bd7a7da5",
            "bc21036bd1d9401e8fd67b02141b428f",
            "e5bcd010385348c0be7b254b8c198d3b",
            "27db350658524389a6fef96590334ef2",
            "051e4f8ff35445f9905fa3cb5b6fc549",
            "52dc720569364dd9854f08009836a2ff",
            "905eae20642b417da35862985132d201",
            "be1c00d64da4454c952ef487f9a60c64",
            "b43b35c39077419d8388d70f9905de37",
            "54c514fb131f45a1b7a7ef4600ffda51",
            "d51ca01579b64cec97225d8b66c9b411"
          ]
        },
        "outputId": "dcced30d-7889-4a8a-e4db-d15fc7689334"
      },
      "outputs": [
        {
          "output_type": "display_data",
          "data": {
            "text/plain": [
              "Map:   0%|          | 0/3839 [00:00<?, ? examples/s]"
            ],
            "application/vnd.jupyter.widget-view+json": {
              "version_major": 2,
              "version_minor": 0,
              "model_id": "7d3a8a18473a4e34aeb5df50bd7a7da5"
            }
          },
          "metadata": {}
        }
      ],
      "source": [
        "myds_test_tokenized = myds_test.map(tokenize_function, batched=True)"
      ]
    },
    {
      "cell_type": "code",
      "execution_count": null,
      "metadata": {
        "id": "L2vi_OyTMdMw"
      },
      "outputs": [],
      "source": [
        "myds_test_tokenized = myds_test_tokenized.remove_columns([\"text\"])\n",
        "myds_test_tokenized.set_format(\"torch\")"
      ]
    },
    {
      "cell_type": "code",
      "execution_count": null,
      "metadata": {
        "id": "xW8MoxDWEKhL"
      },
      "outputs": [],
      "source": [
        "eval_dataloader = DataLoader(myds_test_tokenized, batch_size=16)"
      ]
    },
    {
      "cell_type": "markdown",
      "source": [
        "Evaluating rmse on chunks of text: we get about 7.5 years error (not great)"
      ],
      "metadata": {
        "id": "9OOKXcQmn-x-"
      }
    },
    {
      "cell_type": "code",
      "source": [
        "metric = evaluate.load(\"mse\")\n",
        "\n",
        "model.eval()\n",
        "for batch in eval_dataloader:\n",
        "    batch = {k: v.to('cuda') for k, v in batch.items()}\n",
        "    with torch.no_grad():\n",
        "        outputs = model(**batch)\n",
        "    logits = myscaler.inverse_transform(outputs.logits.cpu())\n",
        "    metric.add_batch(predictions=logits, references=batch[\"labels\"])\n",
        "\n",
        "mse = metric.compute()\n",
        "rmse = np.sqrt(mse[\"mse\"])\n",
        "print(f'RMSE on text chunks: {rmse}')"
      ],
      "metadata": {
        "id": "LHfGPGnmf46w",
        "colab": {
          "base_uri": "https://localhost:8080/"
        },
        "outputId": "93f92c9b-121d-480c-ade1-c612d6376295"
      },
      "execution_count": null,
      "outputs": [
        {
          "output_type": "stream",
          "name": "stdout",
          "text": [
            "RMSE on text chunks: 7.296835997244392\n"
          ]
        }
      ]
    },
    {
      "cell_type": "markdown",
      "source": [
        "Averaging logits: boost in RMSE"
      ],
      "metadata": {
        "id": "ddqYHfaMoQVF"
      }
    },
    {
      "cell_type": "code",
      "source": [
        "# Initialize a defaultdict to accumulate logits and counts for each label\n",
        "label_logits_sum = defaultdict(lambda: np.zeros(1))\n",
        "label_counts = defaultdict(int)\n",
        "\n",
        "model.eval()\n",
        "with torch.no_grad():\n",
        "    for batch in eval_dataloader:\n",
        "        batch = {k: v.to('cuda') for k, v in batch.items()}\n",
        "        outputs = model(**batch)\n",
        "        logits = myscaler.inverse_transform(outputs.logits.cpu())\n",
        "        for i,k in enumerate(batch['labels']):\n",
        "          label_key = int(k.cpu().numpy())\n",
        "          logit_ind = i\n",
        "          label_logits_sum[label_key] += logits[logit_ind]\n",
        "          label_counts[label_key] += 1"
      ],
      "metadata": {
        "id": "Iv5v2h5eheCF"
      },
      "execution_count": null,
      "outputs": []
    },
    {
      "cell_type": "code",
      "source": [
        "preds_from_avg_logits = {}\n",
        "for label_idx in label_logits_sum.keys():\n",
        "  if label_counts[label_idx] > 0:\n",
        "    preds_from_avg_logits[label_idx] = np.squeeze(label_logits_sum[label_idx]) / label_counts[label_idx]\n",
        "  else:\n",
        "    preds_from_avg_logits[label_idx] = .0"
      ],
      "metadata": {
        "id": "th4dPcESh1g9"
      },
      "execution_count": null,
      "outputs": []
    },
    {
      "cell_type": "code",
      "source": [
        "true_labels = np.array(list(preds_from_avg_logits.keys()))\n",
        "pred_labels = np.array(list(preds_from_avg_logits.values()))\n",
        "\n",
        "mse  = mean_squared_error(true_labels, pred_labels)\n",
        "rmse = np.sqrt(mse)\n",
        "print(f'RMSE with averaging: {rmse}')"
      ],
      "metadata": {
        "colab": {
          "base_uri": "https://localhost:8080/"
        },
        "id": "JfO3Oh1jcFEh",
        "outputId": "3ea0dfc8-88f6-41df-b8e6-aac1bb535da9"
      },
      "execution_count": null,
      "outputs": [
        {
          "output_type": "stream",
          "name": "stdout",
          "text": [
            "RMSE with averaging: 4.520993245416568\n"
          ]
        }
      ]
    },
    {
      "cell_type": "code",
      "source": [
        "true_labels = np.array(list(preds_from_avg_logits.keys()))\n",
        "pred_labels_round = np.array([np.round(x) for x in list(preds_from_avg_logits.values())])\n",
        "\n",
        "mse_round  = mean_squared_error(true_labels, pred_labels_round)\n",
        "rmse_round = np.sqrt(mse_round)\n",
        "print(f'RMSE with rounding: {rmse_round}')"
      ],
      "metadata": {
        "colab": {
          "base_uri": "https://localhost:8080/"
        },
        "id": "p2LXcyJYeCE3",
        "outputId": "a39edc6c-8410-4c3b-fd18-bb810bbd67bd"
      },
      "execution_count": null,
      "outputs": [
        {
          "output_type": "stream",
          "name": "stdout",
          "text": [
            "RMSE with rounding: 4.515207279205856\n"
          ]
        }
      ]
    }
  ],
  "metadata": {
    "accelerator": "GPU",
    "colab": {
      "machine_shape": "hm",
      "provenance": [],
      "gpuType": "V100"
    },
    "kernelspec": {
      "display_name": "Python 3",
      "name": "python3"
    },
    "language_info": {
      "name": "python"
    },
    "widgets": {
      "application/vnd.jupyter.widget-state+json": {
        "0c7613ad0c434f8d994ad6c4767a4e2a": {
          "model_module": "@jupyter-widgets/controls",
          "model_name": "HBoxModel",
          "model_module_version": "1.5.0",
          "state": {
            "_dom_classes": [],
            "_model_module": "@jupyter-widgets/controls",
            "_model_module_version": "1.5.0",
            "_model_name": "HBoxModel",
            "_view_count": null,
            "_view_module": "@jupyter-widgets/controls",
            "_view_module_version": "1.5.0",
            "_view_name": "HBoxView",
            "box_style": "",
            "children": [
              "IPY_MODEL_da9ef4e022784b19a241c5649f59efa0",
              "IPY_MODEL_8e22e035694e47efb173effb785b3408",
              "IPY_MODEL_1d9229affda94251a63966b222778f82"
            ],
            "layout": "IPY_MODEL_b4fe9ba5e61a4ded828b3ea32cb7d082"
          }
        },
        "da9ef4e022784b19a241c5649f59efa0": {
          "model_module": "@jupyter-widgets/controls",
          "model_name": "HTMLModel",
          "model_module_version": "1.5.0",
          "state": {
            "_dom_classes": [],
            "_model_module": "@jupyter-widgets/controls",
            "_model_module_version": "1.5.0",
            "_model_name": "HTMLModel",
            "_view_count": null,
            "_view_module": "@jupyter-widgets/controls",
            "_view_module_version": "1.5.0",
            "_view_name": "HTMLView",
            "description": "",
            "description_tooltip": null,
            "layout": "IPY_MODEL_d2bba36ed1904e038840060ebcf7b3f6",
            "placeholder": "​",
            "style": "IPY_MODEL_e525863eeff84ceda6f01eb74219be50",
            "value": "Map: 100%"
          }
        },
        "8e22e035694e47efb173effb785b3408": {
          "model_module": "@jupyter-widgets/controls",
          "model_name": "FloatProgressModel",
          "model_module_version": "1.5.0",
          "state": {
            "_dom_classes": [],
            "_model_module": "@jupyter-widgets/controls",
            "_model_module_version": "1.5.0",
            "_model_name": "FloatProgressModel",
            "_view_count": null,
            "_view_module": "@jupyter-widgets/controls",
            "_view_module_version": "1.5.0",
            "_view_name": "ProgressView",
            "bar_style": "success",
            "description": "",
            "description_tooltip": null,
            "layout": "IPY_MODEL_082b836242d54a5db1ed0a5927c3b12d",
            "max": 10118,
            "min": 0,
            "orientation": "horizontal",
            "style": "IPY_MODEL_4fa2361227ac4db19f34ee1d434fa884",
            "value": 10118
          }
        },
        "1d9229affda94251a63966b222778f82": {
          "model_module": "@jupyter-widgets/controls",
          "model_name": "HTMLModel",
          "model_module_version": "1.5.0",
          "state": {
            "_dom_classes": [],
            "_model_module": "@jupyter-widgets/controls",
            "_model_module_version": "1.5.0",
            "_model_name": "HTMLModel",
            "_view_count": null,
            "_view_module": "@jupyter-widgets/controls",
            "_view_module_version": "1.5.0",
            "_view_name": "HTMLView",
            "description": "",
            "description_tooltip": null,
            "layout": "IPY_MODEL_0c8f2b3c98054a1397965cec8af04568",
            "placeholder": "​",
            "style": "IPY_MODEL_e90cd817f60542b5a0f58b16c0097b6f",
            "value": " 10118/10118 [00:06&lt;00:00, 1617.11 examples/s]"
          }
        },
        "b4fe9ba5e61a4ded828b3ea32cb7d082": {
          "model_module": "@jupyter-widgets/base",
          "model_name": "LayoutModel",
          "model_module_version": "1.2.0",
          "state": {
            "_model_module": "@jupyter-widgets/base",
            "_model_module_version": "1.2.0",
            "_model_name": "LayoutModel",
            "_view_count": null,
            "_view_module": "@jupyter-widgets/base",
            "_view_module_version": "1.2.0",
            "_view_name": "LayoutView",
            "align_content": null,
            "align_items": null,
            "align_self": null,
            "border": null,
            "bottom": null,
            "display": null,
            "flex": null,
            "flex_flow": null,
            "grid_area": null,
            "grid_auto_columns": null,
            "grid_auto_flow": null,
            "grid_auto_rows": null,
            "grid_column": null,
            "grid_gap": null,
            "grid_row": null,
            "grid_template_areas": null,
            "grid_template_columns": null,
            "grid_template_rows": null,
            "height": null,
            "justify_content": null,
            "justify_items": null,
            "left": null,
            "margin": null,
            "max_height": null,
            "max_width": null,
            "min_height": null,
            "min_width": null,
            "object_fit": null,
            "object_position": null,
            "order": null,
            "overflow": null,
            "overflow_x": null,
            "overflow_y": null,
            "padding": null,
            "right": null,
            "top": null,
            "visibility": null,
            "width": null
          }
        },
        "d2bba36ed1904e038840060ebcf7b3f6": {
          "model_module": "@jupyter-widgets/base",
          "model_name": "LayoutModel",
          "model_module_version": "1.2.0",
          "state": {
            "_model_module": "@jupyter-widgets/base",
            "_model_module_version": "1.2.0",
            "_model_name": "LayoutModel",
            "_view_count": null,
            "_view_module": "@jupyter-widgets/base",
            "_view_module_version": "1.2.0",
            "_view_name": "LayoutView",
            "align_content": null,
            "align_items": null,
            "align_self": null,
            "border": null,
            "bottom": null,
            "display": null,
            "flex": null,
            "flex_flow": null,
            "grid_area": null,
            "grid_auto_columns": null,
            "grid_auto_flow": null,
            "grid_auto_rows": null,
            "grid_column": null,
            "grid_gap": null,
            "grid_row": null,
            "grid_template_areas": null,
            "grid_template_columns": null,
            "grid_template_rows": null,
            "height": null,
            "justify_content": null,
            "justify_items": null,
            "left": null,
            "margin": null,
            "max_height": null,
            "max_width": null,
            "min_height": null,
            "min_width": null,
            "object_fit": null,
            "object_position": null,
            "order": null,
            "overflow": null,
            "overflow_x": null,
            "overflow_y": null,
            "padding": null,
            "right": null,
            "top": null,
            "visibility": null,
            "width": null
          }
        },
        "e525863eeff84ceda6f01eb74219be50": {
          "model_module": "@jupyter-widgets/controls",
          "model_name": "DescriptionStyleModel",
          "model_module_version": "1.5.0",
          "state": {
            "_model_module": "@jupyter-widgets/controls",
            "_model_module_version": "1.5.0",
            "_model_name": "DescriptionStyleModel",
            "_view_count": null,
            "_view_module": "@jupyter-widgets/base",
            "_view_module_version": "1.2.0",
            "_view_name": "StyleView",
            "description_width": ""
          }
        },
        "082b836242d54a5db1ed0a5927c3b12d": {
          "model_module": "@jupyter-widgets/base",
          "model_name": "LayoutModel",
          "model_module_version": "1.2.0",
          "state": {
            "_model_module": "@jupyter-widgets/base",
            "_model_module_version": "1.2.0",
            "_model_name": "LayoutModel",
            "_view_count": null,
            "_view_module": "@jupyter-widgets/base",
            "_view_module_version": "1.2.0",
            "_view_name": "LayoutView",
            "align_content": null,
            "align_items": null,
            "align_self": null,
            "border": null,
            "bottom": null,
            "display": null,
            "flex": null,
            "flex_flow": null,
            "grid_area": null,
            "grid_auto_columns": null,
            "grid_auto_flow": null,
            "grid_auto_rows": null,
            "grid_column": null,
            "grid_gap": null,
            "grid_row": null,
            "grid_template_areas": null,
            "grid_template_columns": null,
            "grid_template_rows": null,
            "height": null,
            "justify_content": null,
            "justify_items": null,
            "left": null,
            "margin": null,
            "max_height": null,
            "max_width": null,
            "min_height": null,
            "min_width": null,
            "object_fit": null,
            "object_position": null,
            "order": null,
            "overflow": null,
            "overflow_x": null,
            "overflow_y": null,
            "padding": null,
            "right": null,
            "top": null,
            "visibility": null,
            "width": null
          }
        },
        "4fa2361227ac4db19f34ee1d434fa884": {
          "model_module": "@jupyter-widgets/controls",
          "model_name": "ProgressStyleModel",
          "model_module_version": "1.5.0",
          "state": {
            "_model_module": "@jupyter-widgets/controls",
            "_model_module_version": "1.5.0",
            "_model_name": "ProgressStyleModel",
            "_view_count": null,
            "_view_module": "@jupyter-widgets/base",
            "_view_module_version": "1.2.0",
            "_view_name": "StyleView",
            "bar_color": null,
            "description_width": ""
          }
        },
        "0c8f2b3c98054a1397965cec8af04568": {
          "model_module": "@jupyter-widgets/base",
          "model_name": "LayoutModel",
          "model_module_version": "1.2.0",
          "state": {
            "_model_module": "@jupyter-widgets/base",
            "_model_module_version": "1.2.0",
            "_model_name": "LayoutModel",
            "_view_count": null,
            "_view_module": "@jupyter-widgets/base",
            "_view_module_version": "1.2.0",
            "_view_name": "LayoutView",
            "align_content": null,
            "align_items": null,
            "align_self": null,
            "border": null,
            "bottom": null,
            "display": null,
            "flex": null,
            "flex_flow": null,
            "grid_area": null,
            "grid_auto_columns": null,
            "grid_auto_flow": null,
            "grid_auto_rows": null,
            "grid_column": null,
            "grid_gap": null,
            "grid_row": null,
            "grid_template_areas": null,
            "grid_template_columns": null,
            "grid_template_rows": null,
            "height": null,
            "justify_content": null,
            "justify_items": null,
            "left": null,
            "margin": null,
            "max_height": null,
            "max_width": null,
            "min_height": null,
            "min_width": null,
            "object_fit": null,
            "object_position": null,
            "order": null,
            "overflow": null,
            "overflow_x": null,
            "overflow_y": null,
            "padding": null,
            "right": null,
            "top": null,
            "visibility": null,
            "width": null
          }
        },
        "e90cd817f60542b5a0f58b16c0097b6f": {
          "model_module": "@jupyter-widgets/controls",
          "model_name": "DescriptionStyleModel",
          "model_module_version": "1.5.0",
          "state": {
            "_model_module": "@jupyter-widgets/controls",
            "_model_module_version": "1.5.0",
            "_model_name": "DescriptionStyleModel",
            "_view_count": null,
            "_view_module": "@jupyter-widgets/base",
            "_view_module_version": "1.2.0",
            "_view_name": "StyleView",
            "description_width": ""
          }
        },
        "7d3a8a18473a4e34aeb5df50bd7a7da5": {
          "model_module": "@jupyter-widgets/controls",
          "model_name": "HBoxModel",
          "model_module_version": "1.5.0",
          "state": {
            "_dom_classes": [],
            "_model_module": "@jupyter-widgets/controls",
            "_model_module_version": "1.5.0",
            "_model_name": "HBoxModel",
            "_view_count": null,
            "_view_module": "@jupyter-widgets/controls",
            "_view_module_version": "1.5.0",
            "_view_name": "HBoxView",
            "box_style": "",
            "children": [
              "IPY_MODEL_bc21036bd1d9401e8fd67b02141b428f",
              "IPY_MODEL_e5bcd010385348c0be7b254b8c198d3b",
              "IPY_MODEL_27db350658524389a6fef96590334ef2"
            ],
            "layout": "IPY_MODEL_051e4f8ff35445f9905fa3cb5b6fc549"
          }
        },
        "bc21036bd1d9401e8fd67b02141b428f": {
          "model_module": "@jupyter-widgets/controls",
          "model_name": "HTMLModel",
          "model_module_version": "1.5.0",
          "state": {
            "_dom_classes": [],
            "_model_module": "@jupyter-widgets/controls",
            "_model_module_version": "1.5.0",
            "_model_name": "HTMLModel",
            "_view_count": null,
            "_view_module": "@jupyter-widgets/controls",
            "_view_module_version": "1.5.0",
            "_view_name": "HTMLView",
            "description": "",
            "description_tooltip": null,
            "layout": "IPY_MODEL_52dc720569364dd9854f08009836a2ff",
            "placeholder": "​",
            "style": "IPY_MODEL_905eae20642b417da35862985132d201",
            "value": "Map: 100%"
          }
        },
        "e5bcd010385348c0be7b254b8c198d3b": {
          "model_module": "@jupyter-widgets/controls",
          "model_name": "FloatProgressModel",
          "model_module_version": "1.5.0",
          "state": {
            "_dom_classes": [],
            "_model_module": "@jupyter-widgets/controls",
            "_model_module_version": "1.5.0",
            "_model_name": "FloatProgressModel",
            "_view_count": null,
            "_view_module": "@jupyter-widgets/controls",
            "_view_module_version": "1.5.0",
            "_view_name": "ProgressView",
            "bar_style": "success",
            "description": "",
            "description_tooltip": null,
            "layout": "IPY_MODEL_be1c00d64da4454c952ef487f9a60c64",
            "max": 3839,
            "min": 0,
            "orientation": "horizontal",
            "style": "IPY_MODEL_b43b35c39077419d8388d70f9905de37",
            "value": 3839
          }
        },
        "27db350658524389a6fef96590334ef2": {
          "model_module": "@jupyter-widgets/controls",
          "model_name": "HTMLModel",
          "model_module_version": "1.5.0",
          "state": {
            "_dom_classes": [],
            "_model_module": "@jupyter-widgets/controls",
            "_model_module_version": "1.5.0",
            "_model_name": "HTMLModel",
            "_view_count": null,
            "_view_module": "@jupyter-widgets/controls",
            "_view_module_version": "1.5.0",
            "_view_name": "HTMLView",
            "description": "",
            "description_tooltip": null,
            "layout": "IPY_MODEL_54c514fb131f45a1b7a7ef4600ffda51",
            "placeholder": "​",
            "style": "IPY_MODEL_d51ca01579b64cec97225d8b66c9b411",
            "value": " 3839/3839 [00:02&lt;00:00, 1690.79 examples/s]"
          }
        },
        "051e4f8ff35445f9905fa3cb5b6fc549": {
          "model_module": "@jupyter-widgets/base",
          "model_name": "LayoutModel",
          "model_module_version": "1.2.0",
          "state": {
            "_model_module": "@jupyter-widgets/base",
            "_model_module_version": "1.2.0",
            "_model_name": "LayoutModel",
            "_view_count": null,
            "_view_module": "@jupyter-widgets/base",
            "_view_module_version": "1.2.0",
            "_view_name": "LayoutView",
            "align_content": null,
            "align_items": null,
            "align_self": null,
            "border": null,
            "bottom": null,
            "display": null,
            "flex": null,
            "flex_flow": null,
            "grid_area": null,
            "grid_auto_columns": null,
            "grid_auto_flow": null,
            "grid_auto_rows": null,
            "grid_column": null,
            "grid_gap": null,
            "grid_row": null,
            "grid_template_areas": null,
            "grid_template_columns": null,
            "grid_template_rows": null,
            "height": null,
            "justify_content": null,
            "justify_items": null,
            "left": null,
            "margin": null,
            "max_height": null,
            "max_width": null,
            "min_height": null,
            "min_width": null,
            "object_fit": null,
            "object_position": null,
            "order": null,
            "overflow": null,
            "overflow_x": null,
            "overflow_y": null,
            "padding": null,
            "right": null,
            "top": null,
            "visibility": null,
            "width": null
          }
        },
        "52dc720569364dd9854f08009836a2ff": {
          "model_module": "@jupyter-widgets/base",
          "model_name": "LayoutModel",
          "model_module_version": "1.2.0",
          "state": {
            "_model_module": "@jupyter-widgets/base",
            "_model_module_version": "1.2.0",
            "_model_name": "LayoutModel",
            "_view_count": null,
            "_view_module": "@jupyter-widgets/base",
            "_view_module_version": "1.2.0",
            "_view_name": "LayoutView",
            "align_content": null,
            "align_items": null,
            "align_self": null,
            "border": null,
            "bottom": null,
            "display": null,
            "flex": null,
            "flex_flow": null,
            "grid_area": null,
            "grid_auto_columns": null,
            "grid_auto_flow": null,
            "grid_auto_rows": null,
            "grid_column": null,
            "grid_gap": null,
            "grid_row": null,
            "grid_template_areas": null,
            "grid_template_columns": null,
            "grid_template_rows": null,
            "height": null,
            "justify_content": null,
            "justify_items": null,
            "left": null,
            "margin": null,
            "max_height": null,
            "max_width": null,
            "min_height": null,
            "min_width": null,
            "object_fit": null,
            "object_position": null,
            "order": null,
            "overflow": null,
            "overflow_x": null,
            "overflow_y": null,
            "padding": null,
            "right": null,
            "top": null,
            "visibility": null,
            "width": null
          }
        },
        "905eae20642b417da35862985132d201": {
          "model_module": "@jupyter-widgets/controls",
          "model_name": "DescriptionStyleModel",
          "model_module_version": "1.5.0",
          "state": {
            "_model_module": "@jupyter-widgets/controls",
            "_model_module_version": "1.5.0",
            "_model_name": "DescriptionStyleModel",
            "_view_count": null,
            "_view_module": "@jupyter-widgets/base",
            "_view_module_version": "1.2.0",
            "_view_name": "StyleView",
            "description_width": ""
          }
        },
        "be1c00d64da4454c952ef487f9a60c64": {
          "model_module": "@jupyter-widgets/base",
          "model_name": "LayoutModel",
          "model_module_version": "1.2.0",
          "state": {
            "_model_module": "@jupyter-widgets/base",
            "_model_module_version": "1.2.0",
            "_model_name": "LayoutModel",
            "_view_count": null,
            "_view_module": "@jupyter-widgets/base",
            "_view_module_version": "1.2.0",
            "_view_name": "LayoutView",
            "align_content": null,
            "align_items": null,
            "align_self": null,
            "border": null,
            "bottom": null,
            "display": null,
            "flex": null,
            "flex_flow": null,
            "grid_area": null,
            "grid_auto_columns": null,
            "grid_auto_flow": null,
            "grid_auto_rows": null,
            "grid_column": null,
            "grid_gap": null,
            "grid_row": null,
            "grid_template_areas": null,
            "grid_template_columns": null,
            "grid_template_rows": null,
            "height": null,
            "justify_content": null,
            "justify_items": null,
            "left": null,
            "margin": null,
            "max_height": null,
            "max_width": null,
            "min_height": null,
            "min_width": null,
            "object_fit": null,
            "object_position": null,
            "order": null,
            "overflow": null,
            "overflow_x": null,
            "overflow_y": null,
            "padding": null,
            "right": null,
            "top": null,
            "visibility": null,
            "width": null
          }
        },
        "b43b35c39077419d8388d70f9905de37": {
          "model_module": "@jupyter-widgets/controls",
          "model_name": "ProgressStyleModel",
          "model_module_version": "1.5.0",
          "state": {
            "_model_module": "@jupyter-widgets/controls",
            "_model_module_version": "1.5.0",
            "_model_name": "ProgressStyleModel",
            "_view_count": null,
            "_view_module": "@jupyter-widgets/base",
            "_view_module_version": "1.2.0",
            "_view_name": "StyleView",
            "bar_color": null,
            "description_width": ""
          }
        },
        "54c514fb131f45a1b7a7ef4600ffda51": {
          "model_module": "@jupyter-widgets/base",
          "model_name": "LayoutModel",
          "model_module_version": "1.2.0",
          "state": {
            "_model_module": "@jupyter-widgets/base",
            "_model_module_version": "1.2.0",
            "_model_name": "LayoutModel",
            "_view_count": null,
            "_view_module": "@jupyter-widgets/base",
            "_view_module_version": "1.2.0",
            "_view_name": "LayoutView",
            "align_content": null,
            "align_items": null,
            "align_self": null,
            "border": null,
            "bottom": null,
            "display": null,
            "flex": null,
            "flex_flow": null,
            "grid_area": null,
            "grid_auto_columns": null,
            "grid_auto_flow": null,
            "grid_auto_rows": null,
            "grid_column": null,
            "grid_gap": null,
            "grid_row": null,
            "grid_template_areas": null,
            "grid_template_columns": null,
            "grid_template_rows": null,
            "height": null,
            "justify_content": null,
            "justify_items": null,
            "left": null,
            "margin": null,
            "max_height": null,
            "max_width": null,
            "min_height": null,
            "min_width": null,
            "object_fit": null,
            "object_position": null,
            "order": null,
            "overflow": null,
            "overflow_x": null,
            "overflow_y": null,
            "padding": null,
            "right": null,
            "top": null,
            "visibility": null,
            "width": null
          }
        },
        "d51ca01579b64cec97225d8b66c9b411": {
          "model_module": "@jupyter-widgets/controls",
          "model_name": "DescriptionStyleModel",
          "model_module_version": "1.5.0",
          "state": {
            "_model_module": "@jupyter-widgets/controls",
            "_model_module_version": "1.5.0",
            "_model_name": "DescriptionStyleModel",
            "_view_count": null,
            "_view_module": "@jupyter-widgets/base",
            "_view_module_version": "1.2.0",
            "_view_name": "StyleView",
            "description_width": ""
          }
        }
      }
    }
  },
  "nbformat": 4,
  "nbformat_minor": 0
}