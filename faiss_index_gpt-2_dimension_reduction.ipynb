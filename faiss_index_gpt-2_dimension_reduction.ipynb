{
  "nbformat": 4,
  "nbformat_minor": 5,
  "metadata": {
    "kernel_info": {
      "name": "python3.9-noteable"
    },
    "kernelspec": {
      "display_name": "Python 3.9 (Noteable)",
      "identifier": "noteable",
      "language": "python",
      "language_version": "3.9",
      "name": "python3.9-noteable"
    },
    "selected_hardware_size": "large"
  },
  "cells": [
    {
      "id": "573117bf-e5df-4bb7-ba06-d98b49ceaf3f",
      "cell_type": "markdown",
      "source": "## Dimension reduction of GPT-2 SOTU embeddings",
      "metadata": {
        "noteable": {
          "cell_type": "markdown"
        }
      }
    },
    {
      "id": "b2a7d14d-e8a8-443e-987d-af77775e14a6",
      "cell_type": "markdown",
      "source": "Run this notebook in the root directory (where SOTU files can be accessed) to replicate dimension reduction algorithms (UMAP, TriMAP, PaCMAP) applied to the embedding of SOTU presidential addresses via GPT-2.  ",
      "metadata": {
        "noteable": {
          "cell_type": "markdown"
        }
      }
    },
    {
      "id": "8565ff49-1020-42d2-9435-06920e95ee54",
      "cell_type": "markdown",
      "source": "Another part of the notebook is about authorship attribution by using nearest neighbors in the original GPT-2 embedding.",
      "metadata": {
        "noteable": {
          "cell_type": "markdown"
        }
      }
    },
    {
      "id": "e07232f3-7a9e-4fb2-b437-699e2ce192ef",
      "cell_type": "markdown",
      "source": "This notebook can be run on a CPU instance. ",
      "metadata": {
        "noteable": {
          "cell_type": "markdown"
        }
      }
    },
    {
      "id": "eefa20a8-ca22-4b8f-826a-c379bf746fdd",
      "cell_type": "markdown",
      "source": "# Initializing",
      "metadata": {
        "noteable": {
          "cell_type": "markdown"
        }
      }
    },
    {
      "id": "70a4fcbb",
      "cell_type": "code",
      "metadata": {
        "noteable": {
          "output_collection_id": "83dfc7c3-2543-4b42-8204-4d19377adc03"
        },
        "ExecuteTime": {
          "end_time": "2023-11-29T19:45:52.651136+00:00",
          "start_time": "2023-11-29T19:45:49.118521+00:00"
        }
      },
      "execution_count": null,
      "source": "!pip -q install tensorflow keras-nlp faiss-cpu umap-learn trimap pacmap matplotlib pandas seaborn",
      "outputs": []
    },
    {
      "id": "3a6470d8-9db1-4632-839e-6827f7c3014d",
      "cell_type": "markdown",
      "source": "# Imports",
      "metadata": {
        "noteable": {
          "cell_type": "markdown"
        }
      }
    },
    {
      "id": "065cbd47-7b03-4e1b-aec1-3510cea0bf3b",
      "cell_type": "code",
      "metadata": {
        "jupyter": {
          "outputs_hidden": false,
          "source_hidden": false
        },
        "noteable": {
          "cell_type": "code",
          "output_collection_id": "36977fcd-e50d-4e2a-a90e-504a5f4664e4"
        },
        "ExecuteTime": {
          "end_time": "2023-11-29T19:45:58.597354+00:00",
          "start_time": "2023-11-29T19:45:58.440023+00:00"
        }
      },
      "execution_count": null,
      "source": "import tensorflow as tf\nfrom keras_nlp.models import GPT2Tokenizer, GPT2Preprocessor, GPT2Backbone\nimport matplotlib.pyplot as plt\nimport numpy as np\nimport faiss\nimport umap, trimap, pacmap\nimport os\nimport pickle\nimport pandas as pd\nimport seaborn as sns\nfrom sklearn.cluster import KMeans",
      "outputs": []
    },
    {
      "id": "1b2de51e-ef9b-4c9e-b989-8aef07e538f0",
      "cell_type": "markdown",
      "source": "# Model and dataset",
      "metadata": {
        "noteable": {
          "cell_type": "markdown"
        }
      }
    },
    {
      "id": "c13c16fa-df0c-43dc-abb4-cbaa054fe40e",
      "cell_type": "markdown",
      "source": "Chunk length and shift for the sliding window",
      "metadata": {
        "noteable": {
          "cell_type": "markdown"
        }
      }
    },
    {
      "id": "b83b7952-735f-4499-a8f4-4edba0ecc096",
      "cell_type": "code",
      "metadata": {
        "jupyter": {
          "outputs_hidden": false,
          "source_hidden": false
        },
        "noteable": {
          "cell_type": "code",
          "output_collection_id": "3a840c7c-803b-4629-9d5c-4d864dbc2d2d"
        },
        "ExecuteTime": {
          "end_time": "2023-11-29T19:45:58.764600+00:00",
          "start_time": "2023-11-29T19:45:58.603299+00:00"
        }
      },
      "execution_count": null,
      "source": "WINDOW_LEN, WINDOW_SHIFT = 512, 256",
      "outputs": []
    },
    {
      "id": "aa26c54a-e4ad-4439-a920-4b09cdd289f1",
      "cell_type": "markdown",
      "source": "Using GPT-2",
      "metadata": {
        "noteable": {
          "cell_type": "markdown"
        }
      }
    },
    {
      "id": "d3d69fd9-2449-476a-bed9-7cd9cdf2c945",
      "cell_type": "code",
      "metadata": {
        "jupyter": {
          "outputs_hidden": false,
          "source_hidden": false
        },
        "noteable": {
          "cell_type": "code",
          "output_collection_id": "0b5d7829-1a89-4ca1-beda-c8baff839f5c"
        },
        "ExecuteTime": {
          "end_time": "2023-11-29T19:46:02.751756+00:00",
          "start_time": "2023-11-29T19:45:58.769095+00:00"
        }
      },
      "execution_count": null,
      "source": "#\n# Load GPT-2 model and tokenizer\n#\ngpt2_tokenizer = GPT2Tokenizer.from_preset(\"gpt2_base_en\")\ngpt2_preprocessor = GPT2Preprocessor(gpt2_tokenizer, sequence_length=WINDOW_LEN)\ngpt2_model = GPT2Backbone.from_preset(\"gpt2_base_en\")\n#\n# Define a function to generate embeddings (normalized to unit norm)\n#\ndef generate_embedding(text, window_len, window_shift, preprocessor, model):\n    # Split the text into words\n    words = text.split()\n    # Integrator for word strings\n    integrator = 0\n    #\n    # Iterate through windows with the specified shift\n    for i in range(0, len(words) - window_len + 1, window_shift):\n        string = ' '.join(words[i:i + window_len])\n        inputs     = tf.constant([string], dtype=tf.string)\n        preprocessed = preprocessor([inputs])\n        embedding  = tf.squeeze(model(preprocessed))\n        avg_pool   = tf.reduce_mean(embedding, axis=0)\n        integrator = integrator + avg_pool\n    #\n    # Include the last window if it's shorter than window_len\n    last_window_start = len(words) % window_len\n    if last_window_start > 0:\n        string = ' '.join(words[-last_window_start:])\n        inputs     = tf.constant([string], dtype=tf.string)\n        preprocess = preprocessor([inputs])\n        embedding  = tf.squeeze(model(preprocess))\n        avg_pool   = tf.reduce_mean(embedding, axis=0)\n        integrator = integrator + avg_pool\n    #\n    l2_norm    = tf.norm(integrator, ord='euclidean')\n    #\n    return integrator/l2_norm",
      "outputs": []
    },
    {
      "id": "11007e43-c312-4810-a149-923a2f33761e",
      "cell_type": "code",
      "metadata": {
        "jupyter": {
          "outputs_hidden": false,
          "source_hidden": false
        },
        "noteable": {
          "cell_type": "code",
          "output_collection_id": "d42309d7-d37e-4407-860c-1e5cbf00b999"
        },
        "ExecuteTime": {
          "end_time": "2023-11-29T19:46:07.768027+00:00",
          "start_time": "2023-11-29T19:46:07.610338+00:00"
        }
      },
      "execution_count": null,
      "source": "#\n# Function to read and store text files from a directory\n# that are label='train', label='test', or both kinds if label=None\n#\ndef store_text_files(directory, index, filenames, window_len, window_shift, preprocessor, model, label=None):\n    #\n    assert label in ['train', 'test', None]\n    #\n    end = {'train': \".train.txt\", 'test': \".test.txt\", None: \".txt\"}\n    #\n    for filename in os.listdir(directory):\n        #\n        if filename.endswith(end[label]):\n            #\n            filepath = os.path.join(directory, filename)\n            #\n            with open(filepath, \"r\", encoding=\"utf-8\") as file:\n                print(f'Acquiring file {filename}')\n                text = file.read()\n                embedding = generate_embedding(text, window_len, window_shift, preprocessor, model)\n                index.add(np.expand_dims(embedding, axis=0))\n                filenames.append(filename)",
      "outputs": []
    },
    {
      "id": "28cd2417-94ab-481e-bb5f-f23c24ad2bc2",
      "cell_type": "code",
      "metadata": {
        "jupyter": {
          "outputs_hidden": false,
          "source_hidden": false
        },
        "noteable": {
          "cell_type": "code",
          "output_collection_id": "fa62d9e4-3c92-4724-b248-f1b477ba2337"
        },
        "ExecuteTime": {
          "end_time": "2023-11-29T19:46:09.374851+00:00",
          "start_time": "2023-11-29T19:46:09.219019+00:00"
        }
      },
      "execution_count": null,
      "source": "#\n# Function to read and store text files from directories starting with \"sotu_\"\n#\ndef store_text_files_in_sotu_directories(root_directory, index, filenames, window_len, window_shift, preprocessor, model, label=None):\n    #\n    for entry in os.listdir(root_directory):\n        #\n        full_path = os.path.join(root_directory, entry)\n        #\n        if os.path.isdir(full_path) and entry.startswith(\"sotu_\"):\n            store_text_files(full_path, index, filenames, window_len, window_shift, preprocessor, model, label)",
      "outputs": []
    },
    {
      "id": "a7bbc437-844a-4c0a-9259-8a3aa447bb50",
      "cell_type": "code",
      "metadata": {
        "jupyter": {
          "outputs_hidden": false,
          "source_hidden": false
        },
        "noteable": {
          "cell_type": "code",
          "output_collection_id": "b145261a-41bd-4f4f-8820-5cdcafe93046"
        },
        "ExecuteTime": {
          "end_time": "2023-11-29T19:46:09.540598+00:00",
          "start_time": "2023-11-29T19:46:09.380922+00:00"
        }
      },
      "execution_count": null,
      "source": "#\n# Function to look for the nearest vector in Faiss index\n#\ndef compare_embedding_to_index(file_path, index, filenames, window_len, window_shift, preprocessor, model, top_k=5):\n    #\n    with open(file_path, \"r\", encoding=\"utf-8\") as file:\n        #\n        query_text = file.read()\n        query_embedding = generate_embedding(query_text, window_len, window_shift, preprocessor, model)\n        #\n        # Convert query embedding to a NumPy array\n        query_embedding_np = np.array([query_embedding])\n        #\n        # Search for the closest vectors in the Faiss index\n        similarity, indices = index.search(query_embedding_np, k=top_k)\n        #\n        # Retrieve the top k closest texts from the filenames list\n        closest_texts = [filenames[int(x)] for x in indices[0]]\n        #\n        return closest_texts, similarity[0]",
      "outputs": []
    },
    {
      "id": "2595fb87-5162-474d-b8a3-131c2a776e5c",
      "cell_type": "code",
      "metadata": {
        "jupyter": {
          "outputs_hidden": false,
          "source_hidden": false
        },
        "noteable": {
          "cell_type": "code",
          "output_collection_id": "8b27a120-c67d-4b2f-b480-38106e9f52fb"
        },
        "ExecuteTime": {
          "end_time": "2023-11-29T19:46:09.706885+00:00",
          "start_time": "2023-11-29T19:46:09.546752+00:00"
        }
      },
      "execution_count": null,
      "source": "def test_text_files(directory, index, filenames, top_k=5):\n    #\n    top_k_files = []\n    #\n    for filename in os.listdir(directory):\n        #\n        if filename.endswith('.test.txt'):\n            #\n            assert (filename in filenames)\n            #\n            i = filenames.index(filename)\n            query = np.array([index.reconstruct(i)])\n            similarity, indices = index.search(query, k=top_k+1)\n            closest_texts = [filenames[int(x)] for x in indices[0]]\n            top_k_list = [closest_texts[1:], similarity[0][1:]]\n            top_k_files.append(top_k_list)\n    #\n    return top_k_files",
      "outputs": []
    },
    {
      "id": "6800bf87-6ecb-4b7f-a9d2-2f10c8fd8077",
      "cell_type": "code",
      "metadata": {
        "jupyter": {
          "outputs_hidden": false,
          "source_hidden": false
        },
        "noteable": {
          "cell_type": "code",
          "output_collection_id": "a0d479ad-4ce5-483f-b896-c67a64334cc9"
        },
        "ExecuteTime": {
          "end_time": "2023-11-29T19:46:09.873855+00:00",
          "start_time": "2023-11-29T19:46:09.712913+00:00"
        }
      },
      "execution_count": null,
      "source": "#\n# Function to read and test the FAISS index on test files from directories starting with \"sotu_\"\n#\ndef test_text_files_in_sotu_directories(root_directory, index, filenames, top_k=5):\n    #\n    test = {}\n    #\n    for entry in os.listdir(root_directory):\n        #\n        full_path = os.path.join(root_directory, entry)\n        #\n        if os.path.isdir(full_path) and entry.startswith(\"sotu_\"):\n            top_k_entries = test_text_files(full_path,\n                                            index,\n                                            filenames,\n                                            top_k)\n            test[entry] = top_k_entries\n    #\n    return test",
      "outputs": []
    },
    {
      "id": "69109281-2965-4b1e-8d6d-d80e4debc50e",
      "cell_type": "markdown",
      "source": "# FAISS index",
      "metadata": {
        "noteable": {
          "cell_type": "markdown"
        }
      }
    },
    {
      "id": "fe3189be-285d-4af5-8237-4dddb486eb81",
      "cell_type": "code",
      "metadata": {
        "jupyter": {
          "outputs_hidden": false,
          "source_hidden": false
        },
        "noteable": {
          "cell_type": "code",
          "output_collection_id": "840b86bb-9d89-4bd9-b746-ea6c83429277"
        },
        "ExecuteTime": {
          "end_time": "2023-11-29T19:46:10.039363+00:00",
          "start_time": "2023-11-29T19:46:09.879466+00:00"
        }
      },
      "execution_count": null,
      "source": "# GPT-2 embedding dimension\nindex_dimension = 768\n#\n# Create FAISS index\nindex = faiss.IndexFlatIP(index_dimension)\n#\n# File names\nfilenames  = []\n#\n# Sanity check: should be 768, 0, 0, and the index is trained (by default)\n#\nprint(f'Index dimension {index_dimension}, number of entries {index.ntotal}, number of files {len(filenames)}')\nprint(f'Is trained? {index.is_trained}')",
      "outputs": []
    },
    {
      "id": "b3b0beba-2cbc-4f2c-a2a6-e1a970e49478",
      "cell_type": "code",
      "metadata": {
        "jupyter": {
          "outputs_hidden": false,
          "source_hidden": false
        },
        "noteable": {
          "cell_type": "code",
          "output_collection_id": "9029d9b0-c9da-441d-957b-4ac52e6f4e9c"
        },
        "ExecuteTime": {
          "end_time": "2023-11-29T19:46:10.208842+00:00",
          "start_time": "2023-11-29T19:46:10.045283+00:00"
        }
      },
      "execution_count": null,
      "source": "PREP  = gpt2_preprocessor\nMODEL = gpt2_model",
      "outputs": []
    },
    {
      "id": "9a060a2e-6700-4aab-9294-285ee327bf42",
      "cell_type": "markdown",
      "source": "Computing the GPT-2 embedding and storing it in the index (uncomment to replicate)",
      "metadata": {
        "noteable": {
          "cell_type": "markdown"
        }
      }
    },
    {
      "id": "effc7174-3f02-4ab0-be17-f6545361429c",
      "cell_type": "code",
      "metadata": {
        "jupyter": {
          "outputs_hidden": true,
          "source_hidden": false
        },
        "noteable": {
          "cell_type": "code",
          "output_collection_id": "2dbf4647-bef8-4f0d-8ac7-d88a0bb6c522"
        },
        "ExecuteTime": {
          "end_time": "2023-11-29T19:46:11.764671+00:00",
          "start_time": "2023-11-29T19:46:11.610022+00:00"
        },
        "scrolled": false
      },
      "execution_count": null,
      "source": "\"\"\"\n#\n# Loading files into the FAISS index with GPT2 embedding\n#\nstore_text_files_in_sotu_directories(\".\", index, filenames, WINDOW_LEN, WINDOW_SHIFT, PREP, MODEL, label=None)\nfaiss.write_index(index, \"sotu_gpt2_complete.faiss\")\nwith open(\"sotu_gpt2_filenames_complete.pickle\", 'wb') as file:\n    pickle.dump(filenames, file)\n    file.close()\n\"\"\";",
      "outputs": []
    },
    {
      "id": "a45d2063-c199-4040-b1ee-27506ae811ef",
      "cell_type": "markdown",
      "source": "Loading the index and filenames from the stored dataset",
      "metadata": {
        "noteable": {
          "cell_type": "markdown"
        }
      }
    },
    {
      "id": "b4639781-4d36-4472-8525-d4a78680b5d0",
      "cell_type": "code",
      "metadata": {
        "jupyter": {
          "outputs_hidden": false,
          "source_hidden": false
        },
        "noteable": {
          "cell_type": "code",
          "output_collection_id": "c8294445-3a83-47d9-b345-79bb34b6fffd"
        },
        "ExecuteTime": {
          "end_time": "2023-11-29T19:46:11.994678+00:00",
          "start_time": "2023-11-29T19:46:11.839658+00:00"
        }
      },
      "execution_count": null,
      "source": "#\n# Reading the index from file; reading the filenames from file\n#\nindex = faiss.read_index(\"sotu_gpt2_complete.faiss\")\nwith open(\"sotu_gpt2_filenames_complete.pickle\", 'rb') as file:\n    filenames = pickle.load(file)\n    file.close()",
      "outputs": []
    },
    {
      "id": "91c3540c-9aea-4594-993a-595b9bdfc3ea",
      "cell_type": "code",
      "metadata": {
        "jupyter": {
          "outputs_hidden": false,
          "source_hidden": false
        },
        "noteable": {
          "cell_type": "code",
          "output_collection_id": "fc9b1a5a-5fee-47ab-a13d-c3a85ad97a7a"
        },
        "ExecuteTime": {
          "end_time": "2023-11-29T19:46:12.165848+00:00",
          "start_time": "2023-11-29T19:46:12.009825+00:00"
        }
      },
      "execution_count": null,
      "source": "#\n# Sanity check: should be 768, 229, 229, and the index is trained (by default)\n#\nprint(f'Index dimension {index_dimension}, number of entries {index.ntotal}, number of files {len(filenames)}')\nprint(f'Is trained? {index.is_trained}')",
      "outputs": []
    },
    {
      "id": "5c8a8e5d-0193-4e4a-84f0-5de3516e06ca",
      "cell_type": "markdown",
      "source": "# Dimension reduction",
      "metadata": {
        "noteable": {
          "cell_type": "markdown"
        }
      }
    },
    {
      "id": "54f39527-5a10-4bc5-a5de-ef997b619db8",
      "cell_type": "markdown",
      "source": "Dimension reduction and clustering: GPT-2 mapped into dimensions 2 and 3 with UMAP, TriMAP, PaCMAP",
      "metadata": {
        "noteable": {
          "cell_type": "markdown"
        }
      }
    },
    {
      "id": "39d5cf3e-a08f-4a3f-998d-710d6068320f",
      "cell_type": "code",
      "metadata": {
        "jupyter": {
          "outputs_hidden": false,
          "source_hidden": false
        },
        "noteable": {
          "cell_type": "code",
          "output_collection_id": "d724f39e-34af-45df-8bec-814835577357"
        },
        "ExecuteTime": {
          "end_time": "2023-11-29T19:46:12.367047+00:00",
          "start_time": "2023-11-29T19:46:12.211205+00:00"
        }
      },
      "execution_count": null,
      "source": "#\n# Recover GPT2 embedding\n#\ngpt2_embedding = []\nfor i in range(index.ntotal):\n    vec = index.reconstruct(i)\n    gpt2_embedding += [vec]",
      "outputs": []
    },
    {
      "id": "e34f4762-915a-42d2-bdaf-5f9c7e40130e",
      "cell_type": "code",
      "metadata": {
        "jupyter": {
          "outputs_hidden": false,
          "source_hidden": false
        },
        "noteable": {
          "cell_type": "code",
          "output_collection_id": "64904f80-9606-4001-9da7-5d532917b6b7"
        },
        "ExecuteTime": {
          "end_time": "2023-11-29T20:21:13.869498+00:00",
          "start_time": "2023-11-29T20:20:36.503585+00:00"
        },
        "scrolled": false
      },
      "execution_count": null,
      "source": "#\n# UMAP the GPT2 embedding into 2D\n#\nreducer_umap2 = umap.UMAP(n_neighbors=int(np.sqrt(index_dimension)),\n                          n_components=2,\n                          metric='cosine',\n                          verbose=1)\numap_2_embedding = reducer_umap2.fit_transform(gpt2_embedding)",
      "outputs": []
    },
    {
      "id": "79884677-b293-4235-aae5-3c0e4c5182e0",
      "cell_type": "code",
      "metadata": {
        "jupyter": {
          "outputs_hidden": false,
          "source_hidden": false
        },
        "noteable": {
          "cell_type": "code",
          "output_collection_id": "e2bec9e4-3e63-4a19-b6a0-c656703b2aeb"
        },
        "ExecuteTime": {
          "end_time": "2023-11-29T20:21:29.472233+00:00",
          "start_time": "2023-11-29T20:21:29.094674+00:00"
        }
      },
      "execution_count": null,
      "source": "#\n# Scatter plot in 2D\n#\ndef plot_2d_embedding(embedding, emb_name):\n    labels_year = [int(s.split('_')[1].split('.')[0]) for s in filenames]\n    scatter = plt.scatter(embedding[:, 0], embedding[:, 1], c=labels_year)\n    plt.title(f'{emb_name} of SOTU in 2D')\n    plt.xlabel(\"X-axis\")\n    plt.ylabel(\"Y-axis\")\n    cbar = plt.colorbar(scatter, label=\"Year\")\n    plt.show()\n#\nplot_2d_embedding(umap_2_embedding, \"UMAP\")",
      "outputs": []
    },
    {
      "id": "7601c376-254a-452a-b6c4-e64f9960bb6b",
      "cell_type": "code",
      "metadata": {
        "jupyter": {
          "outputs_hidden": false,
          "source_hidden": false
        },
        "noteable": {
          "cell_type": "code",
          "output_collection_id": "a8bf1312-46f4-4e54-9306-3beff532a293"
        },
        "ExecuteTime": {
          "end_time": "2023-11-29T19:48:05.768841+00:00",
          "start_time": "2023-11-29T19:47:07.514069+00:00"
        }
      },
      "execution_count": null,
      "source": "#\n# TriMAP the GPT2 embedding into 2D\n#\nreducer_trimap2 = trimap.TRIMAP(n_dims=2,\n                                distance='cosine',\n                                verbose=1)\ntrimap_2_embedding = reducer_trimap2.fit_transform(np.array(gpt2_embedding))\n#\nplot_2d_embedding(trimap_2_embedding, \"TriMAP\")",
      "outputs": []
    },
    {
      "id": "b09a4842-5819-4989-a400-1a8699cf5760",
      "cell_type": "code",
      "metadata": {
        "jupyter": {
          "outputs_hidden": false,
          "source_hidden": false
        },
        "noteable": {
          "cell_type": "code",
          "output_collection_id": "b11fd6fb-3757-4df8-a1b7-d23428c60559"
        },
        "ExecuteTime": {
          "end_time": "2023-11-29T19:50:17.891906+00:00",
          "start_time": "2023-11-29T19:48:07.542801+00:00"
        }
      },
      "execution_count": null,
      "source": "#\n# PaCMAP the GPT2 embedding into 2D\n#\nreducer_pacmap2 = pacmap.PaCMAP(n_neighbors=int(np.sqrt(index_dimension)),\n                                n_components=2,\n                                distance='angular',\n                                verbose=1)\npacmap_2_embedding = reducer_pacmap2.fit_transform(gpt2_embedding)\n#\nplot_2d_embedding(pacmap_2_embedding, \"PaCMAP\")",
      "outputs": []
    },
    {
      "id": "a2ae1b11-0cc4-4b35-ba35-fcb5f26f457c",
      "cell_type": "code",
      "metadata": {
        "jupyter": {
          "outputs_hidden": false,
          "source_hidden": false
        },
        "noteable": {
          "cell_type": "code",
          "output_collection_id": "5c47b715-e87c-4422-83ca-5f4161544081"
        },
        "ExecuteTime": {
          "end_time": "2023-11-29T20:22:07.355690+00:00",
          "start_time": "2023-11-29T20:21:30.275924+00:00"
        },
        "scrolled": false
      },
      "execution_count": null,
      "source": "#\n# UMAP the GPT2 embedding into 3D\n#\nreducer_umap3 = umap.UMAP(n_neighbors=int(np.sqrt(index_dimension)),\n                          n_components=3,\n                          metric='cosine',\n                          verbose=1)\numap_3_embedding = reducer_umap3.fit_transform(gpt2_embedding)",
      "outputs": []
    },
    {
      "id": "5a5a693f-0bfe-4499-aa0c-c488c833dad1",
      "cell_type": "code",
      "metadata": {
        "jupyter": {
          "outputs_hidden": false,
          "source_hidden": false
        },
        "noteable": {
          "cell_type": "code",
          "output_collection_id": "2fb29d29-4122-4e6a-ae8c-5072161f6da8"
        },
        "ExecuteTime": {
          "end_time": "2023-11-29T20:21:30.041630+00:00",
          "start_time": "2023-11-29T20:21:29.702692+00:00"
        }
      },
      "execution_count": null,
      "source": "#\n# Scatter plot in 3D\n#\ndef plot_3d_embedding(embedding, emb_name):\n    labels_year = [int(s.split('_')[1].split('.')[0]) for s in filenames]\n    fig = plt.figure()\n    ax = fig.add_subplot(111, projection='3d')\n    scatter = ax.scatter(embedding[:, 0],\n                         embedding[:, 1],\n                         embedding[:, 2],\n                         c=labels_year)\n    ax.set_title(f'{emb_name} of SOTU in 3D')\n    ax.set_xlabel(\"X-axis\")\n    ax.set_ylabel(\"Y-axis\")\n    ax.set_zlabel(\"Z-axis\")\n    fig.colorbar(scatter, label=\"Year\")\n    plt.show()\n#\nplot_3d_embedding(umap_3_embedding, \"UMAP\")",
      "outputs": []
    },
    {
      "id": "8677c162-3039-4ad0-8d68-d788c42aa67e",
      "cell_type": "code",
      "metadata": {
        "jupyter": {
          "outputs_hidden": false,
          "source_hidden": false
        },
        "noteable": {
          "cell_type": "code",
          "output_collection_id": "6415cd3a-2e73-450c-bc06-66a102083462"
        },
        "ExecuteTime": {
          "end_time": "2023-11-29T19:52:01.918663+00:00",
          "start_time": "2023-11-29T19:51:12.623439+00:00"
        }
      },
      "execution_count": null,
      "source": "#\n# TriMAP the GPT2 embedding into 3D\n#\nreducer_trimap3 = trimap.TRIMAP(n_dims=3,\n                                distance='cosine',\n                                verbose=1)\ntrimap_3_embedding = reducer_trimap3.fit_transform(np.array(gpt2_embedding))\n#\nplot_3d_embedding(trimap_3_embedding, \"TriMAP\")",
      "outputs": []
    },
    {
      "id": "c56e5218-c042-4869-aec6-b5133eb492b6",
      "cell_type": "code",
      "metadata": {
        "jupyter": {
          "outputs_hidden": false,
          "source_hidden": false
        },
        "noteable": {
          "cell_type": "code",
          "output_collection_id": "06f5f97a-1adb-4fe1-a819-9a7a001a298a"
        },
        "ExecuteTime": {
          "end_time": "2023-11-29T19:53:42.163145+00:00",
          "start_time": "2023-11-29T19:52:07.030952+00:00"
        }
      },
      "execution_count": null,
      "source": "#\n# PaCMAP the GPT2 embedding into 3D\n#\nreducer_pacmap3 = pacmap.PaCMAP(n_neighbors=int(np.sqrt(index_dimension)),\n                                n_components=3,\n                                distance='angular',\n                                verbose=1)\npacmap_3_embedding = reducer_pacmap3.fit_transform(gpt2_embedding)\n#\nplot_3d_embedding(pacmap_3_embedding, \"PaCMAP\")",
      "outputs": []
    },
    {
      "id": "43660cc4-2fcf-445b-b3d0-49459db2aa3c",
      "cell_type": "markdown",
      "source": "# Diagrams for temporal clustering of SOTU speeches",
      "metadata": {
        "noteable": {
          "cell_type": "markdown"
        }
      }
    },
    {
      "id": "a9b51cde-b042-4389-9dc4-6a20674ffffd",
      "cell_type": "code",
      "metadata": {
        "jupyter": {
          "outputs_hidden": false,
          "source_hidden": false
        },
        "noteable": {
          "cell_type": "code",
          "output_collection_id": "e8d9fb32-72a2-42e6-b4d7-12ff0dffe774"
        },
        "ExecuteTime": {
          "end_time": "2023-11-29T20:22:20.752433+00:00",
          "start_time": "2023-11-29T20:22:20.594192+00:00"
        }
      },
      "execution_count": null,
      "source": "#\n# k-Mean clustering on given embedding with k=2, and then plot the diagram\n#\ndef plot_clustering_diagram(embedding):\n    \n    kmeans = KMeans(n_clusters=2, random_state=42)\n    \n    cluster_labels = kmeans.fit_predict(embedding)\n    labels_year = [int(s.split('_')[1].split('.')[0]) for s in filenames]\n    \n    df_emb = pd.DataFrame(data=np.array([labels_year, cluster_labels]).T,\n                          columns=['Year', 'Cluster'])\n    df_emb = df_emb.sort_values('Year')\n    \n    # Create a color map based on the values in the 'Cluster' column\n    colors = df_emb['Cluster'].map({0: 'blue', 1: 'red'})\n\n    # Same height bars for all years, only colors are different\n    df_emb['Value'] = 1.0\n\n    # Plotting a bar graph with customized colors\n    ax = df_emb.plot(x='Year', y='Value', kind='bar', legend=False, width=1.0, color=colors)\n\n    plt.title('Cluster Labels')\n    plt.xlabel('Year')\n    plt.ylabel('')\n\n    for label in ax.get_xticklabels():\n        if int(label.get_text()) not in [1790, 1928, 2018]:\n            label.set_visible(False)\n\n    plt.yticks([])\n\n    plt.show()",
      "outputs": []
    },
    {
      "id": "f07baa55-ee9e-4e39-895f-ed566515eedf",
      "cell_type": "code",
      "metadata": {
        "jupyter": {
          "outputs_hidden": false,
          "source_hidden": false
        },
        "noteable": {
          "cell_type": "code",
          "output_collection_id": "172cbbb2-45b6-4737-a9d5-a2568f13e860"
        },
        "ExecuteTime": {
          "end_time": "2023-11-29T20:22:22.032608+00:00",
          "start_time": "2023-11-29T20:22:20.758431+00:00"
        }
      },
      "execution_count": null,
      "source": "#\n# Clusters in UMAP 3D embedding\n#\nplot_clustering_diagram(umap_3_embedding)",
      "outputs": []
    },
    {
      "id": "6f3407ba-93db-40d2-99f2-3069472a09af",
      "cell_type": "markdown",
      "source": "A pandas dataframe where the temporal separation of clusters can be checked, and the watershed year(s) can be easily determined by inspection. ",
      "metadata": {
        "noteable": {
          "cell_type": "markdown"
        }
      }
    },
    {
      "id": "02bf6be9-60e4-4e76-b08d-eef648d58109",
      "cell_type": "code",
      "metadata": {
        "jupyter": {
          "outputs_hidden": false,
          "source_hidden": false
        },
        "noteable": {
          "cell_type": "code",
          "output_collection_id": "9a2b1cde-5f8b-4015-95e0-ff490f3c888f"
        },
        "ExecuteTime": {
          "end_time": "2023-11-29T19:53:51.567464+00:00",
          "start_time": "2023-11-29T19:53:51.410950+00:00"
        }
      },
      "execution_count": null,
      "source": "#\n# Dataframe with years labelled with 0 / 1 for clustering\n#\ndef df_clustering(embedding):\n    \n    kmeans = KMeans(n_clusters=2, random_state=42)\n    \n    cluster_labels = kmeans.fit_predict(embedding)\n    labels_year = [int(s.split('_')[1].split('.')[0]) for s in filenames]\n    \n    df_emb = pd.DataFrame(data=np.array([labels_year, cluster_labels]).T,\n                          columns=['Year', 'Cluster'])\n    df_emb = df_emb.sort_values('Year')\n    \n    return df_emb",
      "outputs": []
    },
    {
      "id": "00d75416-81d3-455c-92bc-8f0167819b8b",
      "cell_type": "code",
      "metadata": {
        "jupyter": {
          "outputs_hidden": false,
          "source_hidden": false
        },
        "noteable": {
          "cell_type": "code",
          "output_collection_id": "6fb15251-8eb0-44c6-ac31-08b43a129004"
        },
        "ExecuteTime": {
          "end_time": "2023-11-29T20:22:43.707061+00:00",
          "start_time": "2023-11-29T20:22:43.457531+00:00"
        },
        "datalink": {
          "6a6c7e06-d4ff-4aff-96df-5c56e6c76b71": {
            "applied_filters": [],
            "dataframe_info": {
              "default_index_used": true,
              "orig_num_cols": 2,
              "orig_num_rows": 229,
              "orig_size_bytes": 5496,
              "truncated_num_cols": 2,
              "truncated_num_rows": 229,
              "truncated_size_bytes": 5496,
              "truncated_string_columns": []
            },
            "display_id": "6a6c7e06-d4ff-4aff-96df-5c56e6c76b71",
            "dx_settings": {
              "ALLOW_NOTEABLE_ATTRS": true,
              "COLUMN_SAMPLING_METHOD": "outer",
              "DB_LOCATION": ":memory:",
              "DEV_MODE": false,
              "DISPLAY_MAX_COLUMNS": 100,
              "DISPLAY_MAX_ROWS": 50000,
              "DISPLAY_MODE": "simple",
              "ENABLE_ASSIGNMENT": true,
              "ENABLE_DATALINK": true,
              "FLATTEN_COLUMN_VALUES": true,
              "FLATTEN_INDEX_VALUES": false,
              "GENERATE_DEX_METADATA": false,
              "HTML_TABLE_SCHEMA": false,
              "LOG_LEVEL": 30,
              "MAX_RENDER_SIZE_BYTES": 104857600,
              "MAX_STRING_LENGTH": 250,
              "NUM_PAST_SAMPLES_TRACKED": 3,
              "RANDOM_STATE": 12648430,
              "RESET_INDEX_VALUES": false,
              "ROW_SAMPLING_METHOD": "random",
              "SAMPLING_FACTOR": 0.1,
              "SAMPLING_METHOD": "random",
              "STRINGIFY_COLUMN_VALUES": true,
              "STRINGIFY_INDEX_VALUES": false
            },
            "sample_history": [],
            "sampling_time": "2023-11-24T22:00:50.584021",
            "user_variable_name": "df_ripple_umap",
            "variable_name": "df_ripple_umap"
          },
          "fa9fadf7-34db-4511-bdeb-42c9713bcbe7": {
            "applied_filters": [],
            "dataframe_info": {
              "default_index_used": true,
              "orig_num_cols": 2,
              "orig_num_rows": 229,
              "orig_size_bytes": 5496,
              "truncated_num_cols": 2,
              "truncated_num_rows": 229,
              "truncated_size_bytes": 5496,
              "truncated_string_columns": []
            },
            "display_id": "fa9fadf7-34db-4511-bdeb-42c9713bcbe7",
            "dx_settings": {
              "ALLOW_NOTEABLE_ATTRS": true,
              "COLUMN_SAMPLING_METHOD": "outer",
              "DB_LOCATION": ":memory:",
              "DEV_MODE": false,
              "DISPLAY_MAX_COLUMNS": 100,
              "DISPLAY_MAX_ROWS": 50000,
              "DISPLAY_MODE": "simple",
              "ENABLE_ASSIGNMENT": true,
              "ENABLE_DATALINK": true,
              "FLATTEN_COLUMN_VALUES": true,
              "FLATTEN_INDEX_VALUES": false,
              "GENERATE_DEX_METADATA": false,
              "HTML_TABLE_SCHEMA": false,
              "LOG_LEVEL": 30,
              "MAX_RENDER_SIZE_BYTES": 104857600,
              "MAX_STRING_LENGTH": 250,
              "NUM_PAST_SAMPLES_TRACKED": 3,
              "RANDOM_STATE": 12648430,
              "RESET_INDEX_VALUES": false,
              "ROW_SAMPLING_METHOD": "random",
              "SAMPLING_FACTOR": 0.1,
              "SAMPLING_METHOD": "random",
              "STRINGIFY_COLUMN_VALUES": true,
              "STRINGIFY_INDEX_VALUES": false
            },
            "sample_history": [],
            "sampling_time": "2023-11-27T18:16:27.769464",
            "user_variable_name": "df_ripple_umap",
            "variable_name": "df_ripple_umap"
          },
          "608f4e5a-5e3c-4b3a-a450-136727189de4": {
            "applied_filters": [],
            "dataframe_info": {
              "default_index_used": true,
              "orig_num_cols": 2,
              "orig_num_rows": 229,
              "orig_size_bytes": 5496,
              "truncated_num_cols": 2,
              "truncated_num_rows": 229,
              "truncated_size_bytes": 5496,
              "truncated_string_columns": []
            },
            "display_id": "608f4e5a-5e3c-4b3a-a450-136727189de4",
            "dx_settings": {
              "ALLOW_NOTEABLE_ATTRS": true,
              "COLUMN_SAMPLING_METHOD": "outer",
              "DB_LOCATION": ":memory:",
              "DEV_MODE": false,
              "DISPLAY_MAX_COLUMNS": 100,
              "DISPLAY_MAX_ROWS": 50000,
              "DISPLAY_MODE": "simple",
              "ENABLE_ASSIGNMENT": true,
              "ENABLE_DATALINK": true,
              "FLATTEN_COLUMN_VALUES": true,
              "FLATTEN_INDEX_VALUES": false,
              "GENERATE_DEX_METADATA": false,
              "HTML_TABLE_SCHEMA": false,
              "LOG_LEVEL": 30,
              "MAX_RENDER_SIZE_BYTES": 104857600,
              "MAX_STRING_LENGTH": 250,
              "NUM_PAST_SAMPLES_TRACKED": 3,
              "RANDOM_STATE": 12648430,
              "RESET_INDEX_VALUES": false,
              "ROW_SAMPLING_METHOD": "random",
              "SAMPLING_FACTOR": 0.1,
              "SAMPLING_METHOD": "random",
              "STRINGIFY_COLUMN_VALUES": true,
              "STRINGIFY_INDEX_VALUES": false
            },
            "sample_history": [],
            "sampling_time": "2023-11-27T18:40:26.218083",
            "user_variable_name": "df_ripple_umap",
            "variable_name": "df_ripple_umap"
          },
          "bf190171-6849-4cf7-8261-b881e76a959e": {
            "applied_filters": [],
            "dataframe_info": {
              "default_index_used": true,
              "orig_num_cols": 2,
              "orig_num_rows": 229,
              "orig_size_bytes": 5496,
              "truncated_num_cols": 2,
              "truncated_num_rows": 229,
              "truncated_size_bytes": 5496,
              "truncated_string_columns": []
            },
            "display_id": "bf190171-6849-4cf7-8261-b881e76a959e",
            "dx_settings": {
              "ALLOW_NOTEABLE_ATTRS": true,
              "COLUMN_SAMPLING_METHOD": "outer",
              "DB_LOCATION": ":memory:",
              "DEV_MODE": false,
              "DISPLAY_MAX_COLUMNS": 100,
              "DISPLAY_MAX_ROWS": 50000,
              "DISPLAY_MODE": "simple",
              "ENABLE_ASSIGNMENT": true,
              "ENABLE_DATALINK": true,
              "FLATTEN_COLUMN_VALUES": true,
              "FLATTEN_INDEX_VALUES": false,
              "GENERATE_DEX_METADATA": false,
              "HTML_TABLE_SCHEMA": false,
              "LOG_LEVEL": 30,
              "MAX_RENDER_SIZE_BYTES": 104857600,
              "MAX_STRING_LENGTH": 250,
              "NUM_PAST_SAMPLES_TRACKED": 3,
              "RANDOM_STATE": 12648430,
              "RESET_INDEX_VALUES": false,
              "ROW_SAMPLING_METHOD": "random",
              "SAMPLING_FACTOR": 0.1,
              "SAMPLING_METHOD": "random",
              "STRINGIFY_COLUMN_VALUES": true,
              "STRINGIFY_INDEX_VALUES": false
            },
            "sample_history": [],
            "sampling_time": "2023-11-27T19:22:28.226553",
            "user_variable_name": "df_ripple_umap",
            "variable_name": "df_ripple_umap"
          },
          "af0a52df-4fac-4174-a054-63059a0a0341": {
            "applied_filters": [],
            "dataframe_info": {
              "default_index_used": true,
              "orig_num_cols": 2,
              "orig_num_rows": 229,
              "orig_size_bytes": 5496,
              "truncated_num_cols": 2,
              "truncated_num_rows": 229,
              "truncated_size_bytes": 5496,
              "truncated_string_columns": []
            },
            "display_id": "af0a52df-4fac-4174-a054-63059a0a0341",
            "dx_settings": {
              "ALLOW_NOTEABLE_ATTRS": true,
              "COLUMN_SAMPLING_METHOD": "outer",
              "DB_LOCATION": ":memory:",
              "DEV_MODE": false,
              "DISPLAY_MAX_COLUMNS": 100,
              "DISPLAY_MAX_ROWS": 50000,
              "DISPLAY_MODE": "simple",
              "ENABLE_ASSIGNMENT": true,
              "ENABLE_DATALINK": true,
              "FLATTEN_COLUMN_VALUES": true,
              "FLATTEN_INDEX_VALUES": false,
              "GENERATE_DEX_METADATA": false,
              "HTML_TABLE_SCHEMA": false,
              "LOG_LEVEL": 30,
              "MAX_RENDER_SIZE_BYTES": 104857600,
              "MAX_STRING_LENGTH": 250,
              "NUM_PAST_SAMPLES_TRACKED": 3,
              "RANDOM_STATE": 12648430,
              "RESET_INDEX_VALUES": false,
              "ROW_SAMPLING_METHOD": "random",
              "SAMPLING_FACTOR": 0.1,
              "SAMPLING_METHOD": "random",
              "STRINGIFY_COLUMN_VALUES": true,
              "STRINGIFY_INDEX_VALUES": false
            },
            "sample_history": [],
            "sampling_time": "2023-11-28T10:10:59.519915",
            "user_variable_name": "df_ripple_umap",
            "variable_name": "df_ripple_umap"
          },
          "04322c4f-b7b4-407f-94d2-ba4c54d8d1b8": {
            "applied_filters": [],
            "dataframe_info": {
              "default_index_used": true,
              "orig_num_cols": 2,
              "orig_num_rows": 229,
              "orig_size_bytes": 5496,
              "truncated_num_cols": 2,
              "truncated_num_rows": 229,
              "truncated_size_bytes": 5496,
              "truncated_string_columns": []
            },
            "display_id": "04322c4f-b7b4-407f-94d2-ba4c54d8d1b8",
            "dx_settings": {
              "ALLOW_NOTEABLE_ATTRS": true,
              "COLUMN_SAMPLING_METHOD": "outer",
              "DB_LOCATION": ":memory:",
              "DEV_MODE": false,
              "DISPLAY_MAX_COLUMNS": 100,
              "DISPLAY_MAX_ROWS": 50000,
              "DISPLAY_MODE": "simple",
              "ENABLE_ASSIGNMENT": true,
              "ENABLE_DATALINK": true,
              "FLATTEN_COLUMN_VALUES": true,
              "FLATTEN_INDEX_VALUES": false,
              "GENERATE_DEX_METADATA": false,
              "HTML_TABLE_SCHEMA": false,
              "LOG_LEVEL": 30,
              "MAX_RENDER_SIZE_BYTES": 104857600,
              "MAX_STRING_LENGTH": 250,
              "NUM_PAST_SAMPLES_TRACKED": 3,
              "RANDOM_STATE": 12648430,
              "RESET_INDEX_VALUES": false,
              "ROW_SAMPLING_METHOD": "random",
              "SAMPLING_FACTOR": 0.1,
              "SAMPLING_METHOD": "random",
              "STRINGIFY_COLUMN_VALUES": true,
              "STRINGIFY_INDEX_VALUES": false
            },
            "sample_history": [],
            "sampling_time": "2023-11-29T18:24:58.520932",
            "user_variable_name": "df_ripple_umap",
            "variable_name": "df_ripple_umap"
          },
          "0c546acd-b4a6-4ab1-a0e1-94938d2e298f": {
            "applied_filters": [],
            "dataframe_info": {
              "default_index_used": true,
              "orig_num_cols": 2,
              "orig_num_rows": 229,
              "orig_size_bytes": 5496,
              "truncated_num_cols": 2,
              "truncated_num_rows": 229,
              "truncated_size_bytes": 5496,
              "truncated_string_columns": []
            },
            "display_id": "0c546acd-b4a6-4ab1-a0e1-94938d2e298f",
            "dx_settings": {
              "ALLOW_NOTEABLE_ATTRS": true,
              "COLUMN_SAMPLING_METHOD": "outer",
              "DB_LOCATION": ":memory:",
              "DEV_MODE": false,
              "DISPLAY_MAX_COLUMNS": 100,
              "DISPLAY_MAX_ROWS": 50000,
              "DISPLAY_MODE": "simple",
              "ENABLE_ASSIGNMENT": true,
              "ENABLE_DATALINK": true,
              "FLATTEN_COLUMN_VALUES": true,
              "FLATTEN_INDEX_VALUES": false,
              "GENERATE_DEX_METADATA": false,
              "HTML_TABLE_SCHEMA": false,
              "LOG_LEVEL": 30,
              "MAX_RENDER_SIZE_BYTES": 104857600,
              "MAX_STRING_LENGTH": 250,
              "NUM_PAST_SAMPLES_TRACKED": 3,
              "RANDOM_STATE": 12648430,
              "RESET_INDEX_VALUES": false,
              "ROW_SAMPLING_METHOD": "random",
              "SAMPLING_FACTOR": 0.1,
              "SAMPLING_METHOD": "random",
              "STRINGIFY_COLUMN_VALUES": true,
              "STRINGIFY_INDEX_VALUES": false
            },
            "sample_history": [],
            "sampling_time": "2023-11-29T19:53:51.684209",
            "user_variable_name": "df_ripple_umap",
            "variable_name": "df_ripple_umap"
          },
          "41db343f-9cb3-47a4-a7ce-123578072a70": {
            "applied_filters": [],
            "dataframe_info": {
              "default_index_used": true,
              "orig_num_cols": 2,
              "orig_num_rows": 229,
              "orig_size_bytes": 5496,
              "truncated_num_cols": 2,
              "truncated_num_rows": 229,
              "truncated_size_bytes": 5496,
              "truncated_string_columns": []
            },
            "display_id": "41db343f-9cb3-47a4-a7ce-123578072a70",
            "dx_settings": {
              "ALLOW_NOTEABLE_ATTRS": true,
              "COLUMN_SAMPLING_METHOD": "outer",
              "DB_LOCATION": ":memory:",
              "DEV_MODE": false,
              "DISPLAY_MAX_COLUMNS": 100,
              "DISPLAY_MAX_ROWS": 50000,
              "DISPLAY_MODE": "simple",
              "ENABLE_ASSIGNMENT": true,
              "ENABLE_DATALINK": true,
              "FLATTEN_COLUMN_VALUES": true,
              "FLATTEN_INDEX_VALUES": false,
              "GENERATE_DEX_METADATA": false,
              "HTML_TABLE_SCHEMA": false,
              "LOG_LEVEL": 30,
              "MAX_RENDER_SIZE_BYTES": 104857600,
              "MAX_STRING_LENGTH": 250,
              "NUM_PAST_SAMPLES_TRACKED": 3,
              "RANDOM_STATE": 12648430,
              "RESET_INDEX_VALUES": false,
              "ROW_SAMPLING_METHOD": "random",
              "SAMPLING_FACTOR": 0.1,
              "SAMPLING_METHOD": "random",
              "STRINGIFY_COLUMN_VALUES": true,
              "STRINGIFY_INDEX_VALUES": false
            },
            "sample_history": [],
            "sampling_time": "2023-11-29T20:22:43.547472",
            "user_variable_name": "df_ripple_umap",
            "variable_name": "df_ripple_umap"
          }
        }
      },
      "execution_count": null,
      "source": "df_ripple_umap = df_clustering(umap_3_embedding)\ndf_ripple_umap",
      "outputs": []
    },
    {
      "id": "c007f692-8dfd-4b3f-8413-19095243b37f",
      "cell_type": "code",
      "metadata": {
        "jupyter": {
          "outputs_hidden": false,
          "source_hidden": false
        },
        "noteable": {
          "cell_type": "code",
          "output_collection_id": "b2b89a8f-2a58-4aed-b78a-2360e95629cf"
        },
        "ExecuteTime": {
          "end_time": "2023-11-29T19:53:52.658338+00:00",
          "start_time": "2023-11-29T19:53:51.909532+00:00"
        }
      },
      "execution_count": null,
      "source": "#\n# Clusters in TriMAP 3D embedding\n#\nplot_clustering_diagram(trimap_3_embedding)",
      "outputs": []
    },
    {
      "id": "f24bc471-5337-4c8c-88da-bf3d84338b4f",
      "cell_type": "code",
      "metadata": {
        "jupyter": {
          "outputs_hidden": false,
          "source_hidden": false
        },
        "noteable": {
          "cell_type": "code",
          "output_collection_id": "22785a43-a8b4-4114-bc41-9d162ea41e21"
        },
        "ExecuteTime": {
          "end_time": "2023-11-29T19:54:00.172898+00:00",
          "start_time": "2023-11-29T19:53:59.938054+00:00"
        },
        "datalink": {
          "603b89cd-021f-4773-8c82-e22190f41a0e": {
            "applied_filters": [],
            "dataframe_info": {
              "default_index_used": true,
              "orig_num_cols": 2,
              "orig_num_rows": 229,
              "orig_size_bytes": 5496,
              "truncated_num_cols": 2,
              "truncated_num_rows": 229,
              "truncated_size_bytes": 5496,
              "truncated_string_columns": []
            },
            "display_id": "603b89cd-021f-4773-8c82-e22190f41a0e",
            "dx_settings": {
              "ALLOW_NOTEABLE_ATTRS": true,
              "COLUMN_SAMPLING_METHOD": "outer",
              "DB_LOCATION": ":memory:",
              "DEV_MODE": false,
              "DISPLAY_MAX_COLUMNS": 100,
              "DISPLAY_MAX_ROWS": 50000,
              "DISPLAY_MODE": "simple",
              "ENABLE_ASSIGNMENT": true,
              "ENABLE_DATALINK": true,
              "FLATTEN_COLUMN_VALUES": true,
              "FLATTEN_INDEX_VALUES": false,
              "GENERATE_DEX_METADATA": false,
              "HTML_TABLE_SCHEMA": false,
              "LOG_LEVEL": 30,
              "MAX_RENDER_SIZE_BYTES": 104857600,
              "MAX_STRING_LENGTH": 250,
              "NUM_PAST_SAMPLES_TRACKED": 3,
              "RANDOM_STATE": 12648430,
              "RESET_INDEX_VALUES": false,
              "ROW_SAMPLING_METHOD": "random",
              "SAMPLING_FACTOR": 0.1,
              "SAMPLING_METHOD": "random",
              "STRINGIFY_COLUMN_VALUES": true,
              "STRINGIFY_INDEX_VALUES": false
            },
            "sample_history": [],
            "sampling_time": "2023-11-24T22:03:03.811958",
            "user_variable_name": "df_ripple_trimap",
            "variable_name": "df_ripple_trimap"
          },
          "8124ef92-72ad-4815-b04c-79f458cf0876": {
            "applied_filters": [],
            "dataframe_info": {
              "default_index_used": true,
              "orig_num_cols": 2,
              "orig_num_rows": 229,
              "orig_size_bytes": 5496,
              "truncated_num_cols": 2,
              "truncated_num_rows": 229,
              "truncated_size_bytes": 5496,
              "truncated_string_columns": []
            },
            "display_id": "8124ef92-72ad-4815-b04c-79f458cf0876",
            "dx_settings": {
              "ALLOW_NOTEABLE_ATTRS": true,
              "COLUMN_SAMPLING_METHOD": "outer",
              "DB_LOCATION": ":memory:",
              "DEV_MODE": false,
              "DISPLAY_MAX_COLUMNS": 100,
              "DISPLAY_MAX_ROWS": 50000,
              "DISPLAY_MODE": "simple",
              "ENABLE_ASSIGNMENT": true,
              "ENABLE_DATALINK": true,
              "FLATTEN_COLUMN_VALUES": true,
              "FLATTEN_INDEX_VALUES": false,
              "GENERATE_DEX_METADATA": false,
              "HTML_TABLE_SCHEMA": false,
              "LOG_LEVEL": 30,
              "MAX_RENDER_SIZE_BYTES": 104857600,
              "MAX_STRING_LENGTH": 250,
              "NUM_PAST_SAMPLES_TRACKED": 3,
              "RANDOM_STATE": 12648430,
              "RESET_INDEX_VALUES": false,
              "ROW_SAMPLING_METHOD": "random",
              "SAMPLING_FACTOR": 0.1,
              "SAMPLING_METHOD": "random",
              "STRINGIFY_COLUMN_VALUES": true,
              "STRINGIFY_INDEX_VALUES": false
            },
            "sample_history": [],
            "sampling_time": "2023-11-27T18:16:31.066281",
            "user_variable_name": "df_ripple_umap",
            "variable_name": "df_ripple_umap"
          },
          "b5588244-b927-42dd-9b8d-471ffc60ef35": {
            "applied_filters": [],
            "dataframe_info": {
              "default_index_used": true,
              "orig_num_cols": 2,
              "orig_num_rows": 229,
              "orig_size_bytes": 5496,
              "truncated_num_cols": 2,
              "truncated_num_rows": 229,
              "truncated_size_bytes": 5496,
              "truncated_string_columns": []
            },
            "display_id": "b5588244-b927-42dd-9b8d-471ffc60ef35",
            "dx_settings": {
              "ALLOW_NOTEABLE_ATTRS": true,
              "COLUMN_SAMPLING_METHOD": "outer",
              "DB_LOCATION": ":memory:",
              "DEV_MODE": false,
              "DISPLAY_MAX_COLUMNS": 100,
              "DISPLAY_MAX_ROWS": 50000,
              "DISPLAY_MODE": "simple",
              "ENABLE_ASSIGNMENT": true,
              "ENABLE_DATALINK": true,
              "FLATTEN_COLUMN_VALUES": true,
              "FLATTEN_INDEX_VALUES": false,
              "GENERATE_DEX_METADATA": false,
              "HTML_TABLE_SCHEMA": false,
              "LOG_LEVEL": 30,
              "MAX_RENDER_SIZE_BYTES": 104857600,
              "MAX_STRING_LENGTH": 250,
              "NUM_PAST_SAMPLES_TRACKED": 3,
              "RANDOM_STATE": 12648430,
              "RESET_INDEX_VALUES": false,
              "ROW_SAMPLING_METHOD": "random",
              "SAMPLING_FACTOR": 0.1,
              "SAMPLING_METHOD": "random",
              "STRINGIFY_COLUMN_VALUES": true,
              "STRINGIFY_INDEX_VALUES": false
            },
            "sample_history": [],
            "sampling_time": "2023-11-27T18:40:30.980706",
            "user_variable_name": "df_ripple_trimap",
            "variable_name": "df_ripple_trimap"
          },
          "9f056684-ca99-4736-a59a-7da469e59444": {
            "applied_filters": [],
            "dataframe_info": {
              "default_index_used": true,
              "orig_num_cols": 2,
              "orig_num_rows": 229,
              "orig_size_bytes": 5496,
              "truncated_num_cols": 2,
              "truncated_num_rows": 229,
              "truncated_size_bytes": 5496,
              "truncated_string_columns": []
            },
            "display_id": "9f056684-ca99-4736-a59a-7da469e59444",
            "dx_settings": {
              "ALLOW_NOTEABLE_ATTRS": true,
              "COLUMN_SAMPLING_METHOD": "outer",
              "DB_LOCATION": ":memory:",
              "DEV_MODE": false,
              "DISPLAY_MAX_COLUMNS": 100,
              "DISPLAY_MAX_ROWS": 50000,
              "DISPLAY_MODE": "simple",
              "ENABLE_ASSIGNMENT": true,
              "ENABLE_DATALINK": true,
              "FLATTEN_COLUMN_VALUES": true,
              "FLATTEN_INDEX_VALUES": false,
              "GENERATE_DEX_METADATA": false,
              "HTML_TABLE_SCHEMA": false,
              "LOG_LEVEL": 30,
              "MAX_RENDER_SIZE_BYTES": 104857600,
              "MAX_STRING_LENGTH": 250,
              "NUM_PAST_SAMPLES_TRACKED": 3,
              "RANDOM_STATE": 12648430,
              "RESET_INDEX_VALUES": false,
              "ROW_SAMPLING_METHOD": "random",
              "SAMPLING_FACTOR": 0.1,
              "SAMPLING_METHOD": "random",
              "STRINGIFY_COLUMN_VALUES": true,
              "STRINGIFY_INDEX_VALUES": false
            },
            "sample_history": [],
            "sampling_time": "2023-11-27T19:22:30.830744",
            "user_variable_name": "df_ripple_trimap",
            "variable_name": "df_ripple_trimap"
          },
          "4f2d0129-ec7b-4a08-b833-e874d9fe143c": {
            "applied_filters": [],
            "dataframe_info": {
              "default_index_used": true,
              "orig_num_cols": 2,
              "orig_num_rows": 229,
              "orig_size_bytes": 5496,
              "truncated_num_cols": 2,
              "truncated_num_rows": 229,
              "truncated_size_bytes": 5496,
              "truncated_string_columns": []
            },
            "display_id": "4f2d0129-ec7b-4a08-b833-e874d9fe143c",
            "dx_settings": {
              "ALLOW_NOTEABLE_ATTRS": true,
              "COLUMN_SAMPLING_METHOD": "outer",
              "DB_LOCATION": ":memory:",
              "DEV_MODE": false,
              "DISPLAY_MAX_COLUMNS": 100,
              "DISPLAY_MAX_ROWS": 50000,
              "DISPLAY_MODE": "simple",
              "ENABLE_ASSIGNMENT": true,
              "ENABLE_DATALINK": true,
              "FLATTEN_COLUMN_VALUES": true,
              "FLATTEN_INDEX_VALUES": false,
              "GENERATE_DEX_METADATA": false,
              "HTML_TABLE_SCHEMA": false,
              "LOG_LEVEL": 30,
              "MAX_RENDER_SIZE_BYTES": 104857600,
              "MAX_STRING_LENGTH": 250,
              "NUM_PAST_SAMPLES_TRACKED": 3,
              "RANDOM_STATE": 12648430,
              "RESET_INDEX_VALUES": false,
              "ROW_SAMPLING_METHOD": "random",
              "SAMPLING_FACTOR": 0.1,
              "SAMPLING_METHOD": "random",
              "STRINGIFY_COLUMN_VALUES": true,
              "STRINGIFY_INDEX_VALUES": false
            },
            "sample_history": [],
            "sampling_time": "2023-11-28T10:11:01.762839",
            "user_variable_name": "df_ripple_trimap",
            "variable_name": "df_ripple_trimap"
          },
          "9bc200fc-b4d5-4536-9923-44c344bfb68f": {
            "applied_filters": [],
            "dataframe_info": {
              "default_index_used": true,
              "orig_num_cols": 2,
              "orig_num_rows": 229,
              "orig_size_bytes": 5496,
              "truncated_num_cols": 2,
              "truncated_num_rows": 229,
              "truncated_size_bytes": 5496,
              "truncated_string_columns": []
            },
            "display_id": "9bc200fc-b4d5-4536-9923-44c344bfb68f",
            "dx_settings": {
              "ALLOW_NOTEABLE_ATTRS": true,
              "COLUMN_SAMPLING_METHOD": "outer",
              "DB_LOCATION": ":memory:",
              "DEV_MODE": false,
              "DISPLAY_MAX_COLUMNS": 100,
              "DISPLAY_MAX_ROWS": 50000,
              "DISPLAY_MODE": "simple",
              "ENABLE_ASSIGNMENT": true,
              "ENABLE_DATALINK": true,
              "FLATTEN_COLUMN_VALUES": true,
              "FLATTEN_INDEX_VALUES": false,
              "GENERATE_DEX_METADATA": false,
              "HTML_TABLE_SCHEMA": false,
              "LOG_LEVEL": 30,
              "MAX_RENDER_SIZE_BYTES": 104857600,
              "MAX_STRING_LENGTH": 250,
              "NUM_PAST_SAMPLES_TRACKED": 3,
              "RANDOM_STATE": 12648430,
              "RESET_INDEX_VALUES": false,
              "ROW_SAMPLING_METHOD": "random",
              "SAMPLING_FACTOR": 0.1,
              "SAMPLING_METHOD": "random",
              "STRINGIFY_COLUMN_VALUES": true,
              "STRINGIFY_INDEX_VALUES": false
            },
            "sample_history": [],
            "sampling_time": "2023-11-29T18:25:09.870212",
            "user_variable_name": "df_ripple_trimap",
            "variable_name": "df_ripple_trimap"
          },
          "f2f1fec9-ad26-46e5-af2c-cca926bb280d": {
            "applied_filters": [],
            "dataframe_info": {
              "default_index_used": true,
              "orig_num_cols": 2,
              "orig_num_rows": 229,
              "orig_size_bytes": 5496,
              "truncated_num_cols": 2,
              "truncated_num_rows": 229,
              "truncated_size_bytes": 5496,
              "truncated_string_columns": []
            },
            "display_id": "f2f1fec9-ad26-46e5-af2c-cca926bb280d",
            "dx_settings": {
              "ALLOW_NOTEABLE_ATTRS": true,
              "COLUMN_SAMPLING_METHOD": "outer",
              "DB_LOCATION": ":memory:",
              "DEV_MODE": false,
              "DISPLAY_MAX_COLUMNS": 100,
              "DISPLAY_MAX_ROWS": 50000,
              "DISPLAY_MODE": "simple",
              "ENABLE_ASSIGNMENT": true,
              "ENABLE_DATALINK": true,
              "FLATTEN_COLUMN_VALUES": true,
              "FLATTEN_INDEX_VALUES": false,
              "GENERATE_DEX_METADATA": false,
              "HTML_TABLE_SCHEMA": false,
              "LOG_LEVEL": 30,
              "MAX_RENDER_SIZE_BYTES": 104857600,
              "MAX_STRING_LENGTH": 250,
              "NUM_PAST_SAMPLES_TRACKED": 3,
              "RANDOM_STATE": 12648430,
              "RESET_INDEX_VALUES": false,
              "ROW_SAMPLING_METHOD": "random",
              "SAMPLING_FACTOR": 0.1,
              "SAMPLING_METHOD": "random",
              "STRINGIFY_COLUMN_VALUES": true,
              "STRINGIFY_INDEX_VALUES": false
            },
            "sample_history": [],
            "sampling_time": "2023-11-29T19:54:00.013626",
            "user_variable_name": "df_ripple_umap",
            "variable_name": "df_ripple_umap"
          }
        }
      },
      "execution_count": null,
      "source": "df_ripple_trimap = df_clustering(trimap_3_embedding)\ndf_ripple_trimap",
      "outputs": []
    },
    {
      "id": "cad05a2c-8056-4b8d-aa90-fc58293b1084",
      "cell_type": "code",
      "metadata": {
        "jupyter": {
          "outputs_hidden": false,
          "source_hidden": false
        },
        "noteable": {
          "cell_type": "code",
          "output_collection_id": "f8a60ff9-6842-4dfd-b1fd-37c64f513577"
        },
        "ExecuteTime": {
          "end_time": "2023-11-29T19:54:00.910815+00:00",
          "start_time": "2023-11-29T19:54:00.178755+00:00"
        }
      },
      "execution_count": null,
      "source": "#\n# Clusters in PaCMAP 3D embedding\n#\nplot_clustering_diagram(pacmap_3_embedding)",
      "outputs": []
    },
    {
      "id": "a1c7fc0e-46e0-4def-a11a-0430225c6595",
      "cell_type": "code",
      "metadata": {
        "jupyter": {
          "outputs_hidden": false,
          "source_hidden": false
        },
        "noteable": {
          "cell_type": "code",
          "output_collection_id": "7bd18690-d624-4ba6-907a-ff2049ab5a0d"
        },
        "ExecuteTime": {
          "end_time": "2023-11-29T19:54:02.751982+00:00",
          "start_time": "2023-11-29T19:54:02.510740+00:00"
        },
        "datalink": {
          "34858775-bd09-4125-b5fc-d09e55b9707e": {
            "applied_filters": [],
            "dataframe_info": {
              "default_index_used": true,
              "orig_num_cols": 2,
              "orig_num_rows": 229,
              "orig_size_bytes": 5496,
              "truncated_num_cols": 2,
              "truncated_num_rows": 229,
              "truncated_size_bytes": 5496,
              "truncated_string_columns": []
            },
            "display_id": "34858775-bd09-4125-b5fc-d09e55b9707e",
            "dx_settings": {
              "ALLOW_NOTEABLE_ATTRS": true,
              "COLUMN_SAMPLING_METHOD": "outer",
              "DB_LOCATION": ":memory:",
              "DEV_MODE": false,
              "DISPLAY_MAX_COLUMNS": 100,
              "DISPLAY_MAX_ROWS": 50000,
              "DISPLAY_MODE": "simple",
              "ENABLE_ASSIGNMENT": true,
              "ENABLE_DATALINK": true,
              "FLATTEN_COLUMN_VALUES": true,
              "FLATTEN_INDEX_VALUES": false,
              "GENERATE_DEX_METADATA": false,
              "HTML_TABLE_SCHEMA": false,
              "LOG_LEVEL": 30,
              "MAX_RENDER_SIZE_BYTES": 104857600,
              "MAX_STRING_LENGTH": 250,
              "NUM_PAST_SAMPLES_TRACKED": 3,
              "RANDOM_STATE": 12648430,
              "RESET_INDEX_VALUES": false,
              "ROW_SAMPLING_METHOD": "random",
              "SAMPLING_FACTOR": 0.1,
              "SAMPLING_METHOD": "random",
              "STRINGIFY_COLUMN_VALUES": true,
              "STRINGIFY_INDEX_VALUES": false
            },
            "sample_history": [],
            "sampling_time": "2023-11-24T22:03:18.682139",
            "user_variable_name": "df_ripple_trimap",
            "variable_name": "df_ripple_trimap"
          },
          "ce5e0888-9199-4d00-a9d0-8a7f18e63908": {
            "applied_filters": [],
            "dataframe_info": {
              "default_index_used": true,
              "orig_num_cols": 2,
              "orig_num_rows": 229,
              "orig_size_bytes": 5496,
              "truncated_num_cols": 2,
              "truncated_num_rows": 229,
              "truncated_size_bytes": 5496,
              "truncated_string_columns": []
            },
            "display_id": "ce5e0888-9199-4d00-a9d0-8a7f18e63908",
            "dx_settings": {
              "ALLOW_NOTEABLE_ATTRS": true,
              "COLUMN_SAMPLING_METHOD": "outer",
              "DB_LOCATION": ":memory:",
              "DEV_MODE": false,
              "DISPLAY_MAX_COLUMNS": 100,
              "DISPLAY_MAX_ROWS": 50000,
              "DISPLAY_MODE": "simple",
              "ENABLE_ASSIGNMENT": true,
              "ENABLE_DATALINK": true,
              "FLATTEN_COLUMN_VALUES": true,
              "FLATTEN_INDEX_VALUES": false,
              "GENERATE_DEX_METADATA": false,
              "HTML_TABLE_SCHEMA": false,
              "LOG_LEVEL": 30,
              "MAX_RENDER_SIZE_BYTES": 104857600,
              "MAX_STRING_LENGTH": 250,
              "NUM_PAST_SAMPLES_TRACKED": 3,
              "RANDOM_STATE": 12648430,
              "RESET_INDEX_VALUES": false,
              "ROW_SAMPLING_METHOD": "random",
              "SAMPLING_FACTOR": 0.1,
              "SAMPLING_METHOD": "random",
              "STRINGIFY_COLUMN_VALUES": true,
              "STRINGIFY_INDEX_VALUES": false
            },
            "sample_history": [],
            "sampling_time": "2023-11-27T18:16:35.384985",
            "user_variable_name": "df_ripple_umap",
            "variable_name": "df_ripple_umap"
          },
          "1c8b2db0-0e2c-4811-bada-f4b608d0e2bf": {
            "applied_filters": [],
            "dataframe_info": {
              "default_index_used": true,
              "orig_num_cols": 2,
              "orig_num_rows": 229,
              "orig_size_bytes": 5496,
              "truncated_num_cols": 2,
              "truncated_num_rows": 229,
              "truncated_size_bytes": 5496,
              "truncated_string_columns": []
            },
            "display_id": "1c8b2db0-0e2c-4811-bada-f4b608d0e2bf",
            "dx_settings": {
              "ALLOW_NOTEABLE_ATTRS": true,
              "COLUMN_SAMPLING_METHOD": "outer",
              "DB_LOCATION": ":memory:",
              "DEV_MODE": false,
              "DISPLAY_MAX_COLUMNS": 100,
              "DISPLAY_MAX_ROWS": 50000,
              "DISPLAY_MODE": "simple",
              "ENABLE_ASSIGNMENT": true,
              "ENABLE_DATALINK": true,
              "FLATTEN_COLUMN_VALUES": true,
              "FLATTEN_INDEX_VALUES": false,
              "GENERATE_DEX_METADATA": false,
              "HTML_TABLE_SCHEMA": false,
              "LOG_LEVEL": 30,
              "MAX_RENDER_SIZE_BYTES": 104857600,
              "MAX_STRING_LENGTH": 250,
              "NUM_PAST_SAMPLES_TRACKED": 3,
              "RANDOM_STATE": 12648430,
              "RESET_INDEX_VALUES": false,
              "ROW_SAMPLING_METHOD": "random",
              "SAMPLING_FACTOR": 0.1,
              "SAMPLING_METHOD": "random",
              "STRINGIFY_COLUMN_VALUES": true,
              "STRINGIFY_INDEX_VALUES": false
            },
            "sample_history": [],
            "sampling_time": "2023-11-27T18:40:33.821909",
            "user_variable_name": "df_ripple_trimap",
            "variable_name": "df_ripple_trimap"
          },
          "ce092422-c95e-4c0c-b934-040cfbf139f7": {
            "applied_filters": [],
            "dataframe_info": {
              "default_index_used": true,
              "orig_num_cols": 2,
              "orig_num_rows": 229,
              "orig_size_bytes": 5496,
              "truncated_num_cols": 2,
              "truncated_num_rows": 229,
              "truncated_size_bytes": 5496,
              "truncated_string_columns": []
            },
            "display_id": "ce092422-c95e-4c0c-b934-040cfbf139f7",
            "dx_settings": {
              "ALLOW_NOTEABLE_ATTRS": true,
              "COLUMN_SAMPLING_METHOD": "outer",
              "DB_LOCATION": ":memory:",
              "DEV_MODE": false,
              "DISPLAY_MAX_COLUMNS": 100,
              "DISPLAY_MAX_ROWS": 50000,
              "DISPLAY_MODE": "simple",
              "ENABLE_ASSIGNMENT": true,
              "ENABLE_DATALINK": true,
              "FLATTEN_COLUMN_VALUES": true,
              "FLATTEN_INDEX_VALUES": false,
              "GENERATE_DEX_METADATA": false,
              "HTML_TABLE_SCHEMA": false,
              "LOG_LEVEL": 30,
              "MAX_RENDER_SIZE_BYTES": 104857600,
              "MAX_STRING_LENGTH": 250,
              "NUM_PAST_SAMPLES_TRACKED": 3,
              "RANDOM_STATE": 12648430,
              "RESET_INDEX_VALUES": false,
              "ROW_SAMPLING_METHOD": "random",
              "SAMPLING_FACTOR": 0.1,
              "SAMPLING_METHOD": "random",
              "STRINGIFY_COLUMN_VALUES": true,
              "STRINGIFY_INDEX_VALUES": false
            },
            "sample_history": [],
            "sampling_time": "2023-11-27T19:22:33.474154",
            "user_variable_name": "df_ripple_trimap",
            "variable_name": "df_ripple_trimap"
          },
          "45004391-9250-4aac-9c75-af793a9d0920": {
            "applied_filters": [],
            "dataframe_info": {
              "default_index_used": true,
              "orig_num_cols": 2,
              "orig_num_rows": 229,
              "orig_size_bytes": 5496,
              "truncated_num_cols": 2,
              "truncated_num_rows": 229,
              "truncated_size_bytes": 5496,
              "truncated_string_columns": []
            },
            "display_id": "45004391-9250-4aac-9c75-af793a9d0920",
            "dx_settings": {
              "ALLOW_NOTEABLE_ATTRS": true,
              "COLUMN_SAMPLING_METHOD": "outer",
              "DB_LOCATION": ":memory:",
              "DEV_MODE": false,
              "DISPLAY_MAX_COLUMNS": 100,
              "DISPLAY_MAX_ROWS": 50000,
              "DISPLAY_MODE": "simple",
              "ENABLE_ASSIGNMENT": true,
              "ENABLE_DATALINK": true,
              "FLATTEN_COLUMN_VALUES": true,
              "FLATTEN_INDEX_VALUES": false,
              "GENERATE_DEX_METADATA": false,
              "HTML_TABLE_SCHEMA": false,
              "LOG_LEVEL": 30,
              "MAX_RENDER_SIZE_BYTES": 104857600,
              "MAX_STRING_LENGTH": 250,
              "NUM_PAST_SAMPLES_TRACKED": 3,
              "RANDOM_STATE": 12648430,
              "RESET_INDEX_VALUES": false,
              "ROW_SAMPLING_METHOD": "random",
              "SAMPLING_FACTOR": 0.1,
              "SAMPLING_METHOD": "random",
              "STRINGIFY_COLUMN_VALUES": true,
              "STRINGIFY_INDEX_VALUES": false
            },
            "sample_history": [],
            "sampling_time": "2023-11-28T10:11:04.029715",
            "user_variable_name": "df_ripple_trimap",
            "variable_name": "df_ripple_trimap"
          },
          "69098b06-c7bf-4067-bf38-1124c3b01877": {
            "applied_filters": [],
            "dataframe_info": {
              "default_index_used": true,
              "orig_num_cols": 2,
              "orig_num_rows": 229,
              "orig_size_bytes": 5496,
              "truncated_num_cols": 2,
              "truncated_num_rows": 229,
              "truncated_size_bytes": 5496,
              "truncated_string_columns": []
            },
            "display_id": "69098b06-c7bf-4067-bf38-1124c3b01877",
            "dx_settings": {
              "ALLOW_NOTEABLE_ATTRS": true,
              "COLUMN_SAMPLING_METHOD": "outer",
              "DB_LOCATION": ":memory:",
              "DEV_MODE": false,
              "DISPLAY_MAX_COLUMNS": 100,
              "DISPLAY_MAX_ROWS": 50000,
              "DISPLAY_MODE": "simple",
              "ENABLE_ASSIGNMENT": true,
              "ENABLE_DATALINK": true,
              "FLATTEN_COLUMN_VALUES": true,
              "FLATTEN_INDEX_VALUES": false,
              "GENERATE_DEX_METADATA": false,
              "HTML_TABLE_SCHEMA": false,
              "LOG_LEVEL": 30,
              "MAX_RENDER_SIZE_BYTES": 104857600,
              "MAX_STRING_LENGTH": 250,
              "NUM_PAST_SAMPLES_TRACKED": 3,
              "RANDOM_STATE": 12648430,
              "RESET_INDEX_VALUES": false,
              "ROW_SAMPLING_METHOD": "random",
              "SAMPLING_FACTOR": 0.1,
              "SAMPLING_METHOD": "random",
              "STRINGIFY_COLUMN_VALUES": true,
              "STRINGIFY_INDEX_VALUES": false
            },
            "sample_history": [],
            "sampling_time": "2023-11-29T18:25:21.568718",
            "user_variable_name": "df_ripple_trimap",
            "variable_name": "df_ripple_trimap"
          },
          "8b385ac6-af3d-4547-afd9-34096a13b50a": {
            "applied_filters": [],
            "dataframe_info": {
              "default_index_used": true,
              "orig_num_cols": 2,
              "orig_num_rows": 229,
              "orig_size_bytes": 5496,
              "truncated_num_cols": 2,
              "truncated_num_rows": 229,
              "truncated_size_bytes": 5496,
              "truncated_string_columns": []
            },
            "display_id": "8b385ac6-af3d-4547-afd9-34096a13b50a",
            "dx_settings": {
              "ALLOW_NOTEABLE_ATTRS": true,
              "COLUMN_SAMPLING_METHOD": "outer",
              "DB_LOCATION": ":memory:",
              "DEV_MODE": false,
              "DISPLAY_MAX_COLUMNS": 100,
              "DISPLAY_MAX_ROWS": 50000,
              "DISPLAY_MODE": "simple",
              "ENABLE_ASSIGNMENT": true,
              "ENABLE_DATALINK": true,
              "FLATTEN_COLUMN_VALUES": true,
              "FLATTEN_INDEX_VALUES": false,
              "GENERATE_DEX_METADATA": false,
              "HTML_TABLE_SCHEMA": false,
              "LOG_LEVEL": 30,
              "MAX_RENDER_SIZE_BYTES": 104857600,
              "MAX_STRING_LENGTH": 250,
              "NUM_PAST_SAMPLES_TRACKED": 3,
              "RANDOM_STATE": 12648430,
              "RESET_INDEX_VALUES": false,
              "ROW_SAMPLING_METHOD": "random",
              "SAMPLING_FACTOR": 0.1,
              "SAMPLING_METHOD": "random",
              "STRINGIFY_COLUMN_VALUES": true,
              "STRINGIFY_INDEX_VALUES": false
            },
            "sample_history": [],
            "sampling_time": "2023-11-29T19:54:02.591940",
            "user_variable_name": "df_ripple_umap",
            "variable_name": "df_ripple_umap"
          }
        }
      },
      "execution_count": null,
      "source": "df_ripple_pacmap = df_clustering(pacmap_3_embedding)\ndf_ripple_pacmap",
      "outputs": []
    },
    {
      "id": "00f428b5-3231-41b8-85d7-ef3dd6e25fe3",
      "cell_type": "code",
      "metadata": {
        "jupyter": {
          "outputs_hidden": false,
          "source_hidden": false
        },
        "noteable": {
          "cell_type": "code",
          "output_collection_id": "7e465640-e03c-4dd0-b75d-5b8d0aaade4b"
        },
        "ExecuteTime": {
          "end_time": "2023-11-29T19:54:05.049722+00:00",
          "start_time": "2023-11-29T19:54:02.810554+00:00"
        }
      },
      "execution_count": null,
      "source": "#\n# Clusters in the initial GPT2 embedding\n#\nplot_clustering_diagram(gpt2_embedding)",
      "outputs": []
    },
    {
      "id": "81d4cd2f-c652-4e7d-89c6-3cfe54b5fedb",
      "cell_type": "code",
      "metadata": {
        "jupyter": {
          "outputs_hidden": false,
          "source_hidden": false
        },
        "noteable": {
          "cell_type": "code",
          "output_collection_id": "a5a06c47-94fb-4620-80a6-9a401c167742"
        },
        "ExecuteTime": {
          "end_time": "2023-11-29T19:54:12.341881+00:00",
          "start_time": "2023-11-29T19:54:11.149532+00:00"
        },
        "datalink": {
          "670df71e-8976-401a-bb36-098174417437": {
            "applied_filters": [],
            "dataframe_info": {
              "default_index_used": true,
              "orig_num_cols": 2,
              "orig_num_rows": 229,
              "orig_size_bytes": 5496,
              "truncated_num_cols": 2,
              "truncated_num_rows": 229,
              "truncated_size_bytes": 5496,
              "truncated_string_columns": []
            },
            "display_id": "670df71e-8976-401a-bb36-098174417437",
            "dx_settings": {
              "ALLOW_NOTEABLE_ATTRS": true,
              "COLUMN_SAMPLING_METHOD": "outer",
              "DB_LOCATION": ":memory:",
              "DEV_MODE": false,
              "DISPLAY_MAX_COLUMNS": 100,
              "DISPLAY_MAX_ROWS": 50000,
              "DISPLAY_MODE": "simple",
              "ENABLE_ASSIGNMENT": true,
              "ENABLE_DATALINK": true,
              "FLATTEN_COLUMN_VALUES": true,
              "FLATTEN_INDEX_VALUES": false,
              "GENERATE_DEX_METADATA": false,
              "HTML_TABLE_SCHEMA": false,
              "LOG_LEVEL": 30,
              "MAX_RENDER_SIZE_BYTES": 104857600,
              "MAX_STRING_LENGTH": 250,
              "NUM_PAST_SAMPLES_TRACKED": 3,
              "RANDOM_STATE": 12648430,
              "RESET_INDEX_VALUES": false,
              "ROW_SAMPLING_METHOD": "random",
              "SAMPLING_FACTOR": 0.1,
              "SAMPLING_METHOD": "random",
              "STRINGIFY_COLUMN_VALUES": true,
              "STRINGIFY_INDEX_VALUES": false
            },
            "sample_history": [],
            "sampling_time": "2023-11-24T22:03:58.733506",
            "user_variable_name": "df_ripple_gpt2",
            "variable_name": "df_ripple_gpt2"
          },
          "204d8da5-f58b-4e1c-926e-12fa7c877d7a": {
            "applied_filters": [],
            "dataframe_info": {
              "default_index_used": true,
              "orig_num_cols": 2,
              "orig_num_rows": 229,
              "orig_size_bytes": 5496,
              "truncated_num_cols": 2,
              "truncated_num_rows": 229,
              "truncated_size_bytes": 5496,
              "truncated_string_columns": []
            },
            "display_id": "204d8da5-f58b-4e1c-926e-12fa7c877d7a",
            "dx_settings": {
              "ALLOW_NOTEABLE_ATTRS": true,
              "COLUMN_SAMPLING_METHOD": "outer",
              "DB_LOCATION": ":memory:",
              "DEV_MODE": false,
              "DISPLAY_MAX_COLUMNS": 100,
              "DISPLAY_MAX_ROWS": 50000,
              "DISPLAY_MODE": "simple",
              "ENABLE_ASSIGNMENT": true,
              "ENABLE_DATALINK": true,
              "FLATTEN_COLUMN_VALUES": true,
              "FLATTEN_INDEX_VALUES": false,
              "GENERATE_DEX_METADATA": false,
              "HTML_TABLE_SCHEMA": false,
              "LOG_LEVEL": 30,
              "MAX_RENDER_SIZE_BYTES": 104857600,
              "MAX_STRING_LENGTH": 250,
              "NUM_PAST_SAMPLES_TRACKED": 3,
              "RANDOM_STATE": 12648430,
              "RESET_INDEX_VALUES": false,
              "ROW_SAMPLING_METHOD": "random",
              "SAMPLING_FACTOR": 0.1,
              "SAMPLING_METHOD": "random",
              "STRINGIFY_COLUMN_VALUES": true,
              "STRINGIFY_INDEX_VALUES": false
            },
            "sample_history": [],
            "sampling_time": "2023-11-27T18:16:43.412880",
            "user_variable_name": "df_ripple_gpt2",
            "variable_name": "df_ripple_gpt2"
          },
          "b730634b-4b6b-416e-b987-872171c5217e": {
            "applied_filters": [],
            "dataframe_info": {
              "default_index_used": true,
              "orig_num_cols": 2,
              "orig_num_rows": 229,
              "orig_size_bytes": 5496,
              "truncated_num_cols": 2,
              "truncated_num_rows": 229,
              "truncated_size_bytes": 5496,
              "truncated_string_columns": []
            },
            "display_id": "b730634b-4b6b-416e-b987-872171c5217e",
            "dx_settings": {
              "ALLOW_NOTEABLE_ATTRS": true,
              "COLUMN_SAMPLING_METHOD": "outer",
              "DB_LOCATION": ":memory:",
              "DEV_MODE": false,
              "DISPLAY_MAX_COLUMNS": 100,
              "DISPLAY_MAX_ROWS": 50000,
              "DISPLAY_MODE": "simple",
              "ENABLE_ASSIGNMENT": true,
              "ENABLE_DATALINK": true,
              "FLATTEN_COLUMN_VALUES": true,
              "FLATTEN_INDEX_VALUES": false,
              "GENERATE_DEX_METADATA": false,
              "HTML_TABLE_SCHEMA": false,
              "LOG_LEVEL": 30,
              "MAX_RENDER_SIZE_BYTES": 104857600,
              "MAX_STRING_LENGTH": 250,
              "NUM_PAST_SAMPLES_TRACKED": 3,
              "RANDOM_STATE": 12648430,
              "RESET_INDEX_VALUES": false,
              "ROW_SAMPLING_METHOD": "random",
              "SAMPLING_FACTOR": 0.1,
              "SAMPLING_METHOD": "random",
              "STRINGIFY_COLUMN_VALUES": true,
              "STRINGIFY_INDEX_VALUES": false
            },
            "sample_history": [],
            "sampling_time": "2023-11-27T18:40:37.969303",
            "user_variable_name": "df_ripple_gpt2",
            "variable_name": "df_ripple_gpt2"
          },
          "a62df323-c989-41b4-8999-693b7dc38d80": {
            "applied_filters": [],
            "dataframe_info": {
              "default_index_used": true,
              "orig_num_cols": 2,
              "orig_num_rows": 229,
              "orig_size_bytes": 5496,
              "truncated_num_cols": 2,
              "truncated_num_rows": 229,
              "truncated_size_bytes": 5496,
              "truncated_string_columns": []
            },
            "display_id": "a62df323-c989-41b4-8999-693b7dc38d80",
            "dx_settings": {
              "ALLOW_NOTEABLE_ATTRS": true,
              "COLUMN_SAMPLING_METHOD": "outer",
              "DB_LOCATION": ":memory:",
              "DEV_MODE": false,
              "DISPLAY_MAX_COLUMNS": 100,
              "DISPLAY_MAX_ROWS": 50000,
              "DISPLAY_MODE": "simple",
              "ENABLE_ASSIGNMENT": true,
              "ENABLE_DATALINK": true,
              "FLATTEN_COLUMN_VALUES": true,
              "FLATTEN_INDEX_VALUES": false,
              "GENERATE_DEX_METADATA": false,
              "HTML_TABLE_SCHEMA": false,
              "LOG_LEVEL": 30,
              "MAX_RENDER_SIZE_BYTES": 104857600,
              "MAX_STRING_LENGTH": 250,
              "NUM_PAST_SAMPLES_TRACKED": 3,
              "RANDOM_STATE": 12648430,
              "RESET_INDEX_VALUES": false,
              "ROW_SAMPLING_METHOD": "random",
              "SAMPLING_FACTOR": 0.1,
              "SAMPLING_METHOD": "random",
              "STRINGIFY_COLUMN_VALUES": true,
              "STRINGIFY_INDEX_VALUES": false
            },
            "sample_history": [],
            "sampling_time": "2023-11-27T19:22:37.806273",
            "user_variable_name": "df_ripple_gpt2",
            "variable_name": "df_ripple_gpt2"
          },
          "0d790944-7ade-46eb-99d1-bf966d5f9362": {
            "applied_filters": [],
            "dataframe_info": {
              "default_index_used": true,
              "orig_num_cols": 2,
              "orig_num_rows": 229,
              "orig_size_bytes": 5496,
              "truncated_num_cols": 2,
              "truncated_num_rows": 229,
              "truncated_size_bytes": 5496,
              "truncated_string_columns": []
            },
            "display_id": "0d790944-7ade-46eb-99d1-bf966d5f9362",
            "dx_settings": {
              "ALLOW_NOTEABLE_ATTRS": true,
              "COLUMN_SAMPLING_METHOD": "outer",
              "DB_LOCATION": ":memory:",
              "DEV_MODE": false,
              "DISPLAY_MAX_COLUMNS": 100,
              "DISPLAY_MAX_ROWS": 50000,
              "DISPLAY_MODE": "simple",
              "ENABLE_ASSIGNMENT": true,
              "ENABLE_DATALINK": true,
              "FLATTEN_COLUMN_VALUES": true,
              "FLATTEN_INDEX_VALUES": false,
              "GENERATE_DEX_METADATA": false,
              "HTML_TABLE_SCHEMA": false,
              "LOG_LEVEL": 30,
              "MAX_RENDER_SIZE_BYTES": 104857600,
              "MAX_STRING_LENGTH": 250,
              "NUM_PAST_SAMPLES_TRACKED": 3,
              "RANDOM_STATE": 12648430,
              "RESET_INDEX_VALUES": false,
              "ROW_SAMPLING_METHOD": "random",
              "SAMPLING_FACTOR": 0.1,
              "SAMPLING_METHOD": "random",
              "STRINGIFY_COLUMN_VALUES": true,
              "STRINGIFY_INDEX_VALUES": false
            },
            "sample_history": [],
            "sampling_time": "2023-11-28T10:11:07.842146",
            "user_variable_name": "df_ripple_gpt2",
            "variable_name": "df_ripple_gpt2"
          },
          "2facbfcb-ac33-4996-af44-4c17e13f179d": {
            "applied_filters": [],
            "dataframe_info": {
              "default_index_used": true,
              "orig_num_cols": 2,
              "orig_num_rows": 229,
              "orig_size_bytes": 5496,
              "truncated_num_cols": 2,
              "truncated_num_rows": 229,
              "truncated_size_bytes": 5496,
              "truncated_string_columns": []
            },
            "display_id": "2facbfcb-ac33-4996-af44-4c17e13f179d",
            "dx_settings": {
              "ALLOW_NOTEABLE_ATTRS": true,
              "COLUMN_SAMPLING_METHOD": "outer",
              "DB_LOCATION": ":memory:",
              "DEV_MODE": false,
              "DISPLAY_MAX_COLUMNS": 100,
              "DISPLAY_MAX_ROWS": 50000,
              "DISPLAY_MODE": "simple",
              "ENABLE_ASSIGNMENT": true,
              "ENABLE_DATALINK": true,
              "FLATTEN_COLUMN_VALUES": true,
              "FLATTEN_INDEX_VALUES": false,
              "GENERATE_DEX_METADATA": false,
              "HTML_TABLE_SCHEMA": false,
              "LOG_LEVEL": 30,
              "MAX_RENDER_SIZE_BYTES": 104857600,
              "MAX_STRING_LENGTH": 250,
              "NUM_PAST_SAMPLES_TRACKED": 3,
              "RANDOM_STATE": 12648430,
              "RESET_INDEX_VALUES": false,
              "ROW_SAMPLING_METHOD": "random",
              "SAMPLING_FACTOR": 0.1,
              "SAMPLING_METHOD": "random",
              "STRINGIFY_COLUMN_VALUES": true,
              "STRINGIFY_INDEX_VALUES": false
            },
            "sample_history": [],
            "sampling_time": "2023-11-29T18:25:34.778879",
            "user_variable_name": "df_ripple_gpt2",
            "variable_name": "df_ripple_gpt2"
          },
          "826f8472-edab-49b6-8f4f-e37c9f4495c5": {
            "applied_filters": [],
            "dataframe_info": {
              "default_index_used": true,
              "orig_num_cols": 2,
              "orig_num_rows": 229,
              "orig_size_bytes": 5496,
              "truncated_num_cols": 2,
              "truncated_num_rows": 229,
              "truncated_size_bytes": 5496,
              "truncated_string_columns": []
            },
            "display_id": "826f8472-edab-49b6-8f4f-e37c9f4495c5",
            "dx_settings": {
              "ALLOW_NOTEABLE_ATTRS": true,
              "COLUMN_SAMPLING_METHOD": "outer",
              "DB_LOCATION": ":memory:",
              "DEV_MODE": false,
              "DISPLAY_MAX_COLUMNS": 100,
              "DISPLAY_MAX_ROWS": 50000,
              "DISPLAY_MODE": "simple",
              "ENABLE_ASSIGNMENT": true,
              "ENABLE_DATALINK": true,
              "FLATTEN_COLUMN_VALUES": true,
              "FLATTEN_INDEX_VALUES": false,
              "GENERATE_DEX_METADATA": false,
              "HTML_TABLE_SCHEMA": false,
              "LOG_LEVEL": 30,
              "MAX_RENDER_SIZE_BYTES": 104857600,
              "MAX_STRING_LENGTH": 250,
              "NUM_PAST_SAMPLES_TRACKED": 3,
              "RANDOM_STATE": 12648430,
              "RESET_INDEX_VALUES": false,
              "ROW_SAMPLING_METHOD": "random",
              "SAMPLING_FACTOR": 0.1,
              "SAMPLING_METHOD": "random",
              "STRINGIFY_COLUMN_VALUES": true,
              "STRINGIFY_INDEX_VALUES": false
            },
            "sample_history": [],
            "sampling_time": "2023-11-29T19:54:12.182120",
            "user_variable_name": "df_ripple_gpt2",
            "variable_name": "df_ripple_gpt2"
          }
        }
      },
      "execution_count": null,
      "source": "df_ripple_gpt2 = df_clustering(gpt2_embedding)\ndf_ripple_gpt2",
      "outputs": []
    },
    {
      "id": "b5e494a4-07d8-48bb-a08d-907935bf90b9",
      "cell_type": "markdown",
      "source": "# Authorship attribution from embeddings",
      "metadata": {
        "noteable": {
          "cell_type": "markdown"
        }
      }
    },
    {
      "id": "641dfa63-b6ad-47bb-93f8-fb2d030c2fea",
      "cell_type": "markdown",
      "source": "TOP1 and TOP5 nearest neighbors in the GPT-2 embedding",
      "metadata": {
        "noteable": {
          "cell_type": "markdown"
        }
      }
    },
    {
      "id": "85514180-016f-480f-8641-1f0d1a390e9a",
      "cell_type": "code",
      "metadata": {
        "jupyter": {
          "outputs_hidden": false,
          "source_hidden": false
        },
        "noteable": {
          "cell_type": "code",
          "output_collection_id": "a880d2c5-b9e6-4b98-a93f-61fd39bba173"
        },
        "ExecuteTime": {
          "end_time": "2023-11-29T19:54:13.552298+00:00",
          "start_time": "2023-11-29T19:54:13.396198+00:00"
        }
      },
      "execution_count": null,
      "source": "#\n# Calculating TOP1 / TOP5 accuracy from nearest neighbours in the GPT-2 embedding\n#\ndef compute_accuracy(test_top_k):\n    top_1_counter = 0\n    top_k_counter = 0\n    #\n    n_categories = 1.0*len(test_top_k.keys())\n    #\n    for filename, results in test_top_k.items():\n        X = filename.split('_')[1]\n        n_tests = len(results)\n        for res in results:\n            y = res[0][0].split('_')[0]\n            top_1_counter += 1.0*(X==y) / n_tests\n            top_k_counter += any([X==y.split('_')[0] for y in res[0]]) / n_tests\n    top_1_acc = top_1_counter/n_categories\n    top_k_acc = top_k_counter/n_categories\n    return top_1_acc, top_k_acc",
      "outputs": []
    },
    {
      "id": "8d37bc72-31a6-44e7-8dc8-522abbde1b31",
      "cell_type": "code",
      "metadata": {
        "jupyter": {
          "outputs_hidden": false,
          "source_hidden": false
        },
        "noteable": {
          "cell_type": "code",
          "output_collection_id": "2ce992d6-c0e8-461e-904a-e217f4690702"
        },
        "ExecuteTime": {
          "end_time": "2023-11-29T19:54:13.766398+00:00",
          "start_time": "2023-11-29T19:54:13.609040+00:00"
        }
      },
      "execution_count": null,
      "source": "test_top_5 = test_text_files_in_sotu_directories(\".\", index, filenames, top_k=5)",
      "outputs": []
    },
    {
      "id": "856eaa76-d58a-4022-8b17-804f72b7a640",
      "cell_type": "code",
      "metadata": {
        "jupyter": {
          "outputs_hidden": false,
          "source_hidden": false
        },
        "noteable": {
          "cell_type": "code",
          "output_collection_id": "f95335d2-614a-4398-b8fd-f5dbe009a2ad"
        },
        "ExecuteTime": {
          "end_time": "2023-11-29T19:54:13.963306+00:00",
          "start_time": "2023-11-29T19:54:13.808604+00:00"
        }
      },
      "execution_count": null,
      "source": "#\n# TOP1 accuracy, TOP5 accuracy\n#\ntop_1_acc, top_5_acc = compute_accuracy(test_top_5)\nprint(f'Accuracy: TOP1 {top_1_acc}, TOP5 {top_5_acc}')",
      "outputs": []
    },
    {
      "id": "172557c9-1a3d-4203-a465-3c9902e2c2da",
      "cell_type": "markdown",
      "source": "TOP1 and TOP5 nearest neighbors after TriMAP: the Zeitgeist and general politics dominate authorship in temporal clustering",
      "metadata": {
        "noteable": {
          "cell_type": "markdown"
        }
      }
    },
    {
      "id": "0a1237f8-08e2-4f3f-8390-708cc98d05e8",
      "cell_type": "code",
      "metadata": {
        "jupyter": {
          "outputs_hidden": false,
          "source_hidden": false
        },
        "noteable": {
          "cell_type": "code",
          "output_collection_id": "e77c4a47-5abd-41ef-8d60-366d1724262b"
        },
        "ExecuteTime": {
          "end_time": "2023-11-29T19:54:14.164243+00:00",
          "start_time": "2023-11-29T19:54:14.008377+00:00"
        }
      },
      "execution_count": null,
      "source": "umap_index = faiss.IndexFlatL2(3)\numap_index.add(umap_3_embedding)\nprint(umap_index.ntotal, len(filenames), umap_index.is_trained)",
      "outputs": []
    },
    {
      "id": "1fc20b14-163a-47ec-a665-14b580b2dd61",
      "cell_type": "code",
      "metadata": {
        "jupyter": {
          "outputs_hidden": false,
          "source_hidden": false
        },
        "noteable": {
          "cell_type": "code",
          "output_collection_id": "6b268bda-28cc-4648-bc6c-c55703950d8d"
        },
        "ExecuteTime": {
          "end_time": "2023-11-29T19:54:14.365096+00:00",
          "start_time": "2023-11-29T19:54:14.208897+00:00"
        }
      },
      "execution_count": null,
      "source": "test_top_5_umap = test_text_files_in_sotu_directories(\".\", umap_index, filenames, top_k=5)",
      "outputs": []
    },
    {
      "id": "3946bd2f-c221-45f0-a672-3577a0c8467a",
      "cell_type": "code",
      "metadata": {
        "jupyter": {
          "outputs_hidden": false,
          "source_hidden": false
        },
        "noteable": {
          "cell_type": "code",
          "output_collection_id": "c12f9da8-a16d-4a89-abc2-7639434b208c"
        },
        "ExecuteTime": {
          "end_time": "2023-11-29T19:54:14.566416+00:00",
          "start_time": "2023-11-29T19:54:14.411006+00:00"
        }
      },
      "execution_count": null,
      "source": "#\n# TOP1 accuracy, TOP5 accuracy\n#\ntop_1_acc_umap, top_5_acc_umap = compute_accuracy(test_top_5_umap)\nprint(f'Accuracy: TOP1 {top_1_acc_umap}, TOP5 {top_5_acc_umap}')",
      "outputs": []
    }
  ]
}